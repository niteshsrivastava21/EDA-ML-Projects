{
 "cells": [
  {
   "cell_type": "code",
   "execution_count": 39,
   "metadata": {},
   "outputs": [
    {
     "name": "stdout",
     "output_type": "stream",
     "text": [
      "Requirement already satisfied: mysql-connector-python in c:\\programdata\\anaconda3\\lib\\site-packages (8.0.19)\n",
      "Requirement already satisfied: protobuf==3.6.1 in c:\\programdata\\anaconda3\\lib\\site-packages (from mysql-connector-python) (3.6.1)\n",
      "Requirement already satisfied: dnspython==1.16.0 in c:\\programdata\\anaconda3\\lib\\site-packages (from mysql-connector-python) (1.16.0)\n",
      "Requirement already satisfied: setuptools in c:\\programdata\\anaconda3\\lib\\site-packages (from protobuf==3.6.1->mysql-connector-python) (40.8.0)\n",
      "Requirement already satisfied: six>=1.9 in c:\\programdata\\anaconda3\\lib\\site-packages (from protobuf==3.6.1->mysql-connector-python) (1.12.0)\n",
      "Note: you may need to restart the kernel to use updated packages.\n"
     ]
    }
   ],
   "source": [
    "pip install mysql-connector-python"
   ]
  },
  {
   "cell_type": "code",
   "execution_count": 40,
   "metadata": {},
   "outputs": [
    {
     "name": "stdout",
     "output_type": "stream",
     "text": [
      "Requirement already satisfied: pymysql in c:\\programdata\\anaconda3\\lib\\site-packages (0.9.3)\n",
      "Note: you may need to restart the kernel to use updated packages.\n"
     ]
    }
   ],
   "source": [
    "pip install pymysql"
   ]
  },
  {
   "cell_type": "code",
   "execution_count": 1,
   "metadata": {},
   "outputs": [
    {
     "name": "stderr",
     "output_type": "stream",
     "text": [
      "C:\\Anaconda\\lib\\site-packages\\statsmodels\\tools\\_testing.py:19: FutureWarning: pandas.util.testing is deprecated. Use the functions in the public API at pandas.testing instead.\n",
      "  import pandas.util.testing as tm\n"
     ]
    }
   ],
   "source": [
    "import numpy as np\n",
    "import matplotlib.pyplot as plt                                    # Plotting library for Python programming language and it's numerical mathematics extension NumPy\\n\",\n",
    "import seaborn as sns                                              # Provides a high level interface for drawing attractive and informative statistical graphics\\n\",\n",
    "sns.set_style(\"dark\")\n",
    "sns.set()\n",
    "import dateutil.parser\n",
    "%matplotlib inline\n",
    "import pandas as pd\n",
    "import pymysql"
   ]
  },
  {
   "cell_type": "code",
   "execution_count": 2,
   "metadata": {},
   "outputs": [
    {
     "name": "stdout",
     "output_type": "stream",
     "text": [
      "MySQL connection is opened\n",
      "MySQL connection is closed\n"
     ]
    }
   ],
   "source": [
    "conn_cred = {'host': 'cpanel.insaid.co',\n",
    "             'username': 'student',\n",
    "             'password': 'student',\n",
    "             'db': 'Capstone2'}\n",
    "# Open database connection\\n\"\n",
    "conn = pymysql.connect(conn_cred['host'],conn_cred['username'],conn_cred['password'],conn_cred['db'])\n",
    "print(\"MySQL connection is opened\")\n",
    "conn.close()\n",
    "print(\"MySQL connection is closed\")"
   ]
  },
  {
   "cell_type": "code",
   "execution_count": 6,
   "metadata": {},
   "outputs": [
    {
     "name": "stdout",
     "output_type": "stream",
     "text": [
      "('department_data',)\n",
      "('employee_data',)\n",
      "('employee_details_data',)\n",
      "('model_evaluation_results',)\n",
      "('model_evaluation_table',)\n"
     ]
    }
   ],
   "source": [
    "#open connection\n",
    "conn = pymysql.connect(conn_cred['host'],conn_cred['username'],conn_cred['password'],conn_cred['db'])\n",
    "# open cursor\n",
    "cursor = conn.cursor()\n",
    "# query\n",
    "query = \"SELECT TABLE_NAME FROM INFORMATION_SCHEMA.TABLES WHERE table_schema ='Capstone2'\"\n",
    "# execute query\n",
    "cursor.execute(query)\n",
    "# fetch results\n",
    "result = cursor.fetchall()\n",
    "# print results\n",
    "for table in result:\n",
    "    print (table)\n",
    "# close connection\n",
    "conn.close()"
   ]
  },
  {
   "cell_type": "code",
   "execution_count": 4,
   "metadata": {},
   "outputs": [
    {
     "name": "stdout",
     "output_type": "stream",
     "text": [
      "   dept_id    dept_name              dept_head\n",
      "0   D00-IT           IT             Henry Adey\n",
      "1   D00-SS        Sales        Edward J Bayley\n",
      "2   D00-TP         Temp        Micheal Zachrey\n",
      "3  D00-ENG  Engineering  Sushant Raghunathan K\n",
      "4   D00-SP      Support         Amelia Westray\n",
      "MySQL connection is closed\n"
     ]
    }
   ],
   "source": [
    "#open connection\n",
    "conn = pymysql.connect(conn_cred['host'],conn_cred['username'],conn_cred['password'],conn_cred['db'])\n",
    "# open cursor\n",
    "cursor = conn.cursor()\n",
    "table1 = \"Select * from department_data\"\n",
    "cursor.execute(table1)\n",
    "result1 = cursor.fetchall()\n",
    "department_data_df = pd.read_sql(table1, conn)\n",
    "# for row in result1:\n",
    "#     print(row)\n",
    "print(department_data_df.head())\n",
    "cursor.close()\n",
    "conn.close()\n",
    "print(\"MySQL connection is closed\")"
   ]
  },
  {
   "cell_type": "code",
   "execution_count": 8,
   "metadata": {},
   "outputs": [],
   "source": [
    "department_data_df.to_csv(\"department_data.csv\")"
   ]
  },
  {
   "cell_type": "code",
   "execution_count": 13,
   "metadata": {},
   "outputs": [
    {
     "data": {
      "text/plain": [
       "11"
      ]
     },
     "execution_count": 13,
     "metadata": {},
     "output_type": "execute_result"
    }
   ],
   "source": [
    "len(department_data_df)"
   ]
  },
  {
   "cell_type": "code",
   "execution_count": 5,
   "metadata": {},
   "outputs": [
    {
     "name": "stdout",
     "output_type": "stream",
     "text": [
      "   employee_id  age  gender marital_status\n",
      "0       113558   43    Male        Married\n",
      "1       112256   24  Female      Unmarried\n",
      "2       112586   22  Female      Unmarried\n",
      "3       108071   36    Male        Married\n",
      "4       116915   38    Male        Married\n",
      "MySQL connection is closed\n"
     ]
    }
   ],
   "source": [
    "#open connection\n",
    "conn = pymysql.connect(conn_cred['host'],conn_cred['username'],conn_cred['password'],conn_cred['db'])\n",
    "# open cursor\n",
    "cursor = conn.cursor()\n",
    "table3 = \"Select * from employee_details_data\"\n",
    "cursor.execute(table3)\n",
    "result3 = cursor.fetchall()\n",
    "employee_details_data_df = pd.read_sql(table3, conn)\n",
    "# for row in result3:\n",
    "#     print(row)\n",
    "print(employee_details_data_df.head())\n",
    "cursor.close()\n",
    "conn.close()\n",
    "print(\"MySQL connection is closed\")"
   ]
  },
  {
   "cell_type": "code",
   "execution_count": 9,
   "metadata": {},
   "outputs": [],
   "source": [
    "employee_details_data_df.to_csv(\"employee_details_data.csv\")"
   ]
  },
  {
   "cell_type": "code",
   "execution_count": 12,
   "metadata": {},
   "outputs": [
    {
     "data": {
      "text/plain": [
       "14245"
      ]
     },
     "execution_count": 12,
     "metadata": {},
     "output_type": "execute_result"
    }
   ],
   "source": [
    "len(employee_details_data_df)"
   ]
  },
  {
   "cell_type": "code",
   "execution_count": 7,
   "metadata": {},
   "outputs": [
    {
     "name": "stdout",
     "output_type": "stream",
     "text": [
      "   avg_monthly_hrs department  filed_complaint  last_evaluation  n_projects  \\\n",
      "0            246.0       None              NaN         0.866838           6   \n",
      "1            134.0       None              NaN         0.555718           2   \n",
      "2            156.0     D00-SS              1.0         0.474082           2   \n",
      "3            256.0     D00-SP              NaN         0.961360           6   \n",
      "4            146.0     D00-SS              NaN         0.507349           2   \n",
      "\n",
      "   recently_promoted  salary  satisfaction status  tenure  employee_id  \n",
      "0                NaN  medium      0.134415   Left     4.0       124467  \n",
      "1                NaN     low      0.511041   Left     3.0       112210  \n",
      "2                NaN  medium      0.405101   Left     3.0       126150  \n",
      "3                NaN     low      0.152974   Left     4.0       125346  \n",
      "4                NaN  medium      0.434845   Left     3.0       113707  \n",
      "MySQL connection is closed\n"
     ]
    }
   ],
   "source": [
    "#open connection\n",
    "conn = pymysql.connect(conn_cred['host'],conn_cred['username'],conn_cred['password'],conn_cred['db'])\n",
    "# open cursor\n",
    "cursor = conn.cursor()\n",
    "table3 = \"Select * from employee_data\"\n",
    "cursor.execute(table3)\n",
    "result3 = cursor.fetchall()\n",
    "employee_data_df = pd.read_sql(table3, conn)\n",
    "# for row in result3:\n",
    "#     print(row)\n",
    "print(employee_data_df.head())\n",
    "cursor.close()\n",
    "conn.close()\n",
    "print(\"MySQL connection is closed\")"
   ]
  },
  {
   "cell_type": "code",
   "execution_count": 10,
   "metadata": {},
   "outputs": [],
   "source": [
    "employee_data_df.to_csv(\"employee_data.csv\")"
   ]
  },
  {
   "cell_type": "code",
   "execution_count": 11,
   "metadata": {},
   "outputs": [
    {
     "data": {
      "text/plain": [
       "14150"
      ]
     },
     "execution_count": 11,
     "metadata": {},
     "output_type": "execute_result"
    }
   ],
   "source": [
    "len(employee_data_df)"
   ]
  }
 ],
 "metadata": {
  "kernelspec": {
   "display_name": "Python 3",
   "language": "python",
   "name": "python3"
  },
  "language_info": {
   "codemirror_mode": {
    "name": "ipython",
    "version": 3
   },
   "file_extension": ".py",
   "mimetype": "text/x-python",
   "name": "python",
   "nbconvert_exporter": "python",
   "pygments_lexer": "ipython3",
   "version": "3.7.3"
  }
 },
 "nbformat": 4,
 "nbformat_minor": 2
}
