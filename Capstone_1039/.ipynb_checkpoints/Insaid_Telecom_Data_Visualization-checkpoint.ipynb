{
 "cells": [
  {
   "cell_type": "code",
   "execution_count": 1,
   "metadata": {},
   "outputs": [
    {
     "name": "stderr",
     "output_type": "stream",
     "text": [
      "C:\\Anaconda\\lib\\site-packages\\statsmodels\\tools\\_testing.py:19: FutureWarning: pandas.util.testing is deprecated. Use the functions in the public API at pandas.testing instead.\n",
      "  import pandas.util.testing as tm\n"
     ]
    }
   ],
   "source": [
    "import pandas as pd\n",
    "import numpy as np\n",
    "from ipywidgets import *\n",
    "#from ipywidgets import widgets, interactive\n",
    "import seaborn as sns\n",
    "from matplotlib.widgets import Button,Slider,CheckButtons\n",
    "from IPython.core.display import HTML"
   ]
  },
  {
   "cell_type": "code",
   "execution_count": 2,
   "metadata": {},
   "outputs": [],
   "source": [
    "mydateparser = lambda x: pd.datetime.strptime(x, \"%Y-%m-%d %H:%M:%S\")"
   ]
  },
  {
   "cell_type": "code",
   "execution_count": 3,
   "metadata": {},
   "outputs": [
    {
     "name": "stderr",
     "output_type": "stream",
     "text": [
      "C:\\Anaconda\\lib\\site-packages\\ipykernel_launcher.py:1: FutureWarning: The pandas.datetime class is deprecated and will be removed from pandas in a future version. Import from datetime module instead.\n",
      "  \"\"\"Entry point for launching an IPython kernel.\n"
     ]
    }
   ],
   "source": [
    "df_merger_all=pd.read_csv(\"merge_all.csv\", parse_dates=[\"timestamp\"], date_parser=mydateparser)"
   ]
  },
  {
   "cell_type": "code",
   "execution_count": 43,
   "metadata": {},
   "outputs": [],
   "source": [
    "# df_merger_all[\"Group Id\"]=1039"
   ]
  },
  {
   "cell_type": "code",
   "execution_count": 4,
   "metadata": {},
   "outputs": [
    {
     "data": {
      "text/plain": [
       "AndhraPradesh               233429\n",
       "Meghalaya                     1400\n",
       "Pondicherry                   1360\n",
       "AndamanandNicobarIslands      1302\n",
       "Mizoram                       1216\n",
       "HimachalPradesh                854\n",
       "Name: state, dtype: int64"
      ]
     },
     "execution_count": 4,
     "metadata": {},
     "output_type": "execute_result"
    }
   ],
   "source": [
    "df_merger_all.state.value_counts()"
   ]
  },
  {
   "cell_type": "code",
   "execution_count": 44,
   "metadata": {},
   "outputs": [],
   "source": [
    "df_merger_all.to_csv(\"merge_all - Copy.csv\",index=False)"
   ]
  },
  {
   "cell_type": "code",
   "execution_count": 4,
   "metadata": {
    "scrolled": true
   },
   "outputs": [
    {
     "data": {
      "text/plain": [
       "(239561, 13)"
      ]
     },
     "execution_count": 4,
     "metadata": {},
     "output_type": "execute_result"
    }
   ],
   "source": [
    "df_merger_all.shape"
   ]
  },
  {
   "cell_type": "code",
   "execution_count": 5,
   "metadata": {},
   "outputs": [
    {
     "data": {
      "text/plain": [
       "Unnamed: 0      0\n",
       "device_id       0\n",
       "gender          0\n",
       "age             0\n",
       "group           0\n",
       "phone_brand     0\n",
       "device_model    0\n",
       "event_id        0\n",
       "timestamp       0\n",
       "city            0\n",
       "state           0\n",
       "longitude       0\n",
       "latitude        0\n",
       "dtype: int64"
      ]
     },
     "execution_count": 5,
     "metadata": {},
     "output_type": "execute_result"
    }
   ],
   "source": [
    "df_merger_all.isnull().sum()"
   ]
  },
  {
   "cell_type": "code",
   "execution_count": 6,
   "metadata": {},
   "outputs": [],
   "source": [
    "state_list= [\"AndhraPradesh\", \"Pondicherry\", \"Mizoram\", \"AndamanandNicobarIslands\", \"Meghalaya\", \"HimachalPradesh\"]"
   ]
  },
  {
   "cell_type": "code",
   "execution_count": 6,
   "metadata": {
    "scrolled": true
   },
   "outputs": [
    {
     "data": {
      "text/html": [
       "<div>\n",
       "<style scoped>\n",
       "    .dataframe tbody tr th:only-of-type {\n",
       "        vertical-align: middle;\n",
       "    }\n",
       "\n",
       "    .dataframe tbody tr th {\n",
       "        vertical-align: top;\n",
       "    }\n",
       "\n",
       "    .dataframe thead th {\n",
       "        text-align: right;\n",
       "    }\n",
       "</style>\n",
       "<table border=\"1\" class=\"dataframe\">\n",
       "  <thead>\n",
       "    <tr style=\"text-align: right;\">\n",
       "      <th></th>\n",
       "      <th>Unnamed: 0</th>\n",
       "      <th>device_id</th>\n",
       "      <th>gender</th>\n",
       "      <th>age</th>\n",
       "      <th>group</th>\n",
       "      <th>phone_brand</th>\n",
       "      <th>device_model</th>\n",
       "      <th>event_id</th>\n",
       "      <th>timestamp</th>\n",
       "      <th>city</th>\n",
       "      <th>state</th>\n",
       "      <th>longitude</th>\n",
       "      <th>latitude</th>\n",
       "    </tr>\n",
       "  </thead>\n",
       "  <tbody>\n",
       "    <tr>\n",
       "      <th>1</th>\n",
       "      <td>1</td>\n",
       "      <td>-1.039701e+18</td>\n",
       "      <td>M</td>\n",
       "      <td>38</td>\n",
       "      <td>M32-38</td>\n",
       "      <td>Xiaomi</td>\n",
       "      <td>MI 4</td>\n",
       "      <td>66535.0</td>\n",
       "      <td>2016-05-06 02:53:29</td>\n",
       "      <td>Visakhapatnam</td>\n",
       "      <td>AndhraPradesh</td>\n",
       "      <td>83.364566</td>\n",
       "      <td>17.788503</td>\n",
       "    </tr>\n",
       "    <tr>\n",
       "      <th>2</th>\n",
       "      <td>2</td>\n",
       "      <td>-1.039701e+18</td>\n",
       "      <td>M</td>\n",
       "      <td>38</td>\n",
       "      <td>M32-38</td>\n",
       "      <td>Xiaomi</td>\n",
       "      <td>MI 4</td>\n",
       "      <td>142256.0</td>\n",
       "      <td>2016-05-06 10:42:02</td>\n",
       "      <td>Visakhapatnam</td>\n",
       "      <td>AndhraPradesh</td>\n",
       "      <td>83.364566</td>\n",
       "      <td>17.788503</td>\n",
       "    </tr>\n",
       "    <tr>\n",
       "      <th>3</th>\n",
       "      <td>3</td>\n",
       "      <td>-1.039701e+18</td>\n",
       "      <td>M</td>\n",
       "      <td>38</td>\n",
       "      <td>M32-38</td>\n",
       "      <td>Xiaomi</td>\n",
       "      <td>MI 4</td>\n",
       "      <td>162135.0</td>\n",
       "      <td>2016-05-07 01:48:44</td>\n",
       "      <td>Visakhapatnam</td>\n",
       "      <td>AndhraPradesh</td>\n",
       "      <td>83.364566</td>\n",
       "      <td>17.788503</td>\n",
       "    </tr>\n",
       "    <tr>\n",
       "      <th>4</th>\n",
       "      <td>4</td>\n",
       "      <td>-1.039701e+18</td>\n",
       "      <td>M</td>\n",
       "      <td>38</td>\n",
       "      <td>M32-38</td>\n",
       "      <td>Xiaomi</td>\n",
       "      <td>MI 4</td>\n",
       "      <td>172479.0</td>\n",
       "      <td>2016-05-03 10:46:20</td>\n",
       "      <td>Visakhapatnam</td>\n",
       "      <td>AndhraPradesh</td>\n",
       "      <td>83.364566</td>\n",
       "      <td>17.788503</td>\n",
       "    </tr>\n",
       "    <tr>\n",
       "      <th>5</th>\n",
       "      <td>5</td>\n",
       "      <td>-1.039701e+18</td>\n",
       "      <td>M</td>\n",
       "      <td>38</td>\n",
       "      <td>M32-38</td>\n",
       "      <td>Xiaomi</td>\n",
       "      <td>MI 4</td>\n",
       "      <td>177903.0</td>\n",
       "      <td>2016-05-05 14:39:56</td>\n",
       "      <td>Visakhapatnam</td>\n",
       "      <td>AndhraPradesh</td>\n",
       "      <td>83.364566</td>\n",
       "      <td>17.788503</td>\n",
       "    </tr>\n",
       "    <tr>\n",
       "      <th>...</th>\n",
       "      <td>...</td>\n",
       "      <td>...</td>\n",
       "      <td>...</td>\n",
       "      <td>...</td>\n",
       "      <td>...</td>\n",
       "      <td>...</td>\n",
       "      <td>...</td>\n",
       "      <td>...</td>\n",
       "      <td>...</td>\n",
       "      <td>...</td>\n",
       "      <td>...</td>\n",
       "      <td>...</td>\n",
       "      <td>...</td>\n",
       "    </tr>\n",
       "    <tr>\n",
       "      <th>239555</th>\n",
       "      <td>239555</td>\n",
       "      <td>6.710249e+18</td>\n",
       "      <td>F</td>\n",
       "      <td>20</td>\n",
       "      <td>F23-</td>\n",
       "      <td>Coolpad</td>\n",
       "      <td>F2</td>\n",
       "      <td>3063136.0</td>\n",
       "      <td>2016-05-05 06:08:36</td>\n",
       "      <td>Visakhapatnam</td>\n",
       "      <td>AndhraPradesh</td>\n",
       "      <td>83.372853</td>\n",
       "      <td>17.765826</td>\n",
       "    </tr>\n",
       "    <tr>\n",
       "      <th>239556</th>\n",
       "      <td>239556</td>\n",
       "      <td>6.710249e+18</td>\n",
       "      <td>F</td>\n",
       "      <td>20</td>\n",
       "      <td>F23-</td>\n",
       "      <td>Coolpad</td>\n",
       "      <td>F2</td>\n",
       "      <td>3107229.0</td>\n",
       "      <td>2016-05-02 07:18:18</td>\n",
       "      <td>Visakhapatnam</td>\n",
       "      <td>AndhraPradesh</td>\n",
       "      <td>83.372853</td>\n",
       "      <td>17.765826</td>\n",
       "    </tr>\n",
       "    <tr>\n",
       "      <th>239557</th>\n",
       "      <td>239557</td>\n",
       "      <td>6.710249e+18</td>\n",
       "      <td>F</td>\n",
       "      <td>20</td>\n",
       "      <td>F23-</td>\n",
       "      <td>Coolpad</td>\n",
       "      <td>F2</td>\n",
       "      <td>3131978.0</td>\n",
       "      <td>2016-05-06 06:26:41</td>\n",
       "      <td>Visakhapatnam</td>\n",
       "      <td>AndhraPradesh</td>\n",
       "      <td>83.372853</td>\n",
       "      <td>17.765826</td>\n",
       "    </tr>\n",
       "    <tr>\n",
       "      <th>239558</th>\n",
       "      <td>239558</td>\n",
       "      <td>6.710249e+18</td>\n",
       "      <td>F</td>\n",
       "      <td>20</td>\n",
       "      <td>F23-</td>\n",
       "      <td>Coolpad</td>\n",
       "      <td>F2</td>\n",
       "      <td>3131979.0</td>\n",
       "      <td>2016-05-06 06:27:00</td>\n",
       "      <td>Visakhapatnam</td>\n",
       "      <td>AndhraPradesh</td>\n",
       "      <td>83.372853</td>\n",
       "      <td>17.765826</td>\n",
       "    </tr>\n",
       "    <tr>\n",
       "      <th>239559</th>\n",
       "      <td>239559</td>\n",
       "      <td>6.710249e+18</td>\n",
       "      <td>F</td>\n",
       "      <td>20</td>\n",
       "      <td>F23-</td>\n",
       "      <td>Coolpad</td>\n",
       "      <td>F2</td>\n",
       "      <td>3175058.0</td>\n",
       "      <td>2016-05-04 17:04:39</td>\n",
       "      <td>Visakhapatnam</td>\n",
       "      <td>AndhraPradesh</td>\n",
       "      <td>83.372853</td>\n",
       "      <td>17.765826</td>\n",
       "    </tr>\n",
       "  </tbody>\n",
       "</table>\n",
       "<p>235695 rows × 13 columns</p>\n",
       "</div>"
      ],
      "text/plain": [
       "        Unnamed: 0     device_id gender  age   group phone_brand device_model  \\\n",
       "1                1 -1.039701e+18      M   38  M32-38      Xiaomi         MI 4   \n",
       "2                2 -1.039701e+18      M   38  M32-38      Xiaomi         MI 4   \n",
       "3                3 -1.039701e+18      M   38  M32-38      Xiaomi         MI 4   \n",
       "4                4 -1.039701e+18      M   38  M32-38      Xiaomi         MI 4   \n",
       "5                5 -1.039701e+18      M   38  M32-38      Xiaomi         MI 4   \n",
       "...            ...           ...    ...  ...     ...         ...          ...   \n",
       "239555      239555  6.710249e+18      F   20    F23-     Coolpad           F2   \n",
       "239556      239556  6.710249e+18      F   20    F23-     Coolpad           F2   \n",
       "239557      239557  6.710249e+18      F   20    F23-     Coolpad           F2   \n",
       "239558      239558  6.710249e+18      F   20    F23-     Coolpad           F2   \n",
       "239559      239559  6.710249e+18      F   20    F23-     Coolpad           F2   \n",
       "\n",
       "         event_id           timestamp           city          state  \\\n",
       "1         66535.0 2016-05-06 02:53:29  Visakhapatnam  AndhraPradesh   \n",
       "2        142256.0 2016-05-06 10:42:02  Visakhapatnam  AndhraPradesh   \n",
       "3        162135.0 2016-05-07 01:48:44  Visakhapatnam  AndhraPradesh   \n",
       "4        172479.0 2016-05-03 10:46:20  Visakhapatnam  AndhraPradesh   \n",
       "5        177903.0 2016-05-05 14:39:56  Visakhapatnam  AndhraPradesh   \n",
       "...           ...                 ...            ...            ...   \n",
       "239555  3063136.0 2016-05-05 06:08:36  Visakhapatnam  AndhraPradesh   \n",
       "239556  3107229.0 2016-05-02 07:18:18  Visakhapatnam  AndhraPradesh   \n",
       "239557  3131978.0 2016-05-06 06:26:41  Visakhapatnam  AndhraPradesh   \n",
       "239558  3131979.0 2016-05-06 06:27:00  Visakhapatnam  AndhraPradesh   \n",
       "239559  3175058.0 2016-05-04 17:04:39  Visakhapatnam  AndhraPradesh   \n",
       "\n",
       "        longitude   latitude  \n",
       "1       83.364566  17.788503  \n",
       "2       83.364566  17.788503  \n",
       "3       83.364566  17.788503  \n",
       "4       83.364566  17.788503  \n",
       "5       83.364566  17.788503  \n",
       "...           ...        ...  \n",
       "239555  83.372853  17.765826  \n",
       "239556  83.372853  17.765826  \n",
       "239557  83.372853  17.765826  \n",
       "239558  83.372853  17.765826  \n",
       "239559  83.372853  17.765826  \n",
       "\n",
       "[235695 rows x 13 columns]"
      ]
     },
     "execution_count": 6,
     "metadata": {},
     "output_type": "execute_result"
    }
   ],
   "source": [
    "df_merger_all[df_merger_all.duplicated(subset=[\"device_id\"])]"
   ]
  },
  {
   "cell_type": "code",
   "execution_count": 5,
   "metadata": {
    "scrolled": true
   },
   "outputs": [],
   "source": [
    "df_merge_non_duplicated=df_merger_all.drop_duplicates(subset=[\"device_id\"])"
   ]
  },
  {
   "cell_type": "code",
   "execution_count": 8,
   "metadata": {
    "scrolled": true
   },
   "outputs": [
    {
     "data": {
      "text/plain": [
       "(239561, 13)"
      ]
     },
     "execution_count": 8,
     "metadata": {},
     "output_type": "execute_result"
    }
   ],
   "source": [
    "df_merger_all.shape"
   ]
  },
  {
   "cell_type": "code",
   "execution_count": 6,
   "metadata": {},
   "outputs": [
    {
     "data": {
      "text/plain": [
       "(3866, 13)"
      ]
     },
     "execution_count": 6,
     "metadata": {},
     "output_type": "execute_result"
    }
   ],
   "source": [
    "df_merge_non_duplicated.shape"
   ]
  },
  {
   "cell_type": "code",
   "execution_count": null,
   "metadata": {},
   "outputs": [],
   "source": [
    "df_merge_non_duplicated.to_csv(\"non_duplicated_mergeall.csv\",index=False)"
   ]
  },
  {
   "cell_type": "code",
   "execution_count": 10,
   "metadata": {},
   "outputs": [],
   "source": [
    "# Make a dropdown to select the Area, or \"All\"\n",
    "area = widgets.Dropdown(\n",
    "    options=['All Relevant States'] + list(df_merge_non_duplicated['state'].unique()),\n",
    "    value='All Relevant States',\n",
    "    description='State:',\n",
    ")"
   ]
  },
  {
   "cell_type": "code",
   "execution_count": 11,
   "metadata": {},
   "outputs": [],
   "source": [
    "# Make a dropdown to select the Area, or \"All\"\n",
    "area_hrly = widgets.Dropdown(\n",
    "    options=['All Relevant States'] + list(df_merge_non_duplicated['state'].unique()),\n",
    "    value='All Relevant States',\n",
    "    description='State:',\n",
    ")"
   ]
  },
  {
   "cell_type": "code",
   "execution_count": 12,
   "metadata": {},
   "outputs": [],
   "source": [
    "# Make a dropdown to select the Area, or \"All\"\n",
    "area_user_distribution = widgets.Dropdown(\n",
    "    options=['All Relevant States'] + list(df_merge_non_duplicated['state'].unique()),\n",
    "    value='All Relevant States',\n",
    "    description='State:',\n",
    ")"
   ]
  },
  {
   "cell_type": "code",
   "execution_count": 13,
   "metadata": {},
   "outputs": [],
   "source": [
    "area_user_based_on_phone_brand = widgets.Dropdown(\n",
    "    options=['All Relevant States'] + list(df_merge_non_duplicated['state'].unique()),\n",
    "    value='All Relevant States',\n",
    "    description='State:',\n",
    ")"
   ]
  },
  {
   "cell_type": "code",
   "execution_count": 14,
   "metadata": {},
   "outputs": [],
   "source": [
    "def plot_event_date(area):\n",
    "    if(area=='All Relevant States'):\n",
    "          display(HTML(\"<b>Number of Events for <span style='color:red'>'{0}'</span> : {1}</b>\".format(area,df_merger_all.shape[0])))\n",
    "    else:\n",
    "          display(HTML(\"<b>Number of Events for <span style='color:red'>'{0}'</span> : {1}</b>\".format(area,df_merger_all[df_merger_all.state==area].shape[0])))\n",
    "\n",
    "        "
   ]
  },
  {
   "cell_type": "code",
   "execution_count": 15,
   "metadata": {
    "scrolled": true
   },
   "outputs": [
    {
     "data": {
      "application/vnd.jupyter.widget-view+json": {
       "model_id": "746ec65d883140108cd4156701750236",
       "version_major": 2,
       "version_minor": 0
      },
      "text/plain": [
       "interactive(children=(Dropdown(description='State:', options=('All Relevant States', 'AndhraPradesh', 'Meghala…"
      ]
     },
     "metadata": {},
     "output_type": "display_data"
    }
   ],
   "source": [
    "interactive(plot_event_date,area=area)"
   ]
  },
  {
   "cell_type": "code",
   "execution_count": 21,
   "metadata": {},
   "outputs": [],
   "source": [
    "def plot_user_distribution_date(area):\n",
    "    if(area=='All Relevant States'):\n",
    "        ax=df_merge_non_duplicated.groupby(\"state\").count()[\"device_id\"].sort_values().plot(kind=\"bar\")\n",
    "        plt.title(\"Distribution of Customers State-wise\")\n",
    "#         for p in ax.patches:\n",
    "#             ax.annotate('{:.1f}'.format(p.get_height()), (p.get_x()+.1, p.get_height()/2))\n",
    "        \n",
    "    else:\n",
    "        ax=df_merge_non_duplicated[df_merge_non_duplicated.state==area].groupby(\"state\").count()[\"device_id\"].sort_values().plot(kind=\"bar\")\n",
    "        plt.title(\"Distribution of Customers for : {0}\".format(area))\n",
    "#         for p in ax.patches:\n",
    "#              ax.annotate('{:.1f}'.format(p.get_height()), (p.get_x()+.1, p.get_height()/2))\n",
    "        "
   ]
  },
  {
   "cell_type": "code",
   "execution_count": 22,
   "metadata": {
    "scrolled": false
   },
   "outputs": [
    {
     "data": {
      "application/vnd.jupyter.widget-view+json": {
       "model_id": "38f444780d874e4e82689fca9a442087",
       "version_major": 2,
       "version_minor": 0
      },
      "text/plain": [
       "interactive(children=(Dropdown(description='State:', options=('All Relevant States', 'AndhraPradesh', 'Meghala…"
      ]
     },
     "metadata": {},
     "output_type": "display_data"
    }
   ],
   "source": [
    "interactive(plot_user_distribution_date,area=area_user_distribution)\n"
   ]
  },
  {
   "cell_type": "code",
   "execution_count": 23,
   "metadata": {},
   "outputs": [],
   "source": [
    " df_merger_all_index_time=df_merger_all.set_index('timestamp')"
   ]
  },
  {
   "cell_type": "code",
   "execution_count": 24,
   "metadata": {},
   "outputs": [],
   "source": [
    "def plot_hrly_distribution_state(area):\n",
    "   \n",
    "    display(HTML(\"<b>Hourly distribution for <span style='color:red'>{}</span </b>:\".format(area)))\n",
    "    if(area=='All Relevant States'):  \n",
    "            fig, ax = plt.subplots(figsize=(100,12))\n",
    "            df_merger_all_index_time.groupby([pd.Grouper(freq='H')])[\"event_id\"].count().plot(kind=\"bar\",ax=ax)\n",
    "            plt.xlabel(\"Timestamp\")\n",
    "            plt.ylabel(\"# of events\")\n",
    "            plt.legend(\"Hourly distribution for {} :\".format(area))\n",
    "            plt.show()\n",
    "    else:\n",
    "            \n",
    "            fig, ax = plt.subplots(figsize=(100,12))\n",
    "            df_merger_all_index_time[df_merger_all_index_time.state==area].groupby([pd.Grouper(freq='H')])[\"event_id\"].count().plot(kind=\"bar\",ax=ax)\n",
    "            plt.xlabel(\"Timestamp\")\n",
    "            plt.ylabel(\"# of events\")\n",
    "          "
   ]
  },
  {
   "cell_type": "code",
   "execution_count": 25,
   "metadata": {
    "scrolled": false
   },
   "outputs": [
    {
     "data": {
      "application/vnd.jupyter.widget-view+json": {
       "model_id": "910891957314432398ad0439f946228c",
       "version_major": 2,
       "version_minor": 0
      },
      "text/plain": [
       "interactive(children=(Dropdown(description='State:', options=('All Relevant States', 'AndhraPradesh', 'Meghala…"
      ]
     },
     "metadata": {},
     "output_type": "display_data"
    }
   ],
   "source": [
    "interactive(plot_hrly_distribution_state,area=area_hrly)\n"
   ]
  },
  {
   "cell_type": "code",
   "execution_count": 28,
   "metadata": {},
   "outputs": [],
   "source": [
    "def plot_user_based_on_phone_brand(area):\n",
    "   \n",
    "    display(HTML(\"<b>User distribution based Phone Brand for <span style='color:red'>{}</span </b>:\".format(area)))\n",
    "    if(area=='All Relevant States'):  \n",
    "            ax=df_merge_non_duplicated.phone_brand.value_counts().nlargest(10).plot(kind=\"bar\")\n",
    "    else:            \n",
    "            ax=df_merge_non_duplicated[df_merge_non_duplicated.state==area].phone_brand.value_counts().nlargest(10).plot(kind=\"bar\")\n",
    "#     for p in ax.patches:\n",
    "#              ax.annotate('{:.1f}'.format(p.get_height()), (p.get_x()+.1, p.get_height()/2))\n",
    "            \n",
    "          "
   ]
  },
  {
   "cell_type": "code",
   "execution_count": 29,
   "metadata": {},
   "outputs": [
    {
     "data": {
      "application/vnd.jupyter.widget-view+json": {
       "model_id": "0d8530aaa3b942489fddfb4fc45aeae0",
       "version_major": 2,
       "version_minor": 0
      },
      "text/plain": [
       "interactive(children=(Dropdown(description='State:', options=('All Relevant States', 'AndhraPradesh', 'Meghala…"
      ]
     },
     "metadata": {},
     "output_type": "display_data"
    }
   ],
   "source": [
    "interactive(plot_user_based_on_phone_brand,area=area_user_based_on_phone_brand)"
   ]
  },
  {
   "cell_type": "code",
   "execution_count": 30,
   "metadata": {},
   "outputs": [],
   "source": [
    "area_gender_based_state = widgets.Dropdown(\n",
    "    options=['All Relevant States'] + list(df_merge_non_duplicated['state'].unique()),\n",
    "    value='All Relevant States',\n",
    "    description='State:',\n",
    ")"
   ]
  },
  {
   "cell_type": "code",
   "execution_count": 35,
   "metadata": {},
   "outputs": [],
   "source": [
    "def plot_gender_distribution_state(area):\n",
    "    if(area=='All Relevant States'):  \n",
    "           ax=sns.countplot(data=df_merge_non_duplicated,x=\"gender\", order=[\"M\",\"F\"])\n",
    "    else:\n",
    "           ax=sns.countplot(data=df_merge_non_duplicated[df_merge_non_duplicated.state==area],x=\"gender\", order=[\"M\",\"F\"])\n",
    "#     for p in ax.patches:\n",
    "#              ax.annotate('{:.1f}'.format(p.get_height()), (p.get_x()+.3, p.get_height()/2))\n",
    "          "
   ]
  },
  {
   "cell_type": "code",
   "execution_count": 36,
   "metadata": {
    "scrolled": true
   },
   "outputs": [
    {
     "data": {
      "application/vnd.jupyter.widget-view+json": {
       "model_id": "52aa16537dc94093a64fda8fffb808f9",
       "version_major": 2,
       "version_minor": 0
      },
      "text/plain": [
       "interactive(children=(Dropdown(description='State:', index=2, options=('All Relevant States', 'AndhraPradesh',…"
      ]
     },
     "metadata": {},
     "output_type": "display_data"
    }
   ],
   "source": [
    "interactive(plot_gender_distribution_state,area=area_gender_based_state)"
   ]
  },
  {
   "cell_type": "code",
   "execution_count": 37,
   "metadata": {},
   "outputs": [],
   "source": [
    "def define_age(row):\n",
    "    if row[\"age\"] <= 22:\n",
    "        return \"22-\"\n",
    "    elif (row[\"age\"] >= 23) & (row[\"age\"] <= 26):\n",
    "        return \"23-26\"\n",
    "    elif (row[\"age\"] >= 27) & (row[\"age\"] <= 28):\n",
    "        return \"27-28\"\n",
    "    elif (row[\"age\"] >= 29) & (row[\"age\"] <= 32):\n",
    "        return \"29-32\"\n",
    "    elif (row[\"age\"] >= 33) & (row[\"age\"] <= 38):\n",
    "        return \"33-38\"\n",
    "    elif row[\"age\"] >= 39:\n",
    "        return \"39+\"\n",
    "         "
   ]
  },
  {
   "cell_type": "code",
   "execution_count": 38,
   "metadata": {
    "scrolled": true
   },
   "outputs": [
    {
     "name": "stderr",
     "output_type": "stream",
     "text": [
      "C:\\Anaconda\\lib\\site-packages\\ipykernel_launcher.py:1: SettingWithCopyWarning: \n",
      "A value is trying to be set on a copy of a slice from a DataFrame.\n",
      "Try using .loc[row_indexer,col_indexer] = value instead\n",
      "\n",
      "See the caveats in the documentation: http://pandas.pydata.org/pandas-docs/stable/user_guide/indexing.html#returning-a-view-versus-a-copy\n",
      "  \"\"\"Entry point for launching an IPython kernel.\n"
     ]
    }
   ],
   "source": [
    "df_merge_non_duplicated[\"Age_Group\"]=df_merge_non_duplicated.apply(define_age,axis=1)"
   ]
  },
  {
   "cell_type": "code",
   "execution_count": 39,
   "metadata": {
    "scrolled": true
   },
   "outputs": [],
   "source": [
    "area_age_grp_based_state = widgets.Dropdown(\n",
    "    options=['All Relevant States'] + list(df_merge_non_duplicated['state'].unique()),\n",
    "    value='All Relevant States',\n",
    "    description='State:',\n",
    ")"
   ]
  },
  {
   "cell_type": "code",
   "execution_count": 40,
   "metadata": {},
   "outputs": [],
   "source": [
    "def plot_age_grp_distribution_state(area):\n",
    "    if(area=='All Relevant States'):  \n",
    "           ax=sns.countplot(data=df_merge_non_duplicated,x=\"Age_Group\", order = df_merge_non_duplicated['Age_Group'].value_counts().index)\n",
    "    else:\n",
    "           ax=sns.countplot(data=df_merge_non_duplicated[df_merge_non_duplicated.state==area],x=\"Age_Group\", order = df_merge_non_duplicated['Age_Group'].value_counts().index)\n",
    "#     ax.annotate('{:.1f}'.format(p.get_height()), (p.get_x()+.2, p.get_height()/2))\n",
    "    plt.ylabel(\"# users\")\n",
    "    plt.xlabel(\"Age Group\")          "
   ]
  },
  {
   "cell_type": "code",
   "execution_count": 41,
   "metadata": {
    "scrolled": true
   },
   "outputs": [
    {
     "data": {
      "application/vnd.jupyter.widget-view+json": {
       "model_id": "951d995f1c2a423d9a51d8c16a713915",
       "version_major": 2,
       "version_minor": 0
      },
      "text/plain": [
       "interactive(children=(Dropdown(description='State:', options=('All Relevant States', 'AndhraPradesh', 'Meghala…"
      ]
     },
     "metadata": {},
     "output_type": "display_data"
    }
   ],
   "source": [
    "interactive(plot_age_grp_distribution_state,area=area_age_grp_based_state)"
   ]
  },
  {
   "cell_type": "code",
   "execution_count": 181,
   "metadata": {},
   "outputs": [
    {
     "data": {
      "text/html": [
       "        <script type=\"text/javascript\">\n",
       "        window.PlotlyConfig = {MathJaxConfig: 'local'};\n",
       "        if (window.MathJax) {MathJax.Hub.Config({SVG: {font: \"STIX-Web\"}});}\n",
       "        if (typeof require !== 'undefined') {\n",
       "        require.undef(\"plotly\");\n",
       "        requirejs.config({\n",
       "            paths: {\n",
       "                'plotly': ['https://cdn.plot.ly/plotly-latest.min']\n",
       "            }\n",
       "        });\n",
       "        require(['plotly'], function(Plotly) {\n",
       "            window._Plotly = Plotly;\n",
       "        });\n",
       "        }\n",
       "        </script>\n",
       "        "
      ]
     },
     "metadata": {},
     "output_type": "display_data"
    }
   ],
   "source": [
    "from plotly.offline import init_notebook_mode, iplot\n",
    "import plotly.graph_objs as go\n",
    "import chart_studio.plotly as py\n",
    "from plotly import tools\n",
    "init_notebook_mode(connected=True)"
   ]
  }
 ],
 "metadata": {
  "kernelspec": {
   "display_name": "Python 3",
   "language": "python",
   "name": "python3"
  },
  "language_info": {
   "codemirror_mode": {
    "name": "ipython",
    "version": 3
   },
   "file_extension": ".py",
   "mimetype": "text/x-python",
   "name": "python",
   "nbconvert_exporter": "python",
   "pygments_lexer": "ipython3",
   "version": "3.7.3"
  }
 },
 "nbformat": 4,
 "nbformat_minor": 2
}
