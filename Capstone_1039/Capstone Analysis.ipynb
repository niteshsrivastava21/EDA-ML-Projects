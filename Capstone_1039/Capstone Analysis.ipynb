{
 "cells": [
  {
   "cell_type": "code",
   "execution_count": 38,
   "metadata": {},
   "outputs": [],
   "source": [
    "import pandas as pd\n",
    "import chart_studio.plotly as py"
   ]
  },
  {
   "cell_type": "code",
   "execution_count": 23,
   "metadata": {},
   "outputs": [],
   "source": [
    "df_even_data= pd.read_csv(\"Modified_Event_Data_final.csv\", dtype={\"device_id\":str})"
   ]
  },
  {
   "cell_type": "code",
   "execution_count": 24,
   "metadata": {
    "collapsed": true
   },
   "outputs": [
    {
     "data": {
      "text/plain": [
       "newState\n",
       "AndamanandNicobarIslands      1515\n",
       "Andhra Pradesh                  47\n",
       "AndhraPradesh               321263\n",
       "ArunachalPradesh               608\n",
       "Assam                        12021\n",
       "Bihar                        35472\n",
       "Chandigarh                     894\n",
       "Chhattisgarh                  9754\n",
       "Delhi                       751687\n",
       "Goa                           3250\n",
       "Gujarat                      42849\n",
       "Haryana                      21053\n",
       "HimachalPradesh               1409\n",
       "JammuandKashmir               5385\n",
       "Jharkhand                    18060\n",
       "Karnataka                    99072\n",
       "Kerala                       23148\n",
       "Madhya Pradesh                  51\n",
       "MadhyaPradesh               232639\n",
       "Maharashtra                 677096\n",
       "Manipur                        989\n",
       "Meghalaya                     1515\n",
       "Mizoram                       1613\n",
       "Nagaland                      2298\n",
       "Orissa                       15904\n",
       "Pondicherry                   1741\n",
       "Punjab                       26179\n",
       "Rajasthan                   196329\n",
       "Tamil Nadu                      47\n",
       "TamilNadu                   436219\n",
       "Telangana                    12784\n",
       "Tripura                        892\n",
       "Uttar Pradesh                   41\n",
       "UttarPradesh                 94750\n",
       "Uttaranchal                   7720\n",
       "West Bengal                     42\n",
       "WestBengal                  196161\n",
       "Name: device_id, dtype: int64"
      ]
     },
     "execution_count": 24,
     "metadata": {},
     "output_type": "execute_result"
    }
   ],
   "source": [
    "df_even_data.groupby(\"newState\").count()[\"device_id\"]"
   ]
  },
  {
   "cell_type": "code",
   "execution_count": 25,
   "metadata": {
    "scrolled": true
   },
   "outputs": [
    {
     "data": {
      "text/html": [
       "<div>\n",
       "<style scoped>\n",
       "    .dataframe tbody tr th:only-of-type {\n",
       "        vertical-align: middle;\n",
       "    }\n",
       "\n",
       "    .dataframe tbody tr th {\n",
       "        vertical-align: top;\n",
       "    }\n",
       "\n",
       "    .dataframe thead th {\n",
       "        text-align: right;\n",
       "    }\n",
       "</style>\n",
       "<table border=\"1\" class=\"dataframe\">\n",
       "  <thead>\n",
       "    <tr style=\"text-align: right;\">\n",
       "      <th></th>\n",
       "      <th>Unnamed: 0</th>\n",
       "      <th>event_id</th>\n",
       "      <th>device_id</th>\n",
       "      <th>timestamp</th>\n",
       "      <th>longitude</th>\n",
       "      <th>latitude</th>\n",
       "      <th>city</th>\n",
       "      <th>state</th>\n",
       "      <th>newState</th>\n",
       "      <th>newCity</th>\n",
       "    </tr>\n",
       "  </thead>\n",
       "  <tbody>\n",
       "    <tr>\n",
       "      <th>0</th>\n",
       "      <td>0</td>\n",
       "      <td>1.0</td>\n",
       "      <td>2.9182687948017176e+16</td>\n",
       "      <td>2016-05-01 00:55:25</td>\n",
       "      <td>77.266049</td>\n",
       "      <td>28.68161</td>\n",
       "      <td>Delhi</td>\n",
       "      <td>Delhi</td>\n",
       "      <td>Delhi</td>\n",
       "      <td>Delhi</td>\n",
       "    </tr>\n",
       "    <tr>\n",
       "      <th>1</th>\n",
       "      <td>1</td>\n",
       "      <td>7104.0</td>\n",
       "      <td>2.9182687948017176e+16</td>\n",
       "      <td>2016-05-02 09:37:02</td>\n",
       "      <td>77.266049</td>\n",
       "      <td>28.68161</td>\n",
       "      <td>Delhi</td>\n",
       "      <td>Delhi</td>\n",
       "      <td>Delhi</td>\n",
       "      <td>Delhi</td>\n",
       "    </tr>\n",
       "    <tr>\n",
       "      <th>2</th>\n",
       "      <td>2</td>\n",
       "      <td>29661.0</td>\n",
       "      <td>2.9182687948017176e+16</td>\n",
       "      <td>2016-05-04 00:56:04</td>\n",
       "      <td>77.266049</td>\n",
       "      <td>28.68161</td>\n",
       "      <td>Delhi</td>\n",
       "      <td>Delhi</td>\n",
       "      <td>Delhi</td>\n",
       "      <td>Delhi</td>\n",
       "    </tr>\n",
       "    <tr>\n",
       "      <th>3</th>\n",
       "      <td>3</td>\n",
       "      <td>33133.0</td>\n",
       "      <td>2.9182687948017176e+16</td>\n",
       "      <td>2016-05-06 05:01:15</td>\n",
       "      <td>77.266049</td>\n",
       "      <td>28.68161</td>\n",
       "      <td>Delhi</td>\n",
       "      <td>Delhi</td>\n",
       "      <td>Delhi</td>\n",
       "      <td>Delhi</td>\n",
       "    </tr>\n",
       "    <tr>\n",
       "      <th>4</th>\n",
       "      <td>4</td>\n",
       "      <td>38980.0</td>\n",
       "      <td>2.9182687948017176e+16</td>\n",
       "      <td>2016-05-06 09:55:04</td>\n",
       "      <td>77.266049</td>\n",
       "      <td>28.68161</td>\n",
       "      <td>Delhi</td>\n",
       "      <td>Delhi</td>\n",
       "      <td>Delhi</td>\n",
       "      <td>Delhi</td>\n",
       "    </tr>\n",
       "  </tbody>\n",
       "</table>\n",
       "</div>"
      ],
      "text/plain": [
       "   Unnamed: 0  event_id               device_id            timestamp  \\\n",
       "0           0       1.0  2.9182687948017176e+16  2016-05-01 00:55:25   \n",
       "1           1    7104.0  2.9182687948017176e+16  2016-05-02 09:37:02   \n",
       "2           2   29661.0  2.9182687948017176e+16  2016-05-04 00:56:04   \n",
       "3           3   33133.0  2.9182687948017176e+16  2016-05-06 05:01:15   \n",
       "4           4   38980.0  2.9182687948017176e+16  2016-05-06 09:55:04   \n",
       "\n",
       "   longitude  latitude   city  state newState newCity  \n",
       "0  77.266049  28.68161  Delhi  Delhi    Delhi   Delhi  \n",
       "1  77.266049  28.68161  Delhi  Delhi    Delhi   Delhi  \n",
       "2  77.266049  28.68161  Delhi  Delhi    Delhi   Delhi  \n",
       "3  77.266049  28.68161  Delhi  Delhi    Delhi   Delhi  \n",
       "4  77.266049  28.68161  Delhi  Delhi    Delhi   Delhi  "
      ]
     },
     "execution_count": 25,
     "metadata": {},
     "output_type": "execute_result"
    }
   ],
   "source": [
    "df_even_data.head()"
   ]
  },
  {
   "cell_type": "code",
   "execution_count": 26,
   "metadata": {},
   "outputs": [],
   "source": [
    "df_even_data.drop(\"Unnamed: 0\",axis=1,inplace=True)"
   ]
  },
  {
   "cell_type": "code",
   "execution_count": 27,
   "metadata": {
    "scrolled": true
   },
   "outputs": [
    {
     "data": {
      "text/html": [
       "<div>\n",
       "<style scoped>\n",
       "    .dataframe tbody tr th:only-of-type {\n",
       "        vertical-align: middle;\n",
       "    }\n",
       "\n",
       "    .dataframe tbody tr th {\n",
       "        vertical-align: top;\n",
       "    }\n",
       "\n",
       "    .dataframe thead th {\n",
       "        text-align: right;\n",
       "    }\n",
       "</style>\n",
       "<table border=\"1\" class=\"dataframe\">\n",
       "  <thead>\n",
       "    <tr style=\"text-align: right;\">\n",
       "      <th></th>\n",
       "      <th>event_id</th>\n",
       "      <th>device_id</th>\n",
       "      <th>timestamp</th>\n",
       "      <th>longitude</th>\n",
       "      <th>latitude</th>\n",
       "      <th>city</th>\n",
       "      <th>state</th>\n",
       "      <th>newState</th>\n",
       "      <th>newCity</th>\n",
       "    </tr>\n",
       "  </thead>\n",
       "  <tbody>\n",
       "    <tr>\n",
       "      <th>0</th>\n",
       "      <td>1.0</td>\n",
       "      <td>2.9182687948017176e+16</td>\n",
       "      <td>2016-05-01 00:55:25</td>\n",
       "      <td>77.266049</td>\n",
       "      <td>28.68161</td>\n",
       "      <td>Delhi</td>\n",
       "      <td>Delhi</td>\n",
       "      <td>Delhi</td>\n",
       "      <td>Delhi</td>\n",
       "    </tr>\n",
       "    <tr>\n",
       "      <th>1</th>\n",
       "      <td>7104.0</td>\n",
       "      <td>2.9182687948017176e+16</td>\n",
       "      <td>2016-05-02 09:37:02</td>\n",
       "      <td>77.266049</td>\n",
       "      <td>28.68161</td>\n",
       "      <td>Delhi</td>\n",
       "      <td>Delhi</td>\n",
       "      <td>Delhi</td>\n",
       "      <td>Delhi</td>\n",
       "    </tr>\n",
       "    <tr>\n",
       "      <th>2</th>\n",
       "      <td>29661.0</td>\n",
       "      <td>2.9182687948017176e+16</td>\n",
       "      <td>2016-05-04 00:56:04</td>\n",
       "      <td>77.266049</td>\n",
       "      <td>28.68161</td>\n",
       "      <td>Delhi</td>\n",
       "      <td>Delhi</td>\n",
       "      <td>Delhi</td>\n",
       "      <td>Delhi</td>\n",
       "    </tr>\n",
       "    <tr>\n",
       "      <th>3</th>\n",
       "      <td>33133.0</td>\n",
       "      <td>2.9182687948017176e+16</td>\n",
       "      <td>2016-05-06 05:01:15</td>\n",
       "      <td>77.266049</td>\n",
       "      <td>28.68161</td>\n",
       "      <td>Delhi</td>\n",
       "      <td>Delhi</td>\n",
       "      <td>Delhi</td>\n",
       "      <td>Delhi</td>\n",
       "    </tr>\n",
       "    <tr>\n",
       "      <th>4</th>\n",
       "      <td>38980.0</td>\n",
       "      <td>2.9182687948017176e+16</td>\n",
       "      <td>2016-05-06 09:55:04</td>\n",
       "      <td>77.266049</td>\n",
       "      <td>28.68161</td>\n",
       "      <td>Delhi</td>\n",
       "      <td>Delhi</td>\n",
       "      <td>Delhi</td>\n",
       "      <td>Delhi</td>\n",
       "    </tr>\n",
       "  </tbody>\n",
       "</table>\n",
       "</div>"
      ],
      "text/plain": [
       "   event_id               device_id            timestamp  longitude  latitude  \\\n",
       "0       1.0  2.9182687948017176e+16  2016-05-01 00:55:25  77.266049  28.68161   \n",
       "1    7104.0  2.9182687948017176e+16  2016-05-02 09:37:02  77.266049  28.68161   \n",
       "2   29661.0  2.9182687948017176e+16  2016-05-04 00:56:04  77.266049  28.68161   \n",
       "3   33133.0  2.9182687948017176e+16  2016-05-06 05:01:15  77.266049  28.68161   \n",
       "4   38980.0  2.9182687948017176e+16  2016-05-06 09:55:04  77.266049  28.68161   \n",
       "\n",
       "    city  state newState newCity  \n",
       "0  Delhi  Delhi    Delhi   Delhi  \n",
       "1  Delhi  Delhi    Delhi   Delhi  \n",
       "2  Delhi  Delhi    Delhi   Delhi  \n",
       "3  Delhi  Delhi    Delhi   Delhi  \n",
       "4  Delhi  Delhi    Delhi   Delhi  "
      ]
     },
     "execution_count": 27,
     "metadata": {},
     "output_type": "execute_result"
    }
   ],
   "source": [
    "df_even_data.head()"
   ]
  },
  {
   "cell_type": "code",
   "execution_count": 28,
   "metadata": {},
   "outputs": [],
   "source": [
    "df_even_data.drop_duplicates(subset=[\"device_id\"],keep=\"first\",inplace=True)"
   ]
  },
  {
   "cell_type": "code",
   "execution_count": 19,
   "metadata": {
    "scrolled": true
   },
   "outputs": [
    {
     "data": {
      "text/html": [
       "<div>\n",
       "<style scoped>\n",
       "    .dataframe tbody tr th:only-of-type {\n",
       "        vertical-align: middle;\n",
       "    }\n",
       "\n",
       "    .dataframe tbody tr th {\n",
       "        vertical-align: top;\n",
       "    }\n",
       "\n",
       "    .dataframe thead th {\n",
       "        text-align: right;\n",
       "    }\n",
       "</style>\n",
       "<table border=\"1\" class=\"dataframe\">\n",
       "  <thead>\n",
       "    <tr style=\"text-align: right;\">\n",
       "      <th></th>\n",
       "      <th>event_id</th>\n",
       "      <th>device_id</th>\n",
       "      <th>timestamp</th>\n",
       "      <th>longitude</th>\n",
       "      <th>latitude</th>\n",
       "      <th>city</th>\n",
       "      <th>state</th>\n",
       "      <th>newState</th>\n",
       "      <th>newCity</th>\n",
       "    </tr>\n",
       "  </thead>\n",
       "  <tbody>\n",
       "  </tbody>\n",
       "</table>\n",
       "</div>"
      ],
      "text/plain": [
       "Empty DataFrame\n",
       "Columns: [event_id, device_id, timestamp, longitude, latitude, city, state, newState, newCity]\n",
       "Index: []"
      ]
     },
     "execution_count": 19,
     "metadata": {},
     "output_type": "execute_result"
    }
   ],
   "source": [
    "df_even_data[df_even_data.duplicated(subset=\"device_id\")]"
   ]
  },
  {
   "cell_type": "code",
   "execution_count": 29,
   "metadata": {
    "collapsed": true
   },
   "outputs": [
    {
     "data": {
      "text/plain": [
       "newState\n",
       "AndamanandNicobarIslands      41\n",
       "AndhraPradesh               4929\n",
       "ArunachalPradesh              32\n",
       "Assam                        483\n",
       "Bihar                       1372\n",
       "Chandigarh                    35\n",
       "Chhattisgarh                 400\n",
       "Delhi                       4909\n",
       "Goa                           76\n",
       "Gujarat                     1749\n",
       "Haryana                      816\n",
       "HimachalPradesh               31\n",
       "JammuandKashmir              236\n",
       "Jharkhand                    739\n",
       "Karnataka                   6481\n",
       "Kerala                       939\n",
       "MadhyaPradesh               3220\n",
       "Maharashtra                 9010\n",
       "Manipur                       30\n",
       "Meghalaya                     56\n",
       "Mizoram                       70\n",
       "Nagaland                     107\n",
       "Orissa                       655\n",
       "Pondicherry                   96\n",
       "Punjab                      1055\n",
       "Rajasthan                   3093\n",
       "TamilNadu                   5770\n",
       "Telangana                   3045\n",
       "Tripura                       36\n",
       "UttarPradesh                3660\n",
       "Uttaranchal                  258\n",
       "WestBengal                  7436\n",
       "Name: device_id, dtype: int64"
      ]
     },
     "execution_count": 29,
     "metadata": {},
     "output_type": "execute_result"
    }
   ],
   "source": [
    "df_even_data.groupby(\"newState\").count()[\"device_id\"]"
   ]
  },
  {
   "cell_type": "code",
   "execution_count": null,
   "metadata": {},
   "outputs": [],
   "source": []
  }
 ],
 "metadata": {
  "kernelspec": {
   "display_name": "Python 3",
   "language": "python",
   "name": "python3"
  },
  "language_info": {
   "codemirror_mode": {
    "name": "ipython",
    "version": 3
   },
   "file_extension": ".py",
   "mimetype": "text/x-python",
   "name": "python",
   "nbconvert_exporter": "python",
   "pygments_lexer": "ipython3",
   "version": "3.7.3"
  }
 },
 "nbformat": 4,
 "nbformat_minor": 2
}
