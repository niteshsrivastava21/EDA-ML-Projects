{
 "cells": [
  {
   "cell_type": "code",
   "execution_count": 39,
   "metadata": {},
   "outputs": [
    {
     "name": "stdout",
     "output_type": "stream",
     "text": [
      "Requirement already satisfied: mysql-connector-python in c:\\programdata\\anaconda3\\lib\\site-packages (8.0.19)\n",
      "Requirement already satisfied: protobuf==3.6.1 in c:\\programdata\\anaconda3\\lib\\site-packages (from mysql-connector-python) (3.6.1)\n",
      "Requirement already satisfied: dnspython==1.16.0 in c:\\programdata\\anaconda3\\lib\\site-packages (from mysql-connector-python) (1.16.0)\n",
      "Requirement already satisfied: setuptools in c:\\programdata\\anaconda3\\lib\\site-packages (from protobuf==3.6.1->mysql-connector-python) (40.8.0)\n",
      "Requirement already satisfied: six>=1.9 in c:\\programdata\\anaconda3\\lib\\site-packages (from protobuf==3.6.1->mysql-connector-python) (1.12.0)\n",
      "Note: you may need to restart the kernel to use updated packages.\n"
     ]
    }
   ],
   "source": [
    "pip install mysql-connector-python"
   ]
  },
  {
   "cell_type": "code",
   "execution_count": 40,
   "metadata": {},
   "outputs": [
    {
     "name": "stdout",
     "output_type": "stream",
     "text": [
      "Requirement already satisfied: pymysql in c:\\programdata\\anaconda3\\lib\\site-packages (0.9.3)\n",
      "Note: you may need to restart the kernel to use updated packages.\n"
     ]
    }
   ],
   "source": [
    "pip install pymysql"
   ]
  },
  {
   "cell_type": "code",
   "execution_count": 41,
   "metadata": {},
   "outputs": [
    {
     "name": "stdout",
     "output_type": "stream",
     "text": [
      "Requirement already satisfied: folium in c:\\programdata\\anaconda3\\lib\\site-packages (0.1.5)\n",
      "Note: you may need to restart the kernel to use updated packages.\n"
     ]
    }
   ],
   "source": [
    "pip install folium"
   ]
  },
  {
   "cell_type": "code",
   "execution_count": 42,
   "metadata": {},
   "outputs": [
    {
     "name": "stdout",
     "output_type": "stream",
     "text": [
      "Requirement already satisfied: geopy in c:\\programdata\\anaconda3\\lib\\site-packages (1.21.0)\n",
      "Requirement already satisfied: geographiclib<2,>=1.49 in c:\\programdata\\anaconda3\\lib\\site-packages (from geopy) (1.50)\n",
      "Note: you may need to restart the kernel to use updated packages.\n"
     ]
    }
   ],
   "source": [
    "pip install geopy"
   ]
  },
  {
   "cell_type": "code",
   "execution_count": 43,
   "metadata": {},
   "outputs": [],
   "source": [
    "import numpy as np\n",
    "import matplotlib.pyplot as plt                                    # Plotting library for Python programming language and it's numerical mathematics extension NumPy\\n\",\n",
    "import seaborn as sns                                              # Provides a high level interface for drawing attractive and informative statistical graphics\\n\",\n",
    "sns.set_style(\"dark\")\n",
    "sns.set()\n",
    "import dateutil.parser\n",
    "%matplotlib inline\n",
    "import pandas as pd\n",
    "import pymysql"
   ]
  },
  {
   "cell_type": "code",
   "execution_count": 44,
   "metadata": {},
   "outputs": [
    {
     "name": "stdout",
     "output_type": "stream",
     "text": [
      "MySQL connection is opened\n",
      "MySQL connection is closed\n"
     ]
    }
   ],
   "source": [
    "conn_cred = {'host': 'cpanel.insaid.co',\n",
    "             'username': 'student',\n",
    "             'password': 'student',\n",
    "             'db': 'Capstone1'}\n",
    "# Open database connection\\n\"\n",
    "conn = pymysql.connect(conn_cred['host'],conn_cred['username'],conn_cred['password'],conn_cred['db'])\n",
    "print(\"MySQL connection is opened\")\n",
    "conn.close()\n",
    "print(\"MySQL connection is closed\")"
   ]
  },
  {
   "cell_type": "code",
   "execution_count": 45,
   "metadata": {},
   "outputs": [
    {
     "name": "stdout",
     "output_type": "stream",
     "text": [
      "('events_data',)\n",
      "('gender_age_train',)\n",
      "('phone_brand_device_model',)\n"
     ]
    }
   ],
   "source": [
    "#open connection\n",
    "conn = pymysql.connect(conn_cred['host'],conn_cred['username'],conn_cred['password'],conn_cred['db'])\n",
    "# open cursor\n",
    "cursor = conn.cursor()\n",
    "# query\n",
    "query = \"SELECT TABLE_NAME FROM INFORMATION_SCHEMA.TABLES WHERE table_schema ='Capstone1'\"\n",
    "# execute query\n",
    "cursor.execute(query)\n",
    "# fetch results\n",
    "result = cursor.fetchall()\n",
    "# print results\n",
    "for table in result:\n",
    "    print (table)\n",
    "# close connection\n",
    "conn.close()"
   ]
  },
  {
   "cell_type": "code",
   "execution_count": 46,
   "metadata": {},
   "outputs": [
    {
     "name": "stdout",
     "output_type": "stream",
     "text": [
      "             device_id gender  age   group\n",
      "0 -8076087639492063270      M   35  M32-38\n",
      "1 -2897161552818060146      M   35  M32-38\n",
      "2 -8260683887967679142      M   35  M32-38\n",
      "3 -4938849341048082022      M   30  M29-31\n",
      "4   245133531816851882      M   30  M29-31\n",
      "MySQL connection is closed\n"
     ]
    }
   ],
   "source": [
    "#open connection\n",
    "conn = pymysql.connect(conn_cred['host'],conn_cred['username'],conn_cred['password'],conn_cred['db'])\n",
    "# open cursor\n",
    "cursor = conn.cursor()\n",
    "table1 = \"Select * from gender_age_train\"\n",
    "cursor.execute(table1)\n",
    "result1 = cursor.fetchall()\n",
    "df1 = pd.read_sql(table1, conn)\n",
    "# for row in result1:\n",
    "#     print(row)\n",
    "print(df1.head())\n",
    "cursor.close()\n",
    "conn.close()\n",
    "print(\"MySQL connection is closed\")"
   ]
  },
  {
   "cell_type": "code",
   "execution_count": 47,
   "metadata": {},
   "outputs": [],
   "source": [
    "data_gender_age_train = df1.to_csv('C:\\INSAID_1032_Capstone\\gender_age_train.csv')"
   ]
  },
  {
   "cell_type": "code",
   "execution_count": 48,
   "metadata": {},
   "outputs": [],
   "source": [
    "df1_male = df1[df1['gender']=='M']\n",
    "df1_female = df1[df1['gender']=='F']"
   ]
  },
  {
   "cell_type": "code",
   "execution_count": 49,
   "metadata": {},
   "outputs": [
    {
     "data": {
      "text/plain": [
       "(array([2.1600e+03, 3.7978e+04, 6.9750e+03, 7.5500e+02, 3.6000e+01]),\n",
       " array([  0.,  20.,  40.,  60.,  80., 100.]),\n",
       " <a list of 5 Patch objects>)"
      ]
     },
     "execution_count": 49,
     "metadata": {},
     "output_type": "execute_result"
    },
    {
     "data": {
      "image/png": "[encoded data removed]",
      "text/plain": [
       "<Figure size 432x288 with 1 Axes>"
      ]
     },
     "metadata": {
      "needs_background": "light"
     },
     "output_type": "display_data"
    }
   ],
   "source": [
    "range = (0,100)\n",
    "plt.hist(df1_male['age'], 5, range, color='blue', histtype='bar', rwidth=0.6)"
   ]
  },
  {
   "cell_type": "code",
   "execution_count": 50,
   "metadata": {},
   "outputs": [
    {
     "data": {
      "text/plain": [
       "(array([  916., 20460.,  4638.,   703.,    24.]),\n",
       " array([  0.,  20.,  40.,  60.,  80., 100.]),\n",
       " <a list of 5 Patch objects>)"
      ]
     },
     "execution_count": 50,
     "metadata": {},
     "output_type": "execute_result"
    },
    {
     "data": {
      "image/png": "[encoded data removed]",
      "text/plain": [
       "<Figure size 432x288 with 1 Axes>"
      ]
     },
     "metadata": {
      "needs_background": "light"
     },
     "output_type": "display_data"
    }
   ],
   "source": [
    "range = (0,100)\n",
    "plt.hist(df1_female['age'], 5, range, color='pink', histtype='bar', rwidth=0.6)"
   ]
  },
  {
   "cell_type": "code",
   "execution_count": 51,
   "metadata": {},
   "outputs": [
    {
     "name": "stdout",
     "output_type": "stream",
     "text": [
      "   event_id     device_id            timestamp  longitude  latitude   city  \\\n",
      "0       1.0  2.918269e+16  2016-05-01 00:55:25  77.266049  28.68161  Delhi   \n",
      "1    7104.0  2.918269e+16  2016-05-02 09:37:02  77.266049  28.68161  Delhi   \n",
      "2   29661.0  2.918269e+16  2016-05-04 00:56:04  77.266049  28.68161  Delhi   \n",
      "3   33133.0  2.918269e+16  2016-05-06 05:01:15  77.266049  28.68161  Delhi   \n",
      "4   38980.0  2.918269e+16  2016-05-06 09:55:04  77.266049  28.68161  Delhi   \n",
      "\n",
      "   state  \n",
      "0  Delhi  \n",
      "1  Delhi  \n",
      "2  Delhi  \n",
      "3  Delhi  \n",
      "4  Delhi  \n",
      "          event_id     device_id            timestamp  longitude   latitude  \\\n",
      "2171827  2488814.0  9.053893e+18  2016-05-01 21:09:37  79.784956  13.803272   \n",
      "2040878  2396218.0 -4.216433e+18  2016-05-01 12:16:06  83.314164  17.743741   \n",
      "2110755  3096783.0  8.735586e+17  2016-05-04 11:45:26  77.220300  31.167220   \n",
      "1923517   610963.0  7.383232e+18  2016-05-05 18:34:22  83.399128  17.800895   \n",
      "2168800  3194654.0  6.716630e+18  2016-05-04 10:17:17  79.901988  10.944429   \n",
      "\n",
      "                  city            state  \n",
      "2171827   Srikalahasti    AndhraPradesh  \n",
      "2040878  Visakhapatnam    AndhraPradesh  \n",
      "2110755         Shimla  HimachalPradesh  \n",
      "1923517  Visakhapatnam    AndhraPradesh  \n",
      "2168800       Karaikal      Pondicherry  \n"
     ]
    }
   ],
   "source": [
    "df2_all = pd.read_csv('C:\\INSAID_1032_Capstone\\events_data.csv')\n",
    "print(df2_all.head())\n",
    "df2_group = df2_all[(df2_all['state']==\"AndhraPradesh\") | (df2_all['state']==\"Pondicherry\") |\n",
    "                    (df2_all['state']==\"Mizoram\") | (df2_all['state']==\"AndamanandNicobarIslands\") |\n",
    "                    (df2_all['state']==\"Meghalaya\") | (df2_all['state']==\"HimachalPradesh\")]\n",
    "print(df2_group.sample(5))"
   ]
  },
  {
   "cell_type": "code",
   "execution_count": 52,
   "metadata": {},
   "outputs": [
    {
     "name": "stdout",
     "output_type": "stream",
     "text": [
      "             device_id phone_brand device_model\n",
      "0  1877775838486905855        vivo          Y13\n",
      "1 -3766087376657242966          小米         V183\n",
      "2 -6238937574958215831        OPPO          R7s\n",
      "3  8973197758510677470          三星        A368t\n",
      "4 -2015528097870762664          小米      红米Note2\n",
      "MySQL connection is closed\n"
     ]
    }
   ],
   "source": [
    "#open connection\n",
    "conn = pymysql.connect(conn_cred['host'],conn_cred['username'],conn_cred['password'],conn_cred['db'])\n",
    "# open cursor\n",
    "cursor = conn.cursor()\n",
    "table3 = \"Select * from phone_brand_device_model\"\n",
    "cursor.execute(table3)\n",
    "result3 = cursor.fetchall()\n",
    "df3 = pd.read_sql(table3, conn)\n",
    "# for row in result3:\n",
    "#     print(row)\n",
    "print(df3.head())\n",
    "cursor.close()\n",
    "conn.close()\n",
    "print(\"MySQL connection is closed\")"
   ]
  },
  {
   "cell_type": "code",
   "execution_count": 53,
   "metadata": {},
   "outputs": [],
   "source": [
    "data_phone_brand_device_model = df3.to_csv('C:\\INSAID_1032_Capstone\\phone_brand_device_model.csv')"
   ]
  },
  {
   "cell_type": "code",
   "execution_count": 54,
   "metadata": {},
   "outputs": [
    {
     "name": "stdout",
     "output_type": "stream",
     "text": [
      "<class 'pandas.core.frame.DataFrame'>\n",
      "RangeIndex: 74645 entries, 0 to 74644\n",
      "Data columns (total 4 columns):\n",
      "device_id    74645 non-null int64\n",
      "gender       74645 non-null object\n",
      "age          74645 non-null int64\n",
      "group        74645 non-null object\n",
      "dtypes: int64(2), object(2)\n",
      "memory usage: 2.3+ MB\n"
     ]
    }
   ],
   "source": [
    "df1.info()"
   ]
  },
  {
   "cell_type": "code",
   "execution_count": 55,
   "metadata": {},
   "outputs": [
    {
     "data": {
      "text/plain": [
       "74645"
      ]
     },
     "execution_count": 55,
     "metadata": {},
     "output_type": "execute_result"
    }
   ],
   "source": [
    "len(df1)"
   ]
  },
  {
   "cell_type": "code",
   "execution_count": 56,
   "metadata": {},
   "outputs": [
    {
     "data": {
      "text/html": [
       "<div>\n",
       "<style scoped>\n",
       "    .dataframe tbody tr th:only-of-type {\n",
       "        vertical-align: middle;\n",
       "    }\n",
       "\n",
       "    .dataframe tbody tr th {\n",
       "        vertical-align: top;\n",
       "    }\n",
       "\n",
       "    .dataframe thead th {\n",
       "        text-align: right;\n",
       "    }\n",
       "</style>\n",
       "<table border=\"1\" class=\"dataframe\">\n",
       "  <thead>\n",
       "    <tr style=\"text-align: right;\">\n",
       "      <th></th>\n",
       "      <th>device_id</th>\n",
       "      <th>age</th>\n",
       "    </tr>\n",
       "  </thead>\n",
       "  <tbody>\n",
       "    <tr>\n",
       "      <th>count</th>\n",
       "      <td>7.464500e+04</td>\n",
       "      <td>74645.000000</td>\n",
       "    </tr>\n",
       "    <tr>\n",
       "      <th>mean</th>\n",
       "      <td>-7.491354e+14</td>\n",
       "      <td>31.410342</td>\n",
       "    </tr>\n",
       "    <tr>\n",
       "      <th>std</th>\n",
       "      <td>5.327150e+18</td>\n",
       "      <td>9.868735</td>\n",
       "    </tr>\n",
       "    <tr>\n",
       "      <th>min</th>\n",
       "      <td>-9.223067e+18</td>\n",
       "      <td>1.000000</td>\n",
       "    </tr>\n",
       "    <tr>\n",
       "      <th>25%</th>\n",
       "      <td>-4.617367e+18</td>\n",
       "      <td>25.000000</td>\n",
       "    </tr>\n",
       "    <tr>\n",
       "      <th>50%</th>\n",
       "      <td>-1.841362e+16</td>\n",
       "      <td>29.000000</td>\n",
       "    </tr>\n",
       "    <tr>\n",
       "      <th>75%</th>\n",
       "      <td>4.636656e+18</td>\n",
       "      <td>36.000000</td>\n",
       "    </tr>\n",
       "    <tr>\n",
       "      <th>max</th>\n",
       "      <td>9.222849e+18</td>\n",
       "      <td>96.000000</td>\n",
       "    </tr>\n",
       "  </tbody>\n",
       "</table>\n",
       "</div>"
      ],
      "text/plain": [
       "          device_id           age\n",
       "count  7.464500e+04  74645.000000\n",
       "mean  -7.491354e+14     31.410342\n",
       "std    5.327150e+18      9.868735\n",
       "min   -9.223067e+18      1.000000\n",
       "25%   -4.617367e+18     25.000000\n",
       "50%   -1.841362e+16     29.000000\n",
       "75%    4.636656e+18     36.000000\n",
       "max    9.222849e+18     96.000000"
      ]
     },
     "execution_count": 56,
     "metadata": {},
     "output_type": "execute_result"
    }
   ],
   "source": [
    "df1.describe()"
   ]
  },
  {
   "cell_type": "code",
   "execution_count": 57,
   "metadata": {},
   "outputs": [
    {
     "data": {
      "text/plain": [
       "M    47904\n",
       "F    26741\n",
       "Name: gender, dtype: int64"
      ]
     },
     "execution_count": 57,
     "metadata": {},
     "output_type": "execute_result"
    }
   ],
   "source": [
    "df1['gender'].value_counts()"
   ]
  },
  {
   "cell_type": "code",
   "execution_count": 58,
   "metadata": {},
   "outputs": [
    {
     "data": {
      "text/plain": [
       "<matplotlib.axes._subplots.AxesSubplot at 0x1e782c3c828>"
      ]
     },
     "execution_count": 58,
     "metadata": {},
     "output_type": "execute_result"
    },
    {
     "data": {
      "image/png": "[encoded data removed]",
      "text/plain": [
       "<Figure size 432x288 with 1 Axes>"
      ]
     },
     "metadata": {
      "needs_background": "light"
     },
     "output_type": "display_data"
    }
   ],
   "source": [
    "df1['gender'].value_counts().plot.bar()"
   ]
  },
  {
   "cell_type": "code",
   "execution_count": 59,
   "metadata": {},
   "outputs": [
    {
     "data": {
      "text/plain": [
       "26    4540\n",
       "27    4476\n",
       "29    4343\n",
       "28    4087\n",
       "25    3740\n",
       "30    3730\n",
       "24    3501\n",
       "23    3115\n",
       "22    3018\n",
       "31    2996\n",
       "Name: age, dtype: int64"
      ]
     },
     "execution_count": 59,
     "metadata": {},
     "output_type": "execute_result"
    }
   ],
   "source": [
    "df1['age'].value_counts().head(10)"
   ]
  },
  {
   "cell_type": "code",
   "execution_count": 60,
   "metadata": {},
   "outputs": [
    {
     "data": {
      "text/plain": [
       "6     4\n",
       "85    3\n",
       "89    3\n",
       "87    3\n",
       "84    2\n",
       "82    2\n",
       "90    1\n",
       "96    1\n",
       "1     1\n",
       "94    1\n",
       "Name: age, dtype: int64"
      ]
     },
     "execution_count": 60,
     "metadata": {},
     "output_type": "execute_result"
    }
   ],
   "source": [
    "df1['age'].value_counts().tail(10)"
   ]
  },
  {
   "cell_type": "code",
   "execution_count": 61,
   "metadata": {},
   "outputs": [
    {
     "data": {
      "text/html": [
       "<div>\n",
       "<style scoped>\n",
       "    .dataframe tbody tr th:only-of-type {\n",
       "        vertical-align: middle;\n",
       "    }\n",
       "\n",
       "    .dataframe tbody tr th {\n",
       "        vertical-align: top;\n",
       "    }\n",
       "\n",
       "    .dataframe thead th {\n",
       "        text-align: right;\n",
       "    }\n",
       "</style>\n",
       "<table border=\"1\" class=\"dataframe\">\n",
       "  <thead>\n",
       "    <tr style=\"text-align: right;\">\n",
       "      <th></th>\n",
       "      <th>device_id</th>\n",
       "      <th>gender</th>\n",
       "      <th>age</th>\n",
       "      <th>group</th>\n",
       "    </tr>\n",
       "  </thead>\n",
       "  <tbody>\n",
       "    <tr>\n",
       "      <th>5958</th>\n",
       "      <td>-7047596037344697961</td>\n",
       "      <td>F</td>\n",
       "      <td>96</td>\n",
       "      <td>F43+</td>\n",
       "    </tr>\n",
       "    <tr>\n",
       "      <th>60872</th>\n",
       "      <td>1177477789654193646</td>\n",
       "      <td>F</td>\n",
       "      <td>94</td>\n",
       "      <td>F43+</td>\n",
       "    </tr>\n",
       "    <tr>\n",
       "      <th>3704</th>\n",
       "      <td>6479053078455130840</td>\n",
       "      <td>M</td>\n",
       "      <td>90</td>\n",
       "      <td>M39+</td>\n",
       "    </tr>\n",
       "    <tr>\n",
       "      <th>2971</th>\n",
       "      <td>5439627376969001682</td>\n",
       "      <td>F</td>\n",
       "      <td>89</td>\n",
       "      <td>F43+</td>\n",
       "    </tr>\n",
       "    <tr>\n",
       "      <th>32290</th>\n",
       "      <td>7973265006628525491</td>\n",
       "      <td>F</td>\n",
       "      <td>89</td>\n",
       "      <td>F43+</td>\n",
       "    </tr>\n",
       "    <tr>\n",
       "      <th>32291</th>\n",
       "      <td>-1645500993931886259</td>\n",
       "      <td>F</td>\n",
       "      <td>89</td>\n",
       "      <td>F43+</td>\n",
       "    </tr>\n",
       "    <tr>\n",
       "      <th>3065</th>\n",
       "      <td>-5773450219741882297</td>\n",
       "      <td>F</td>\n",
       "      <td>88</td>\n",
       "      <td>F43+</td>\n",
       "    </tr>\n",
       "    <tr>\n",
       "      <th>3067</th>\n",
       "      <td>-5586258833242138756</td>\n",
       "      <td>M</td>\n",
       "      <td>88</td>\n",
       "      <td>M39+</td>\n",
       "    </tr>\n",
       "    <tr>\n",
       "      <th>3068</th>\n",
       "      <td>-8881071865742467804</td>\n",
       "      <td>F</td>\n",
       "      <td>88</td>\n",
       "      <td>F43+</td>\n",
       "    </tr>\n",
       "    <tr>\n",
       "      <th>3560</th>\n",
       "      <td>-4648373198049034564</td>\n",
       "      <td>F</td>\n",
       "      <td>88</td>\n",
       "      <td>F43+</td>\n",
       "    </tr>\n",
       "  </tbody>\n",
       "</table>\n",
       "</div>"
      ],
      "text/plain": [
       "                 device_id gender  age group\n",
       "5958  -7047596037344697961      F   96  F43+\n",
       "60872  1177477789654193646      F   94  F43+\n",
       "3704   6479053078455130840      M   90  M39+\n",
       "2971   5439627376969001682      F   89  F43+\n",
       "32290  7973265006628525491      F   89  F43+\n",
       "32291 -1645500993931886259      F   89  F43+\n",
       "3065  -5773450219741882297      F   88  F43+\n",
       "3067  -5586258833242138756      M   88  M39+\n",
       "3068  -8881071865742467804      F   88  F43+\n",
       "3560  -4648373198049034564      F   88  F43+"
      ]
     },
     "execution_count": 61,
     "metadata": {},
     "output_type": "execute_result"
    }
   ],
   "source": [
    "df1.nlargest(10, ['age'])"
   ]
  },
  {
   "cell_type": "code",
   "execution_count": 62,
   "metadata": {},
   "outputs": [
    {
     "data": {
      "text/plain": [
       "M23-26    9605\n",
       "M32-38    9476\n",
       "M39+      8581\n",
       "M22-      7488\n",
       "M29-31    7309\n",
       "F33-42    5561\n",
       "M27-28    5445\n",
       "F23-      5050\n",
       "F29-32    4628\n",
       "F43+      4194\n",
       "F24-26    4190\n",
       "F27-28    3118\n",
       "Name: group, dtype: int64"
      ]
     },
     "execution_count": 62,
     "metadata": {},
     "output_type": "execute_result"
    }
   ],
   "source": [
    "df1.group.value_counts()"
   ]
  },
  {
   "cell_type": "code",
   "execution_count": 63,
   "metadata": {},
   "outputs": [
    {
     "name": "stdout",
     "output_type": "stream",
     "text": [
      "<class 'pandas.core.frame.DataFrame'>\n",
      "Int64Index: 329125 entries, 1868677 to 2197848\n",
      "Data columns (total 7 columns):\n",
      "event_id     329125 non-null float64\n",
      "device_id    329056 non-null float64\n",
      "timestamp    329125 non-null object\n",
      "longitude    329062 non-null float64\n",
      "latitude     329062 non-null float64\n",
      "city         329125 non-null object\n",
      "state        329125 non-null object\n",
      "dtypes: float64(4), object(3)\n",
      "memory usage: 20.1+ MB\n"
     ]
    }
   ],
   "source": [
    "df2_group.info()"
   ]
  },
  {
   "cell_type": "code",
   "execution_count": 64,
   "metadata": {},
   "outputs": [
    {
     "data": {
      "text/plain": [
       "(329125, 7)"
      ]
     },
     "execution_count": 64,
     "metadata": {},
     "output_type": "execute_result"
    }
   ],
   "source": [
    "df2_group.shape"
   ]
  },
  {
   "cell_type": "code",
   "execution_count": 65,
   "metadata": {},
   "outputs": [
    {
     "data": {
      "text/plain": [
       "329125"
      ]
     },
     "execution_count": 65,
     "metadata": {},
     "output_type": "execute_result"
    }
   ],
   "source": [
    "len(df2_group)"
   ]
  },
  {
   "cell_type": "code",
   "execution_count": 66,
   "metadata": {},
   "outputs": [
    {
     "data": {
      "text/html": [
       "<div>\n",
       "<style scoped>\n",
       "    .dataframe tbody tr th:only-of-type {\n",
       "        vertical-align: middle;\n",
       "    }\n",
       "\n",
       "    .dataframe tbody tr th {\n",
       "        vertical-align: top;\n",
       "    }\n",
       "\n",
       "    .dataframe thead th {\n",
       "        text-align: right;\n",
       "    }\n",
       "</style>\n",
       "<table border=\"1\" class=\"dataframe\">\n",
       "  <thead>\n",
       "    <tr style=\"text-align: right;\">\n",
       "      <th></th>\n",
       "      <th>event_id</th>\n",
       "      <th>device_id</th>\n",
       "      <th>longitude</th>\n",
       "      <th>latitude</th>\n",
       "    </tr>\n",
       "  </thead>\n",
       "  <tbody>\n",
       "    <tr>\n",
       "      <th>count</th>\n",
       "      <td>3.291250e+05</td>\n",
       "      <td>3.290560e+05</td>\n",
       "      <td>329062.000000</td>\n",
       "      <td>329062.000000</td>\n",
       "    </tr>\n",
       "    <tr>\n",
       "      <th>mean</th>\n",
       "      <td>1.626038e+06</td>\n",
       "      <td>9.414892e+16</td>\n",
       "      <td>82.467245</td>\n",
       "      <td>17.596691</td>\n",
       "    </tr>\n",
       "    <tr>\n",
       "      <th>std</th>\n",
       "      <td>9.404014e+05</td>\n",
       "      <td>5.342228e+18</td>\n",
       "      <td>2.215557</td>\n",
       "      <td>1.537303</td>\n",
       "    </tr>\n",
       "    <tr>\n",
       "      <th>min</th>\n",
       "      <td>5.985000e+03</td>\n",
       "      <td>-9.222173e+18</td>\n",
       "      <td>12.567400</td>\n",
       "      <td>10.941103</td>\n",
       "    </tr>\n",
       "    <tr>\n",
       "      <th>25%</th>\n",
       "      <td>8.114810e+05</td>\n",
       "      <td>-4.718484e+18</td>\n",
       "      <td>82.226211</td>\n",
       "      <td>17.744599</td>\n",
       "    </tr>\n",
       "    <tr>\n",
       "      <th>50%</th>\n",
       "      <td>1.627460e+06</td>\n",
       "      <td>-2.849262e+16</td>\n",
       "      <td>83.339626</td>\n",
       "      <td>17.774964</td>\n",
       "    </tr>\n",
       "    <tr>\n",
       "      <th>75%</th>\n",
       "      <td>2.440367e+06</td>\n",
       "      <td>4.883859e+18</td>\n",
       "      <td>83.372565</td>\n",
       "      <td>17.807304</td>\n",
       "    </tr>\n",
       "    <tr>\n",
       "      <th>max</th>\n",
       "      <td>3.252943e+06</td>\n",
       "      <td>9.220807e+18</td>\n",
       "      <td>92.859813</td>\n",
       "      <td>41.871900</td>\n",
       "    </tr>\n",
       "  </tbody>\n",
       "</table>\n",
       "</div>"
      ],
      "text/plain": [
       "           event_id     device_id      longitude       latitude\n",
       "count  3.291250e+05  3.290560e+05  329062.000000  329062.000000\n",
       "mean   1.626038e+06  9.414892e+16      82.467245      17.596691\n",
       "std    9.404014e+05  5.342228e+18       2.215557       1.537303\n",
       "min    5.985000e+03 -9.222173e+18      12.567400      10.941103\n",
       "25%    8.114810e+05 -4.718484e+18      82.226211      17.744599\n",
       "50%    1.627460e+06 -2.849262e+16      83.339626      17.774964\n",
       "75%    2.440367e+06  4.883859e+18      83.372565      17.807304\n",
       "max    3.252943e+06  9.220807e+18      92.859813      41.871900"
      ]
     },
     "execution_count": 66,
     "metadata": {},
     "output_type": "execute_result"
    }
   ],
   "source": [
    "df2_group.describe()"
   ]
  },
  {
   "cell_type": "code",
   "execution_count": 67,
   "metadata": {},
   "outputs": [
    {
     "data": {
      "text/plain": [
       "event_id       0\n",
       "device_id    453\n",
       "timestamp      0\n",
       "longitude    423\n",
       "latitude     423\n",
       "city           0\n",
       "state        377\n",
       "dtype: int64"
      ]
     },
     "execution_count": 67,
     "metadata": {},
     "output_type": "execute_result"
    }
   ],
   "source": [
    "df2_all.isnull().sum()"
   ]
  },
  {
   "cell_type": "code",
   "execution_count": 68,
   "metadata": {},
   "outputs": [
    {
     "data": {
      "text/plain": [
       "array(['Delhi', 'Pune', 'Chennai', 'Visakhapatnam', 'Indore', 'Jaipur',\n",
       "       'Arambagh', 'Channapatna', 'Gangarampur'], dtype=object)"
      ]
     },
     "execution_count": 68,
     "metadata": {},
     "output_type": "execute_result"
    }
   ],
   "source": [
    "df2_all[df2_all['state'].isnull()]['city'].unique()"
   ]
  },
  {
   "cell_type": "code",
   "execution_count": 69,
   "metadata": {},
   "outputs": [],
   "source": [
    "filter_list = ['AndhraPradesh', 'Pondicherry', 'Mizoram', 'AndamanandNicobarIslands', 'Meghalaya', 'HimachalPradesh']        \n",
    "df2_all_test = df2_all[df2_all.state.isin(filter_list)]"
   ]
  },
  {
   "cell_type": "code",
   "execution_count": 70,
   "metadata": {},
   "outputs": [
    {
     "data": {
      "text/plain": [
       "event_id      0\n",
       "device_id    69\n",
       "timestamp     0\n",
       "longitude    63\n",
       "latitude     63\n",
       "city          0\n",
       "state         0\n",
       "dtype: int64"
      ]
     },
     "execution_count": 70,
     "metadata": {},
     "output_type": "execute_result"
    }
   ],
   "source": [
    "df2_all_test.isnull().sum()"
   ]
  },
  {
   "cell_type": "code",
   "execution_count": 71,
   "metadata": {},
   "outputs": [],
   "source": [
    "df2_all_test.fillna(method = 'ffill', inplace = True)"
   ]
  },
  {
   "cell_type": "code",
   "execution_count": 72,
   "metadata": {},
   "outputs": [
    {
     "data": {
      "text/plain": [
       "event_id     0\n",
       "device_id    0\n",
       "timestamp    0\n",
       "longitude    0\n",
       "latitude     0\n",
       "city         0\n",
       "state        0\n",
       "dtype: int64"
      ]
     },
     "execution_count": 72,
     "metadata": {},
     "output_type": "execute_result"
    }
   ],
   "source": [
    "df2_all_test.isnull().sum()"
   ]
  },
  {
   "cell_type": "code",
   "execution_count": 73,
   "metadata": {},
   "outputs": [
    {
     "data": {
      "text/plain": [
       "Series([], dtype: float64)"
      ]
     },
     "execution_count": 73,
     "metadata": {},
     "output_type": "execute_result"
    }
   ],
   "source": [
    "df2_all_test[df2_all_test['city']=='Purnia']['latitude'].mode()"
   ]
  },
  {
   "cell_type": "code",
   "execution_count": 74,
   "metadata": {},
   "outputs": [],
   "source": [
    "# import folium\n",
    "# from folium.plugins import MarkerCluster\n",
    "# # Make an empty map\n",
    "# map = folium.Map(location=[22.356359, 79.395484], zoom_start=5)\n",
    "# mc = MarkerCluster()\n",
    "# state_list = ['WestBengal', 'Karnataka', 'Gujarat', 'Bihar', 'Punjab', 'Kerala']\n",
    "\n",
    "# for state in state_list:\n",
    "#     mapping_data = df2_all_test[['latitude', 'longitude','city']][df2_all_test['state']==state].drop_duplicates()\n",
    "#     latitude_list = []\n",
    "#     longitude = []\n",
    "#     citylist = []\n",
    "#     for city in mapping_data.city.unique().tolist():\n",
    "#         latitude_list.append(mapping_data.latitude[mapping_data['city']==city].mean())\n",
    "#         longitude.append(mapping_data.longitude[mapping_data['city']==city].mean())   \n",
    "#         citylist.append(city)\n",
    "    \n",
    "#     df_data = pd.DataFrame(\n",
    "#     {'latitude' : latitude_list,\n",
    "#      'longitude' : longitude,\n",
    "#      'city' : citylist\n",
    "#     })\n",
    "    \n",
    "#     locations = df_data[['latitude', 'longitude']]\n",
    "#     locationlist = locations.values.tolist()\n",
    "    \n",
    "#     for index, item in enumerate(locationlist):\n",
    "#         mc.add_child(folium.Marker(location=item, popup=citylist[index]))\n",
    "                             \n",
    "# map.add_child(mc)\n",
    "# map.save(\"state_wise_map_plot.html\")\n",
    "# map"
   ]
  },
  {
   "cell_type": "code",
   "execution_count": 75,
   "metadata": {},
   "outputs": [],
   "source": [
    "# import folium\n",
    "# from folium.plugins import MarkerCluster\n",
    "\n",
    "# map2 = folium.Map(location=[22.356359, 79.395484], zoom_start=5)\n",
    "# mc2 = MarkerCluster()\n",
    "# state_list = ['WestBengal', 'Karnataka', 'Gujarat', 'Bihar', 'Punjab', 'Kerala']\n",
    "\n",
    "# for state in state_list:\n",
    "#     mapping_data = df2_all_test[['latitude', 'longitude', 'city']][df2_all_test['state']==state].drop_duplicates()\n",
    "#     citylist = mapping_data['city'].tolist()\n",
    "        \n",
    "#     locations = mapping_data[['latitude', 'longitude']]\n",
    "#     locationlist = locations.values.tolist()\n",
    "    \n",
    "#     for index, item in enumerate(locationlist):\n",
    "#         mc2.add_child(folium.Marker(location=item, popup=citylist[index]))\n",
    "                             \n",
    "# map2.add_child(mc2)\n",
    "# map2.save(\"state_wise_map_plot2.html\")\n",
    "# map2"
   ]
  },
  {
   "cell_type": "code",
   "execution_count": null,
   "metadata": {},
   "outputs": [],
   "source": []
  },
  {
   "cell_type": "code",
   "execution_count": 76,
   "metadata": {},
   "outputs": [
    {
     "data": {
      "text/plain": [
       "'2016-04-30 23:52:27'"
      ]
     },
     "execution_count": 76,
     "metadata": {},
     "output_type": "execute_result"
    }
   ],
   "source": [
    "df2_group['timestamp'].min()"
   ]
  },
  {
   "cell_type": "code",
   "execution_count": 77,
   "metadata": {},
   "outputs": [
    {
     "data": {
      "text/plain": [
       "'2016-05-07 23:58:09'"
      ]
     },
     "execution_count": 77,
     "metadata": {},
     "output_type": "execute_result"
    }
   ],
   "source": [
    "df2_group['timestamp'].max()"
   ]
  },
  {
   "cell_type": "code",
   "execution_count": 78,
   "metadata": {},
   "outputs": [
    {
     "data": {
      "text/plain": [
       "event_id      0\n",
       "device_id    69\n",
       "timestamp     0\n",
       "longitude    63\n",
       "latitude     63\n",
       "city          0\n",
       "state         0\n",
       "dtype: int64"
      ]
     },
     "execution_count": 78,
     "metadata": {},
     "output_type": "execute_result"
    }
   ],
   "source": [
    "df2_group.isnull().sum()"
   ]
  },
  {
   "cell_type": "code",
   "execution_count": 79,
   "metadata": {},
   "outputs": [
    {
     "data": {
      "text/plain": [
       "5223"
      ]
     },
     "execution_count": 79,
     "metadata": {},
     "output_type": "execute_result"
    }
   ],
   "source": [
    "df2_group['device_id'].nunique()"
   ]
  },
  {
   "cell_type": "code",
   "execution_count": 80,
   "metadata": {},
   "outputs": [],
   "source": [
    "df2_group1 = pd.DataFrame(data=df2_group, columns=['city','longitude','latitude'])"
   ]
  },
  {
   "cell_type": "code",
   "execution_count": 81,
   "metadata": {},
   "outputs": [
    {
     "data": {
      "text/plain": [
       "city          0\n",
       "longitude    63\n",
       "latitude     63\n",
       "dtype: int64"
      ]
     },
     "execution_count": 81,
     "metadata": {},
     "output_type": "execute_result"
    }
   ],
   "source": [
    "df2_group1.isnull().sum()"
   ]
  },
  {
   "cell_type": "code",
   "execution_count": 82,
   "metadata": {},
   "outputs": [],
   "source": [
    "df2_group1['longitude'] = df2_group1['longitude'].fillna(df2_group1.groupby('city')['longitude'].transform('mean'))\n",
    "df2_group1['latitude'] = df2_group1['latitude'].fillna(df2_group1.groupby('city')['latitude'].transform('mean'))"
   ]
  },
  {
   "cell_type": "code",
   "execution_count": 83,
   "metadata": {},
   "outputs": [
    {
     "data": {
      "text/plain": [
       "city         0\n",
       "longitude    0\n",
       "latitude     0\n",
       "dtype: int64"
      ]
     },
     "execution_count": 83,
     "metadata": {},
     "output_type": "execute_result"
    }
   ],
   "source": [
    "df2_group1.isnull().sum()"
   ]
  },
  {
   "cell_type": "code",
   "execution_count": 84,
   "metadata": {},
   "outputs": [
    {
     "name": "stdout",
     "output_type": "stream",
     "text": [
      "<class 'pandas.core.frame.DataFrame'>\n",
      "Int64Index: 329125 entries, 1868677 to 2197848\n",
      "Data columns (total 3 columns):\n",
      "city         329125 non-null object\n",
      "longitude    329125 non-null float64\n",
      "latitude     329125 non-null float64\n",
      "dtypes: float64(2), object(1)\n",
      "memory usage: 10.0+ MB\n"
     ]
    }
   ],
   "source": [
    "df2_group1.info()"
   ]
  },
  {
   "cell_type": "code",
   "execution_count": 85,
   "metadata": {},
   "outputs": [
    {
     "name": "stderr",
     "output_type": "stream",
     "text": [
      "C:\\ProgramData\\Anaconda3\\lib\\site-packages\\pandas\\core\\frame.py:3940: SettingWithCopyWarning: \n",
      "A value is trying to be set on a copy of a slice from a DataFrame\n",
      "\n",
      "See the caveats in the documentation: http://pandas.pydata.org/pandas-docs/stable/indexing.html#indexing-view-versus-copy\n",
      "  errors=errors)\n"
     ]
    }
   ],
   "source": [
    "df2_group.drop(['longitude','latitude'],axis=1,inplace=True)"
   ]
  },
  {
   "cell_type": "code",
   "execution_count": 86,
   "metadata": {},
   "outputs": [
    {
     "name": "stdout",
     "output_type": "stream",
     "text": [
      "<class 'pandas.core.frame.DataFrame'>\n",
      "Int64Index: 329125 entries, 1868677 to 2197848\n",
      "Data columns (total 5 columns):\n",
      "event_id     329125 non-null float64\n",
      "device_id    329056 non-null float64\n",
      "timestamp    329125 non-null object\n",
      "city         329125 non-null object\n",
      "state        329125 non-null object\n",
      "dtypes: float64(2), object(3)\n",
      "memory usage: 15.1+ MB\n"
     ]
    }
   ],
   "source": [
    "df2_group.info()"
   ]
  },
  {
   "cell_type": "code",
   "execution_count": 87,
   "metadata": {},
   "outputs": [
    {
     "name": "stderr",
     "output_type": "stream",
     "text": [
      "C:\\ProgramData\\Anaconda3\\lib\\site-packages\\ipykernel_launcher.py:1: SettingWithCopyWarning: \n",
      "A value is trying to be set on a copy of a slice from a DataFrame.\n",
      "Try using .loc[row_indexer,col_indexer] = value instead\n",
      "\n",
      "See the caveats in the documentation: http://pandas.pydata.org/pandas-docs/stable/indexing.html#indexing-view-versus-copy\n",
      "  \"\"\"Entry point for launching an IPython kernel.\n"
     ]
    }
   ],
   "source": [
    "df2_group['longitude']=df2_group1['longitude']"
   ]
  },
  {
   "cell_type": "code",
   "execution_count": 88,
   "metadata": {},
   "outputs": [
    {
     "name": "stderr",
     "output_type": "stream",
     "text": [
      "C:\\ProgramData\\Anaconda3\\lib\\site-packages\\ipykernel_launcher.py:1: SettingWithCopyWarning: \n",
      "A value is trying to be set on a copy of a slice from a DataFrame.\n",
      "Try using .loc[row_indexer,col_indexer] = value instead\n",
      "\n",
      "See the caveats in the documentation: http://pandas.pydata.org/pandas-docs/stable/indexing.html#indexing-view-versus-copy\n",
      "  \"\"\"Entry point for launching an IPython kernel.\n"
     ]
    }
   ],
   "source": [
    "df2_group['latitude']=df2_group1['latitude']"
   ]
  },
  {
   "cell_type": "code",
   "execution_count": 89,
   "metadata": {},
   "outputs": [
    {
     "name": "stdout",
     "output_type": "stream",
     "text": [
      "<class 'pandas.core.frame.DataFrame'>\n",
      "Int64Index: 329125 entries, 1868677 to 2197848\n",
      "Data columns (total 7 columns):\n",
      "event_id     329125 non-null float64\n",
      "device_id    329056 non-null float64\n",
      "timestamp    329125 non-null object\n",
      "city         329125 non-null object\n",
      "state        329125 non-null object\n",
      "longitude    329125 non-null float64\n",
      "latitude     329125 non-null float64\n",
      "dtypes: float64(4), object(3)\n",
      "memory usage: 20.1+ MB\n"
     ]
    }
   ],
   "source": [
    "df2_group.info()"
   ]
  },
  {
   "cell_type": "code",
   "execution_count": 90,
   "metadata": {},
   "outputs": [
    {
     "data": {
      "text/plain": [
       "event_id      0\n",
       "device_id    69\n",
       "timestamp     0\n",
       "city          0\n",
       "state         0\n",
       "longitude     0\n",
       "latitude      0\n",
       "dtype: int64"
      ]
     },
     "execution_count": 90,
     "metadata": {},
     "output_type": "execute_result"
    }
   ],
   "source": [
    "df2_group.isnull().sum()"
   ]
  },
  {
   "cell_type": "code",
   "execution_count": 91,
   "metadata": {},
   "outputs": [
    {
     "name": "stdout",
     "output_type": "stream",
     "text": [
      "<class 'pandas.core.frame.DataFrame'>\n",
      "RangeIndex: 87726 entries, 0 to 87725\n",
      "Data columns (total 3 columns):\n",
      "device_id       87726 non-null int64\n",
      "phone_brand     87726 non-null object\n",
      "device_model    87726 non-null object\n",
      "dtypes: int64(1), object(2)\n",
      "memory usage: 2.0+ MB\n"
     ]
    }
   ],
   "source": [
    "df3.info()"
   ]
  },
  {
   "cell_type": "code",
   "execution_count": 92,
   "metadata": {},
   "outputs": [
    {
     "data": {
      "text/plain": [
       "87726"
      ]
     },
     "execution_count": 92,
     "metadata": {},
     "output_type": "execute_result"
    }
   ],
   "source": [
    "len(df3)"
   ]
  },
  {
   "cell_type": "code",
   "execution_count": 93,
   "metadata": {},
   "outputs": [
    {
     "data": {
      "text/html": [
       "<div>\n",
       "<style scoped>\n",
       "    .dataframe tbody tr th:only-of-type {\n",
       "        vertical-align: middle;\n",
       "    }\n",
       "\n",
       "    .dataframe tbody tr th {\n",
       "        vertical-align: top;\n",
       "    }\n",
       "\n",
       "    .dataframe thead th {\n",
       "        text-align: right;\n",
       "    }\n",
       "</style>\n",
       "<table border=\"1\" class=\"dataframe\">\n",
       "  <thead>\n",
       "    <tr style=\"text-align: right;\">\n",
       "      <th></th>\n",
       "      <th>device_id</th>\n",
       "    </tr>\n",
       "  </thead>\n",
       "  <tbody>\n",
       "    <tr>\n",
       "      <th>count</th>\n",
       "      <td>8.772600e+04</td>\n",
       "    </tr>\n",
       "    <tr>\n",
       "      <th>mean</th>\n",
       "      <td>-5.212557e+15</td>\n",
       "    </tr>\n",
       "    <tr>\n",
       "      <th>std</th>\n",
       "      <td>5.330157e+18</td>\n",
       "    </tr>\n",
       "    <tr>\n",
       "      <th>min</th>\n",
       "      <td>-9.223322e+18</td>\n",
       "    </tr>\n",
       "    <tr>\n",
       "      <th>25%</th>\n",
       "      <td>-4.623331e+18</td>\n",
       "    </tr>\n",
       "    <tr>\n",
       "      <th>50%</th>\n",
       "      <td>-3.109802e+16</td>\n",
       "    </tr>\n",
       "    <tr>\n",
       "      <th>75%</th>\n",
       "      <td>4.635194e+18</td>\n",
       "    </tr>\n",
       "    <tr>\n",
       "      <th>max</th>\n",
       "      <td>9.222849e+18</td>\n",
       "    </tr>\n",
       "  </tbody>\n",
       "</table>\n",
       "</div>"
      ],
      "text/plain": [
       "          device_id\n",
       "count  8.772600e+04\n",
       "mean  -5.212557e+15\n",
       "std    5.330157e+18\n",
       "min   -9.223322e+18\n",
       "25%   -4.623331e+18\n",
       "50%   -3.109802e+16\n",
       "75%    4.635194e+18\n",
       "max    9.222849e+18"
      ]
     },
     "execution_count": 93,
     "metadata": {},
     "output_type": "execute_result"
    }
   ],
   "source": [
    "df3.describe()"
   ]
  },
  {
   "cell_type": "code",
   "execution_count": 94,
   "metadata": {},
   "outputs": [
    {
     "data": {
      "text/plain": [
       "小米      21645\n",
       "三星      19211\n",
       "华为      15181\n",
       "vivo     7596\n",
       "OPPO     6717\n",
       "Name: phone_brand, dtype: int64"
      ]
     },
     "execution_count": 94,
     "metadata": {},
     "output_type": "execute_result"
    }
   ],
   "source": [
    "df3[\"phone_brand\"].value_counts().head()"
   ]
  },
  {
   "cell_type": "code",
   "execution_count": 95,
   "metadata": {},
   "outputs": [
    {
     "data": {
      "text/plain": [
       "<matplotlib.axes._subplots.AxesSubplot at 0x1e78800ee80>"
      ]
     },
     "execution_count": 95,
     "metadata": {},
     "output_type": "execute_result"
    },
    {
     "data": {
      "image/png": "[encoded data removed]",
      "text/plain": [
       "<Figure size 432x288 with 1 Axes>"
      ]
     },
     "metadata": {
      "needs_background": "light"
     },
     "output_type": "display_data"
    }
   ],
   "source": [
    "df3['device_model'].value_counts().head(10).plot.bar()"
   ]
  },
  {
   "cell_type": "code",
   "execution_count": 96,
   "metadata": {},
   "outputs": [
    {
     "data": {
      "text/plain": [
       "红米note           3500\n",
       "MI 3             2739\n",
       "MI 2S            2547\n",
       "Galaxy Note 3    2378\n",
       "MI 4             2256\n",
       "Name: device_model, dtype: int64"
      ]
     },
     "execution_count": 96,
     "metadata": {},
     "output_type": "execute_result"
    }
   ],
   "source": [
    "df3[\"device_model\"].value_counts().head()"
   ]
  },
  {
   "cell_type": "code",
   "execution_count": 97,
   "metadata": {},
   "outputs": [
    {
     "data": {
      "text/plain": [
       "<matplotlib.axes._subplots.AxesSubplot at 0x1e797656390>"
      ]
     },
     "execution_count": 97,
     "metadata": {},
     "output_type": "execute_result"
    },
    {
     "data": {
      "image/png": "[encoded data removed]",
      "text/plain": [
       "<Figure size 432x288 with 1 Axes>"
      ]
     },
     "metadata": {
      "needs_background": "light"
     },
     "output_type": "display_data"
    }
   ],
   "source": [
    "df3['phone_brand'].value_counts().head(10).plot.bar()"
   ]
  },
  {
   "cell_type": "code",
   "execution_count": 98,
   "metadata": {},
   "outputs": [],
   "source": [
    "df3_new = df3[['phone_brand','device_model']].copy()"
   ]
  },
  {
   "cell_type": "code",
   "execution_count": 99,
   "metadata": {},
   "outputs": [
    {
     "name": "stdout",
     "output_type": "stream",
     "text": [
      "----- vivo ------\n",
      "X3T      425\n",
      "X5Pro    401\n",
      "X3L      333\n",
      "Xplay    293\n",
      "X5SL     279\n",
      "Name: device_model, dtype: int64\n",
      "----- 小米 ------\n",
      "红米note    3500\n",
      "MI 3      2739\n",
      "MI 2S     2547\n",
      "MI 4      2256\n",
      "红米1S      1191\n",
      "Name: device_model, dtype: int64\n",
      "----- OPPO ------\n",
      "R7         663\n",
      "R7 Plus    459\n",
      "R7s        423\n",
      "Find 7     381\n",
      "R3         335\n",
      "Name: device_model, dtype: int64\n",
      "----- 三星 ------\n",
      "Galaxy Note 3    2378\n",
      "Galaxy S4        1910\n",
      "Galaxy Note 2    1877\n",
      "Galaxy S3        1156\n",
      "Galaxy S5         827\n",
      "Name: device_model, dtype: int64\n"
     ]
    }
   ],
   "source": [
    "for i in df3['phone_brand'].head(10).unique():\n",
    "        print ('-----',i,'------')\n",
    "        print (df3_new[df3_new['phone_brand']==i]['device_model'].value_counts().head())"
   ]
  },
  {
   "cell_type": "code",
   "execution_count": 100,
   "metadata": {},
   "outputs": [],
   "source": [
    "df1[\"device_id\"] = df1[\"device_id\"].astype(float)"
   ]
  },
  {
   "cell_type": "code",
   "execution_count": 101,
   "metadata": {},
   "outputs": [],
   "source": [
    "df3[\"device_id\"] = df3[\"device_id\"].astype(float)"
   ]
  },
  {
   "cell_type": "code",
   "execution_count": 102,
   "metadata": {},
   "outputs": [
    {
     "name": "stdout",
     "output_type": "stream",
     "text": [
      "<class 'pandas.core.frame.DataFrame'>\n",
      "RangeIndex: 74645 entries, 0 to 74644\n",
      "Data columns (total 4 columns):\n",
      "device_id    74645 non-null float64\n",
      "gender       74645 non-null object\n",
      "age          74645 non-null int64\n",
      "group        74645 non-null object\n",
      "dtypes: float64(1), int64(1), object(2)\n",
      "memory usage: 2.3+ MB\n",
      "None\n",
      "<class 'pandas.core.frame.DataFrame'>\n",
      "RangeIndex: 87726 entries, 0 to 87725\n",
      "Data columns (total 3 columns):\n",
      "device_id       87726 non-null float64\n",
      "phone_brand     87726 non-null object\n",
      "device_model    87726 non-null object\n",
      "dtypes: float64(1), object(2)\n",
      "memory usage: 2.0+ MB\n",
      "None\n"
     ]
    }
   ],
   "source": [
    "print(df1.info())\n",
    "print(df3.info())"
   ]
  },
  {
   "cell_type": "code",
   "execution_count": 103,
   "metadata": {},
   "outputs": [],
   "source": [
    "brands_in_chinese = ['华为','小米','三星','魅族','酷派','乐视','联想 ','vivo','OPPO','HTC','LG','TCL','LOGO','Lovme','ZUK','PPTV','努比亚','海信','天语','夏新','欧比', '优米', '欧博信', '奇酷', '锤子', '酷比魔方', '语信', '朵唯', '德赛', '一加',\n",
    "       '华硕', '普耐尔', '易派', '摩托罗拉', '优购', '酷珀', '梦米', '爱派尔', '昂达', '邦华',\n",
    "       '聆韵', '中国移动', '诺亚信', '酷比', '艾优尼', '斐讯', '富可视', '欧新', '美图', '宝捷讯',\n",
    "       '青橙', '果米', '波导', '诺基亚', '神舟', '糯米', '亿通', '纽曼', '唯米', '百立丰',\n",
    "       '沃普丰', '虾米', '凯利通', '贝尔丰', '至尊宝', '蓝魔', '青葱', '白米', '大可乐', '尼比鲁',\n",
    "       '康佳', '乡米', '黑米', '海尔', '优语', '维图', '米歌', '广信', 'E派', '小杨树', '糖葫芦',\n",
    "       '西米', '谷歌', '长虹', '飞利浦', '惠普', '台电', '大Q', '鲜米', '先锋', '欧奇']\n",
    "brands_in_english = ['Huawei','Xiaomi','Samsung','Meizu','Coolpad','LeEco','Lenovo','vivo','OPPO','HTC','LG','TCL','LOGO','Lovme','ZUK','PPTV','Nubia','Hisense','Amagatarai','Amoi','Obi', 'Youmi', 'Obson', 'Qiku', 'Hammer', 'Cubei Cube', 'Letters', 'Duowei', 'Desai', 'One Plus','ASUS', 'Punale', 'Yipai', 'Motorola', 'Yougo', 'Cooper', 'Mengmi', 'Aipair', 'Onda', 'Banghua', 'Lingyun', 'China Mobile', 'Noah',' Coolby ',' Aiyouni ',' Feixun ',' Focus', 'Ou Xin', 'Meitu', 'Projet News','Green Orange', 'Fruit Rice', 'Flyer', 'Nokia', 'Shenzhou', 'Glutinous Rice', 'Yi Tong', 'Newman', 'Wei Mi', 'Bai Li Feng','Wopfung', 'Shrimp', 'Kellystone', 'Bellfonte', 'Extreme Treasure', 'Blue Devils', 'Scallion', 'White Rice', 'Big Cola', 'Nibiru','Kangjia', 'Xianmi', 'Black Rice', 'Haier', 'Youyu', 'Weitu', 'Mi Ge', 'Guangxin', 'E-Pay', 'Little Poplar', ' Candied ','Simi', 'Google', 'Changhong', 'Philips', 'HP', 'Taipower', 'Big Q', 'Fresh Rice', 'Pioneer', 'Ouqi']\n",
    "\n",
    "brands_dict = dict(zip(brands_in_chinese, brands_in_english)) "
   ]
  },
  {
   "cell_type": "code",
   "execution_count": 104,
   "metadata": {},
   "outputs": [],
   "source": [
    "def translator(val):\n",
    "    if val in brands_dict:\n",
    "        return brands_dict[val]\n",
    "    else:\n",
    "        return val"
   ]
  },
  {
   "cell_type": "code",
   "execution_count": 105,
   "metadata": {},
   "outputs": [],
   "source": [
    "df3.phone_brand = df3.phone_brand.apply(translator)"
   ]
  },
  {
   "cell_type": "code",
   "execution_count": 106,
   "metadata": {},
   "outputs": [
    {
     "data": {
      "text/html": [
       "<div>\n",
       "<style scoped>\n",
       "    .dataframe tbody tr th:only-of-type {\n",
       "        vertical-align: middle;\n",
       "    }\n",
       "\n",
       "    .dataframe tbody tr th {\n",
       "        vertical-align: top;\n",
       "    }\n",
       "\n",
       "    .dataframe thead th {\n",
       "        text-align: right;\n",
       "    }\n",
       "</style>\n",
       "<table border=\"1\" class=\"dataframe\">\n",
       "  <thead>\n",
       "    <tr style=\"text-align: right;\">\n",
       "      <th></th>\n",
       "      <th>device_id</th>\n",
       "      <th>gender</th>\n",
       "      <th>age</th>\n",
       "      <th>group</th>\n",
       "      <th>phone_brand</th>\n",
       "      <th>device_model</th>\n",
       "    </tr>\n",
       "  </thead>\n",
       "  <tbody>\n",
       "    <tr>\n",
       "      <th>0</th>\n",
       "      <td>-8.076088e+18</td>\n",
       "      <td>M</td>\n",
       "      <td>35</td>\n",
       "      <td>M32-38</td>\n",
       "      <td>Xiaomi</td>\n",
       "      <td>MI 2</td>\n",
       "    </tr>\n",
       "    <tr>\n",
       "      <th>1</th>\n",
       "      <td>-2.897162e+18</td>\n",
       "      <td>M</td>\n",
       "      <td>35</td>\n",
       "      <td>M32-38</td>\n",
       "      <td>Xiaomi</td>\n",
       "      <td>MI 2</td>\n",
       "    </tr>\n",
       "    <tr>\n",
       "      <th>2</th>\n",
       "      <td>-8.260684e+18</td>\n",
       "      <td>M</td>\n",
       "      <td>35</td>\n",
       "      <td>M32-38</td>\n",
       "      <td>Xiaomi</td>\n",
       "      <td>MI 2</td>\n",
       "    </tr>\n",
       "    <tr>\n",
       "      <th>3</th>\n",
       "      <td>-4.938849e+18</td>\n",
       "      <td>M</td>\n",
       "      <td>30</td>\n",
       "      <td>M29-31</td>\n",
       "      <td>Samsung</td>\n",
       "      <td>Galaxy S4</td>\n",
       "    </tr>\n",
       "    <tr>\n",
       "      <th>4</th>\n",
       "      <td>2.451335e+17</td>\n",
       "      <td>M</td>\n",
       "      <td>30</td>\n",
       "      <td>M29-31</td>\n",
       "      <td>SUGAR</td>\n",
       "      <td>时尚手机</td>\n",
       "    </tr>\n",
       "  </tbody>\n",
       "</table>\n",
       "</div>"
      ],
      "text/plain": [
       "      device_id gender  age   group phone_brand device_model\n",
       "0 -8.076088e+18      M   35  M32-38      Xiaomi         MI 2\n",
       "1 -2.897162e+18      M   35  M32-38      Xiaomi         MI 2\n",
       "2 -8.260684e+18      M   35  M32-38      Xiaomi         MI 2\n",
       "3 -4.938849e+18      M   30  M29-31     Samsung    Galaxy S4\n",
       "4  2.451335e+17      M   30  M29-31       SUGAR         时尚手机"
      ]
     },
     "execution_count": 106,
     "metadata": {},
     "output_type": "execute_result"
    }
   ],
   "source": [
    "merge_df1_df3 = pd.merge(df1, df3, on='device_id', how='inner')\n",
    "merge_df1_df3.head()"
   ]
  },
  {
   "cell_type": "code",
   "execution_count": 107,
   "metadata": {},
   "outputs": [
    {
     "name": "stdout",
     "output_type": "stream",
     "text": [
      "<class 'pandas.core.frame.DataFrame'>\n",
      "Int64Index: 74617 entries, 0 to 74616\n",
      "Data columns (total 6 columns):\n",
      "device_id       74617 non-null float64\n",
      "gender          74617 non-null object\n",
      "age             74617 non-null int64\n",
      "group           74617 non-null object\n",
      "phone_brand     74617 non-null object\n",
      "device_model    74617 non-null object\n",
      "dtypes: float64(1), int64(1), object(4)\n",
      "memory usage: 4.0+ MB\n"
     ]
    }
   ],
   "source": [
    "merge_df1_df3.info()"
   ]
  },
  {
   "cell_type": "code",
   "execution_count": 108,
   "metadata": {},
   "outputs": [
    {
     "name": "stdout",
     "output_type": "stream",
     "text": [
      "(74645, 4)\n",
      "(87726, 3)\n",
      "(74617, 6)\n"
     ]
    }
   ],
   "source": [
    "print(df1.shape)\n",
    "print(df3.shape)\n",
    "print(merge_df1_df3.shape)"
   ]
  },
  {
   "cell_type": "code",
   "execution_count": 109,
   "metadata": {},
   "outputs": [
    {
     "data": {
      "text/html": [
       "<div>\n",
       "<style scoped>\n",
       "    .dataframe tbody tr th:only-of-type {\n",
       "        vertical-align: middle;\n",
       "    }\n",
       "\n",
       "    .dataframe tbody tr th {\n",
       "        vertical-align: top;\n",
       "    }\n",
       "\n",
       "    .dataframe thead th {\n",
       "        text-align: right;\n",
       "    }\n",
       "</style>\n",
       "<table border=\"1\" class=\"dataframe\">\n",
       "  <thead>\n",
       "    <tr style=\"text-align: right;\">\n",
       "      <th></th>\n",
       "      <th>device_id</th>\n",
       "      <th>phone_brand</th>\n",
       "      <th>device_model</th>\n",
       "    </tr>\n",
       "  </thead>\n",
       "  <tbody>\n",
       "    <tr>\n",
       "      <th>0</th>\n",
       "      <td>1.877776e+18</td>\n",
       "      <td>vivo</td>\n",
       "      <td>Y13</td>\n",
       "    </tr>\n",
       "    <tr>\n",
       "      <th>1</th>\n",
       "      <td>-3.766087e+18</td>\n",
       "      <td>Xiaomi</td>\n",
       "      <td>V183</td>\n",
       "    </tr>\n",
       "    <tr>\n",
       "      <th>2</th>\n",
       "      <td>-6.238938e+18</td>\n",
       "      <td>OPPO</td>\n",
       "      <td>R7s</td>\n",
       "    </tr>\n",
       "    <tr>\n",
       "      <th>3</th>\n",
       "      <td>8.973198e+18</td>\n",
       "      <td>Samsung</td>\n",
       "      <td>A368t</td>\n",
       "    </tr>\n",
       "    <tr>\n",
       "      <th>4</th>\n",
       "      <td>-2.015528e+18</td>\n",
       "      <td>Xiaomi</td>\n",
       "      <td>红米Note2</td>\n",
       "    </tr>\n",
       "  </tbody>\n",
       "</table>\n",
       "</div>"
      ],
      "text/plain": [
       "      device_id phone_brand device_model\n",
       "0  1.877776e+18        vivo          Y13\n",
       "1 -3.766087e+18      Xiaomi         V183\n",
       "2 -6.238938e+18        OPPO          R7s\n",
       "3  8.973198e+18     Samsung        A368t\n",
       "4 -2.015528e+18      Xiaomi      红米Note2"
      ]
     },
     "execution_count": 109,
     "metadata": {},
     "output_type": "execute_result"
    }
   ],
   "source": [
    "df3.head()"
   ]
  },
  {
   "cell_type": "code",
   "execution_count": 110,
   "metadata": {},
   "outputs": [
    {
     "data": {
      "text/html": [
       "<div>\n",
       "<style scoped>\n",
       "    .dataframe tbody tr th:only-of-type {\n",
       "        vertical-align: middle;\n",
       "    }\n",
       "\n",
       "    .dataframe tbody tr th {\n",
       "        vertical-align: top;\n",
       "    }\n",
       "\n",
       "    .dataframe thead th {\n",
       "        text-align: right;\n",
       "    }\n",
       "</style>\n",
       "<table border=\"1\" class=\"dataframe\">\n",
       "  <thead>\n",
       "    <tr style=\"text-align: right;\">\n",
       "      <th></th>\n",
       "      <th>device_id</th>\n",
       "      <th>gender</th>\n",
       "      <th>age</th>\n",
       "      <th>group</th>\n",
       "      <th>phone_brand</th>\n",
       "      <th>device_model</th>\n",
       "      <th>event_id</th>\n",
       "      <th>timestamp</th>\n",
       "      <th>city</th>\n",
       "      <th>state</th>\n",
       "      <th>longitude</th>\n",
       "      <th>latitude</th>\n",
       "    </tr>\n",
       "  </thead>\n",
       "  <tbody>\n",
       "    <tr>\n",
       "      <th>0</th>\n",
       "      <td>-1.039701e+18</td>\n",
       "      <td>M</td>\n",
       "      <td>38</td>\n",
       "      <td>M32-38</td>\n",
       "      <td>Xiaomi</td>\n",
       "      <td>MI 4</td>\n",
       "      <td>9510.0</td>\n",
       "      <td>2016-05-06 10:47:07</td>\n",
       "      <td>Visakhapatnam</td>\n",
       "      <td>AndhraPradesh</td>\n",
       "      <td>83.364566</td>\n",
       "      <td>17.788503</td>\n",
       "    </tr>\n",
       "    <tr>\n",
       "      <th>1</th>\n",
       "      <td>-1.039701e+18</td>\n",
       "      <td>M</td>\n",
       "      <td>38</td>\n",
       "      <td>M32-38</td>\n",
       "      <td>Xiaomi</td>\n",
       "      <td>MI 4</td>\n",
       "      <td>66535.0</td>\n",
       "      <td>2016-05-06 02:53:29</td>\n",
       "      <td>Visakhapatnam</td>\n",
       "      <td>AndhraPradesh</td>\n",
       "      <td>83.364566</td>\n",
       "      <td>17.788503</td>\n",
       "    </tr>\n",
       "    <tr>\n",
       "      <th>2</th>\n",
       "      <td>-1.039701e+18</td>\n",
       "      <td>M</td>\n",
       "      <td>38</td>\n",
       "      <td>M32-38</td>\n",
       "      <td>Xiaomi</td>\n",
       "      <td>MI 4</td>\n",
       "      <td>142256.0</td>\n",
       "      <td>2016-05-06 10:42:02</td>\n",
       "      <td>Visakhapatnam</td>\n",
       "      <td>AndhraPradesh</td>\n",
       "      <td>83.364566</td>\n",
       "      <td>17.788503</td>\n",
       "    </tr>\n",
       "    <tr>\n",
       "      <th>3</th>\n",
       "      <td>-1.039701e+18</td>\n",
       "      <td>M</td>\n",
       "      <td>38</td>\n",
       "      <td>M32-38</td>\n",
       "      <td>Xiaomi</td>\n",
       "      <td>MI 4</td>\n",
       "      <td>162135.0</td>\n",
       "      <td>2016-05-07 01:48:44</td>\n",
       "      <td>Visakhapatnam</td>\n",
       "      <td>AndhraPradesh</td>\n",
       "      <td>83.364566</td>\n",
       "      <td>17.788503</td>\n",
       "    </tr>\n",
       "    <tr>\n",
       "      <th>4</th>\n",
       "      <td>-1.039701e+18</td>\n",
       "      <td>M</td>\n",
       "      <td>38</td>\n",
       "      <td>M32-38</td>\n",
       "      <td>Xiaomi</td>\n",
       "      <td>MI 4</td>\n",
       "      <td>172479.0</td>\n",
       "      <td>2016-05-03 10:46:20</td>\n",
       "      <td>Visakhapatnam</td>\n",
       "      <td>AndhraPradesh</td>\n",
       "      <td>83.364566</td>\n",
       "      <td>17.788503</td>\n",
       "    </tr>\n",
       "  </tbody>\n",
       "</table>\n",
       "</div>"
      ],
      "text/plain": [
       "      device_id gender  age   group phone_brand device_model  event_id  \\\n",
       "0 -1.039701e+18      M   38  M32-38      Xiaomi         MI 4    9510.0   \n",
       "1 -1.039701e+18      M   38  M32-38      Xiaomi         MI 4   66535.0   \n",
       "2 -1.039701e+18      M   38  M32-38      Xiaomi         MI 4  142256.0   \n",
       "3 -1.039701e+18      M   38  M32-38      Xiaomi         MI 4  162135.0   \n",
       "4 -1.039701e+18      M   38  M32-38      Xiaomi         MI 4  172479.0   \n",
       "\n",
       "             timestamp           city          state  longitude   latitude  \n",
       "0  2016-05-06 10:47:07  Visakhapatnam  AndhraPradesh  83.364566  17.788503  \n",
       "1  2016-05-06 02:53:29  Visakhapatnam  AndhraPradesh  83.364566  17.788503  \n",
       "2  2016-05-06 10:42:02  Visakhapatnam  AndhraPradesh  83.364566  17.788503  \n",
       "3  2016-05-07 01:48:44  Visakhapatnam  AndhraPradesh  83.364566  17.788503  \n",
       "4  2016-05-03 10:46:20  Visakhapatnam  AndhraPradesh  83.364566  17.788503  "
      ]
     },
     "execution_count": 110,
     "metadata": {},
     "output_type": "execute_result"
    }
   ],
   "source": [
    "merge_all = pd.merge(merge_df1_df3, df2_group, on='device_id', how='inner')\n",
    "merge_all.head()"
   ]
  },
  {
   "cell_type": "code",
   "execution_count": 156,
   "metadata": {},
   "outputs": [
    {
     "data": {
      "text/plain": [
       "M23-26    37632\n",
       "M32-38    27823\n",
       "M39+      26801\n",
       "M22-      26040\n",
       "M29-31    23311\n",
       "F33-42    20776\n",
       "M27-28    16050\n",
       "F29-32    14517\n",
       "F23-      13928\n",
       "F24-26    11611\n",
       "F43+      11581\n",
       "F27-28     9491\n",
       "Name: group, dtype: int64"
      ]
     },
     "execution_count": 156,
     "metadata": {},
     "output_type": "execute_result"
    }
   ],
   "source": [
    "  merge_all.group.value_counts()"
   ]
  },
  {
   "cell_type": "code",
   "execution_count": 157,
   "metadata": {},
   "outputs": [],
   "source": [
    "def define_age(row):\n",
    "    if row[\"age\"] <= 22:\n",
    "        return \"22-\"\n",
    "    elif (row[\"age\"] >= 23) & (row[\"age\"] <= 26):\n",
    "        return \"23-26\"\n",
    "    elif (row[\"age\"] >= 27) & (row[\"age\"] <= 28):\n",
    "        return \"27-28\"\n",
    "    elif (row[\"age\"] >= 29) & (row[\"age\"] <= 32):\n",
    "        return \"29-32\"\n",
    "    elif (row[\"age\"] >= 33) & (row[\"age\"] <= 38):\n",
    "        return \"33-38\"\n",
    "    elif row[\"age\"] >= 39:\n",
    "        return \"39+\"\n",
    "         "
   ]
  },
  {
   "cell_type": "code",
   "execution_count": 158,
   "metadata": {},
   "outputs": [],
   "source": [
    "merge_all[\"new_age_group\"]=merge_all.apply(define_age, axis=1)"
   ]
  },
  {
   "cell_type": "code",
   "execution_count": 162,
   "metadata": {},
   "outputs": [
    {
     "data": {
      "text/plain": [
       "<matplotlib.axes._subplots.AxesSubplot at 0x1e78778eeb8>"
      ]
     },
     "execution_count": 162,
     "metadata": {},
     "output_type": "execute_result"
    },
    {
     "data": {
      "image/png": "[encoded data removed]",
      "text/plain": [
       "<Figure size 432x288 with 1 Axes>"
      ]
     },
     "metadata": {
      "needs_background": "light"
     },
     "output_type": "display_data"
    }
   ],
   "source": [
    "merge_all.groupby(\"new_age_group\").count().sort_values(by=\"device_id\")[\"device_id\"].plot.bar()"
   ]
  },
  {
   "cell_type": "code",
   "execution_count": 111,
   "metadata": {},
   "outputs": [
    {
     "name": "stdout",
     "output_type": "stream",
     "text": [
      "<class 'pandas.core.frame.DataFrame'>\n",
      "Int64Index: 239561 entries, 0 to 239560\n",
      "Data columns (total 12 columns):\n",
      "device_id       239561 non-null float64\n",
      "gender          239561 non-null object\n",
      "age             239561 non-null int64\n",
      "group           239561 non-null object\n",
      "phone_brand     239561 non-null object\n",
      "device_model    239561 non-null object\n",
      "event_id        239561 non-null float64\n",
      "timestamp       239561 non-null object\n",
      "city            239561 non-null object\n",
      "state           239561 non-null object\n",
      "longitude       239561 non-null float64\n",
      "latitude        239561 non-null float64\n",
      "dtypes: float64(4), int64(1), object(7)\n",
      "memory usage: 23.8+ MB\n"
     ]
    }
   ],
   "source": [
    "merge_all.info()"
   ]
  },
  {
   "cell_type": "code",
   "execution_count": 112,
   "metadata": {},
   "outputs": [
    {
     "data": {
      "text/plain": [
       "(329125,)"
      ]
     },
     "execution_count": 112,
     "metadata": {},
     "output_type": "execute_result"
    }
   ],
   "source": [
    "df2_group[\"device_id\"].shape"
   ]
  },
  {
   "cell_type": "code",
   "execution_count": 113,
   "metadata": {},
   "outputs": [
    {
     "name": "stdout",
     "output_type": "stream",
     "text": [
      "(74617, 6)\n",
      "(329125, 7)\n",
      "(239561, 12)\n"
     ]
    }
   ],
   "source": [
    "print(merge_df1_df3.shape)\n",
    "print(df2_group.shape)\n",
    "print(merge_all.shape)"
   ]
  },
  {
   "cell_type": "code",
   "execution_count": 148,
   "metadata": {},
   "outputs": [
    {
     "data": {
      "text/plain": [
       "0"
      ]
     },
     "execution_count": 148,
     "metadata": {},
     "output_type": "execute_result"
    }
   ],
   "source": [
    "merge_all[\"city\"].isnull().sum()"
   ]
  },
  {
   "cell_type": "code",
   "execution_count": 143,
   "metadata": {},
   "outputs": [
    {
     "data": {
      "text/plain": [
       "0"
      ]
     },
     "execution_count": 143,
     "metadata": {},
     "output_type": "execute_result"
    }
   ],
   "source": [
    "merge_all.device_id.isnull().sum()"
   ]
  },
  {
   "cell_type": "code",
   "execution_count": 114,
   "metadata": {},
   "outputs": [
    {
     "data": {
      "text/plain": [
       "AndhraPradesh               233429\n",
       "Meghalaya                     1400\n",
       "Pondicherry                   1360\n",
       "AndamanandNicobarIslands      1302\n",
       "Mizoram                       1216\n",
       "HimachalPradesh                854\n",
       "Name: state, dtype: int64"
      ]
     },
     "execution_count": 114,
     "metadata": {},
     "output_type": "execute_result"
    }
   ],
   "source": [
    "merge_all.state.value_counts()"
   ]
  },
  {
   "cell_type": "code",
   "execution_count": 115,
   "metadata": {},
   "outputs": [
    {
     "data": {
      "text/plain": [
       "M    157657\n",
       "F     81904\n",
       "Name: gender, dtype: int64"
      ]
     },
     "execution_count": 115,
     "metadata": {},
     "output_type": "execute_result"
    }
   ],
   "source": [
    "merge_all.gender.value_counts()"
   ]
  },
  {
   "cell_type": "code",
   "execution_count": 116,
   "metadata": {},
   "outputs": [],
   "source": [
    "pb_dm = merge_all.groupby(['device_id', 'phone_brand'])"
   ]
  },
  {
   "cell_type": "code",
   "execution_count": 117,
   "metadata": {},
   "outputs": [
    {
     "data": {
      "text/plain": [
       "device_id      phone_brand  device_model\n",
       " 3.137054e+18  Xiaomi       红米1S            2070\n",
       "-3.945827e+17  Huawei       G610S           1594\n",
       "-6.033798e+18  Huawei       Ascend P8       1338\n",
       " 4.865607e+18  vivo         Y23L            1324\n",
       " 6.619715e+18  Xiaomi       红米Note2         1244\n",
       "Name: device_model, dtype: int64"
      ]
     },
     "execution_count": 117,
     "metadata": {},
     "output_type": "execute_result"
    }
   ],
   "source": [
    "pb_dm.device_model.value_counts().nlargest()"
   ]
  },
  {
   "cell_type": "code",
   "execution_count": 118,
   "metadata": {},
   "outputs": [],
   "source": [
    "max_state = merge_all.groupby(['state', 'gender'])"
   ]
  },
  {
   "cell_type": "code",
   "execution_count": 119,
   "metadata": {},
   "outputs": [
    {
     "data": {
      "text/plain": [
       "state                     gender  gender\n",
       "AndamanandNicobarIslands  F       F            114\n",
       "                          M       M           1188\n",
       "AndhraPradesh             F       F          79606\n",
       "                          M       M         153823\n",
       "HimachalPradesh           F       F            539\n",
       "                          M       M            315\n",
       "Meghalaya                 F       F            528\n",
       "                          M       M            872\n",
       "Mizoram                   F       F            598\n",
       "                          M       M            618\n",
       "Pondicherry               F       F            519\n",
       "                          M       M            841\n",
       "Name: gender, dtype: int64"
      ]
     },
     "execution_count": 119,
     "metadata": {},
     "output_type": "execute_result"
    }
   ],
   "source": [
    "max_state.gender.value_counts()"
   ]
  },
  {
   "cell_type": "code",
   "execution_count": 120,
   "metadata": {},
   "outputs": [
    {
     "data": {
      "text/plain": [
       "AndhraPradesh               233429\n",
       "Meghalaya                     1400\n",
       "Pondicherry                   1360\n",
       "AndamanandNicobarIslands      1302\n",
       "Mizoram                       1216\n",
       "HimachalPradesh                854\n",
       "Name: state, dtype: int64"
      ]
     },
     "execution_count": 120,
     "metadata": {},
     "output_type": "execute_result"
    }
   ],
   "source": [
    "merge_all[\"state\"].value_counts()"
   ]
  },
  {
   "cell_type": "code",
   "execution_count": 145,
   "metadata": {},
   "outputs": [
    {
     "name": "stdout",
     "output_type": "stream",
     "text": [
      "----------- AndhraPradesh -----------\n",
      " 3.137054e+18    2070\n",
      "-3.945827e+17    1594\n",
      "-6.033798e+18    1338\n",
      " 4.865607e+18    1324\n",
      " 6.619715e+18    1244\n",
      "-3.130903e+18    1146\n",
      " 5.985241e+18    1084\n",
      " 6.075755e+18    1068\n",
      "-6.906786e+18    1057\n",
      "-5.178671e+18    1045\n",
      "Name: device_id, dtype: int64\n",
      "----------- Meghalaya -----------\n",
      "-1.370786e+18    229\n",
      " 1.246668e+18    149\n",
      " 4.654059e+18    108\n",
      "-8.911142e+18     97\n",
      "-5.758543e+18     93\n",
      " 7.470062e+18     86\n",
      "-3.514256e+18     86\n",
      "-8.685476e+18     75\n",
      " 3.133503e+18     75\n",
      " 8.877078e+18     63\n",
      "Name: device_id, dtype: int64\n",
      "----------- Mizoram -----------\n",
      " 5.167253e+17    251\n",
      "-6.455907e+18    201\n",
      "-6.354642e+18     93\n",
      "-5.036106e+18     83\n",
      "-3.534352e+18     69\n",
      "-1.419006e+18     64\n",
      " 9.571194e+16     38\n",
      " 7.095745e+17     35\n",
      "-5.824435e+18     29\n",
      " 1.913626e+17     29\n",
      "Name: device_id, dtype: int64\n",
      "----------- Pondicherry -----------\n",
      "-2.349823e+18    101\n",
      " 6.644828e+18    101\n",
      " 7.690522e+18     86\n",
      "-2.683282e+18     80\n",
      " 1.354273e+18     78\n",
      " 6.387518e+17     75\n",
      "-8.134223e+18     67\n",
      " 1.862412e+18     64\n",
      "-5.300694e+18     62\n",
      "-7.322478e+18     50\n",
      "Name: device_id, dtype: int64\n",
      "----------- AndamanandNicobarIslands -----------\n",
      "-5.802432e+18    288\n",
      "-2.785190e+18    261\n",
      " 6.657650e+18    134\n",
      " 7.356149e+18    125\n",
      "-1.037099e+18     86\n",
      "-2.343254e+18     71\n",
      "-1.237227e+18     57\n",
      " 7.115188e+18     56\n",
      " 5.682447e+18     49\n",
      " 3.105247e+18     27\n",
      "Name: device_id, dtype: int64\n",
      "----------- HimachalPradesh -----------\n",
      " 8.735586e+17    437\n",
      " 4.728213e+18     85\n",
      " 5.017686e+18     66\n",
      "-3.468868e+18     55\n",
      "-6.292238e+18     35\n",
      " 6.691351e+18     34\n",
      " 3.245649e+18     27\n",
      "-2.332109e+18     18\n",
      " 1.364519e+18     18\n",
      "-4.049995e+18     14\n",
      "Name: device_id, dtype: int64\n"
     ]
    }
   ],
   "source": [
    "for i in merge_all['state'].unique():\n",
    "    print ('-----------',i,'-----------')\n",
    "    print (merge_all[merge_all['state']==i]['device_id'].value_counts().head(10))"
   ]
  },
  {
   "cell_type": "code",
   "execution_count": 121,
   "metadata": {},
   "outputs": [
    {
     "data": {
      "text/plain": [
       "Visakhapatnam    168665\n",
       "Bodhan             1399\n",
       "PortBlair          1302\n",
       "Sattenapalle       1247\n",
       "Palwancha          1176\n",
       "Name: city, dtype: int64"
      ]
     },
     "execution_count": 121,
     "metadata": {},
     "output_type": "execute_result"
    }
   ],
   "source": [
    "merge_all[\"city\"].value_counts().head()"
   ]
  },
  {
   "cell_type": "code",
   "execution_count": 122,
   "metadata": {},
   "outputs": [],
   "source": [
    "# data = df1[\"age\"]\n",
    "# ages = pd.DataFrame(data,columns=['age'])\n",
    "\n",
    "# bins = [18, 30, 40, 50, 60, 70, 120]\n",
    "# labels = ['18-29', '30-39', '40-49', '50-59', '60-69', '70+']\n",
    "# ages['agerange'] = pd.cut(ages.age, bins, labels = labels,include_lowest = True)\n",
    "\n",
    "# print(ages)\n"
   ]
  },
  {
   "cell_type": "code",
   "execution_count": 123,
   "metadata": {},
   "outputs": [
    {
     "data": {
      "text/plain": [
       "(array([ 3071, 36163, 22275,  8718,  2895,  1213,   245,    57,     3],\n",
       "       dtype=int64), array([ 10,  20,  30,  40,  50,  60,  70,  80,  90, 100]))"
      ]
     },
     "execution_count": 123,
     "metadata": {},
     "output_type": "execute_result"
    }
   ],
   "source": [
    "bins = np.histogram(df1[\"age\"], bins=[10, 20, 30, 40, 50, 60, 70, 80, 90, 100])\n",
    "bins"
   ]
  },
  {
   "cell_type": "code",
   "execution_count": 124,
   "metadata": {},
   "outputs": [
    {
     "data": {
      "image/png": "[encoded data removed]",
      "text/plain": [
       "<Figure size 432x288 with 1 Axes>"
      ]
     },
     "metadata": {
      "needs_background": "light"
     },
     "output_type": "display_data"
    }
   ],
   "source": [
    "x = df1[\"age\"]\n",
    "plt.hist(x, bins = 10)\n",
    "plt.show()"
   ]
  },
  {
   "cell_type": "code",
   "execution_count": 125,
   "metadata": {},
   "outputs": [],
   "source": [
    "# def chunks(lst, n):\n",
    "#     \"\"\"Yield successive n-sized chunks from lst.\"\"\"\n",
    "#     for i in range(0, len(lst), n):\n",
    "#         yield lst[i:i + n]\n",
    "# import pprint\n",
    "# pprint.pprint(list(chunks(range(0, 100), 10)))\n",
    "\n",
    "# # Python program to count the  \n",
    "# # number of numbers in a given range \n",
    "\n",
    "# list_age = merge_all[\"age\"].to_list()\n",
    "  \n",
    "# def count(list1, l, r): \n",
    "      \n",
    "#     # x for x in list1 is same as traversal in the list \n",
    "#     # the if condition checks for the number of numbers in the range  \n",
    "#     # l to r  \n",
    "#     # the return is stored in a list \n",
    "#     # whose length is the answer \n",
    "#     return len(list(x for x in list1 if l <= x <= r)) \n",
    "  \n",
    "# list1 = list_age\n",
    "# l = 10\n",
    "# r = 30 \n",
    "# print count(list_age, l, r)\n",
    "\n",
    "# # print count(list1, l, r) \n",
    "# # driver code \n",
    "# # list1 = [10, 20, 30, 40, 50, 40, 40, 60, 70] \n",
    "# # l = 40\n",
    "# # r = 80 \n",
    "# # print count(list1, l, r) "
   ]
  },
  {
   "cell_type": "code",
   "execution_count": 126,
   "metadata": {},
   "outputs": [
    {
     "data": {
      "text/plain": [
       "<bound method Series.unique of age  gender\n",
       "12   F           332\n",
       "13   M           252\n",
       "14   F            15\n",
       "     M             1\n",
       "15   M           251\n",
       "16   M           421\n",
       "     F            27\n",
       "17   M           461\n",
       "     F           140\n",
       "18   M          3574\n",
       "     F           532\n",
       "19   M          4140\n",
       "     F          1084\n",
       "20   M          4926\n",
       "     F          2558\n",
       "21   M          5282\n",
       "     F          2685\n",
       "22   M          6732\n",
       "     F          3283\n",
       "23   M          7804\n",
       "     F          3272\n",
       "24   M          9160\n",
       "     F          3164\n",
       "25   M          6764\n",
       "     F          5199\n",
       "26   M         13904\n",
       "     F          3248\n",
       "27   M         10815\n",
       "     F          4858\n",
       "28   M          5235\n",
       "               ...  \n",
       "62   F            67\n",
       "63   M           449\n",
       "     F            50\n",
       "64   F           267\n",
       "     M            53\n",
       "65   F           128\n",
       "     M             4\n",
       "66   F            81\n",
       "     M            15\n",
       "67   F           320\n",
       "     M           145\n",
       "68   F            33\n",
       "     M             1\n",
       "69   M           261\n",
       "     F            80\n",
       "70   M           577\n",
       "     F            27\n",
       "71   F           101\n",
       "     M            58\n",
       "72   M             9\n",
       "     F             2\n",
       "75   F             5\n",
       "76   M           166\n",
       "     F             3\n",
       "77   F           411\n",
       "78   F             1\n",
       "79   M            21\n",
       "     F            17\n",
       "81   M             1\n",
       "84   F            32\n",
       "Name: gender, Length: 127, dtype: int64>"
      ]
     },
     "execution_count": 126,
     "metadata": {},
     "output_type": "execute_result"
    }
   ],
   "source": [
    "age_gender = merge_all.groupby(['age'])['gender'].value_counts().unique\n",
    "age_gender"
   ]
  },
  {
   "cell_type": "code",
   "execution_count": 127,
   "metadata": {},
   "outputs": [],
   "source": [
    "# age_gender.head(10).plot.pie()"
   ]
  },
  {
   "cell_type": "code",
   "execution_count": 128,
   "metadata": {},
   "outputs": [
    {
     "data": {
      "text/html": [
       "<div>\n",
       "<style scoped>\n",
       "    .dataframe tbody tr th:only-of-type {\n",
       "        vertical-align: middle;\n",
       "    }\n",
       "\n",
       "    .dataframe tbody tr th {\n",
       "        vertical-align: top;\n",
       "    }\n",
       "\n",
       "    .dataframe thead th {\n",
       "        text-align: right;\n",
       "    }\n",
       "</style>\n",
       "<table border=\"1\" class=\"dataframe\">\n",
       "  <thead>\n",
       "    <tr style=\"text-align: right;\">\n",
       "      <th></th>\n",
       "      <th>device_id</th>\n",
       "      <th>phone_brand</th>\n",
       "      <th>device_model</th>\n",
       "    </tr>\n",
       "  </thead>\n",
       "  <tbody>\n",
       "    <tr>\n",
       "      <th>0</th>\n",
       "      <td>1.877776e+18</td>\n",
       "      <td>vivo</td>\n",
       "      <td>Y13</td>\n",
       "    </tr>\n",
       "    <tr>\n",
       "      <th>1</th>\n",
       "      <td>-3.766087e+18</td>\n",
       "      <td>Xiaomi</td>\n",
       "      <td>V183</td>\n",
       "    </tr>\n",
       "    <tr>\n",
       "      <th>2</th>\n",
       "      <td>-6.238938e+18</td>\n",
       "      <td>OPPO</td>\n",
       "      <td>R7s</td>\n",
       "    </tr>\n",
       "    <tr>\n",
       "      <th>3</th>\n",
       "      <td>8.973198e+18</td>\n",
       "      <td>Samsung</td>\n",
       "      <td>A368t</td>\n",
       "    </tr>\n",
       "    <tr>\n",
       "      <th>4</th>\n",
       "      <td>-2.015528e+18</td>\n",
       "      <td>Xiaomi</td>\n",
       "      <td>红米Note2</td>\n",
       "    </tr>\n",
       "  </tbody>\n",
       "</table>\n",
       "</div>"
      ],
      "text/plain": [
       "      device_id phone_brand device_model\n",
       "0  1.877776e+18        vivo          Y13\n",
       "1 -3.766087e+18      Xiaomi         V183\n",
       "2 -6.238938e+18        OPPO          R7s\n",
       "3  8.973198e+18     Samsung        A368t\n",
       "4 -2.015528e+18      Xiaomi      红米Note2"
      ]
     },
     "execution_count": 128,
     "metadata": {},
     "output_type": "execute_result"
    }
   ],
   "source": [
    "df3.head()"
   ]
  },
  {
   "cell_type": "code",
   "execution_count": 129,
   "metadata": {},
   "outputs": [],
   "source": [
    "df3['device_model'].replace({'红米note': 'Redmi note', '荣耀6 plus': 'Redmi 1S', '天鉴W900S': 'Tianjian W900S','乐檬X3': 'Music lemon X3', '荣耀6': 'Glory 6', '荣耀畅玩4X': 'Honor Play 4X', '荣耀3C': 'Glory 3C', '荣耀6 Plus':'Honor 6 Plus' }, inplace=True)"
   ]
  },
  {
   "cell_type": "code",
   "execution_count": 130,
   "metadata": {},
   "outputs": [
    {
     "name": "stdout",
     "output_type": "stream",
     "text": [
      "----------- M32-38 -----------\n",
      "Samsung         6200\n",
      "Xiaomi          6012\n",
      "Huawei          5389\n",
      "OPPO            3464\n",
      "vivo            1495\n",
      "Meizu           1458\n",
      "Hisense          945\n",
      "Coolpad          887\n",
      "China Mobile     386\n",
      "LeEco            339\n",
      "Name: phone_brand, dtype: int64\n",
      "----------- M29-31 -----------\n",
      "Huawei     5488\n",
      "Xiaomi     5424\n",
      "Samsung    3972\n",
      "Coolpad    2151\n",
      "Meizu      1499\n",
      "vivo       1388\n",
      "HTC        1369\n",
      "OPPO       1249\n",
      "Lenovo      215\n",
      "ZUK         140\n",
      "Name: phone_brand, dtype: int64\n",
      "----------- M39+ -----------\n",
      "Xiaomi     7274\n",
      "Samsung    5254\n",
      "Huawei     5123\n",
      "OPPO       1973\n",
      "Meizu      1972\n",
      "vivo       1368\n",
      "Coolpad    1166\n",
      "Lenovo      752\n",
      "HTC         626\n",
      "Duowei      428\n",
      "Name: phone_brand, dtype: int64\n",
      "----------- M27-28 -----------\n",
      "Samsung         4004\n",
      "Huawei          3445\n",
      "Xiaomi          2680\n",
      "OPPO            2226\n",
      "Meizu            946\n",
      "vivo             897\n",
      "Coolpad          666\n",
      "HTC              397\n",
      "China Mobile     188\n",
      "Qiku             174\n",
      "Name: phone_brand, dtype: int64\n",
      "----------- M23-26 -----------\n",
      "Xiaomi     12397\n",
      "vivo        5546\n",
      "Samsung     4541\n",
      "OPPO        4422\n",
      "Huawei      3947\n",
      "Meizu       2648\n",
      "Coolpad     1680\n",
      "Aipair       566\n",
      "HTC          531\n",
      "Lenovo       230\n",
      "Name: phone_brand, dtype: int64\n",
      "----------- F29-32 -----------\n",
      "Xiaomi     4421\n",
      "Huawei     3243\n",
      "Samsung    3112\n",
      "Meizu      1320\n",
      "vivo       1315\n",
      "OPPO        411\n",
      "Hammer      219\n",
      "Coolpad     195\n",
      "LeEco       154\n",
      "Lenovo       43\n",
      "Name: phone_brand, dtype: int64\n",
      "----------- F27-28 -----------\n",
      "Xiaomi     2154\n",
      "Samsung    1893\n",
      "OPPO       1634\n",
      "vivo       1260\n",
      "Meizu       887\n",
      "Huawei      551\n",
      "Coolpad     440\n",
      "Nubia       206\n",
      "Hammer      147\n",
      "Lenovo      137\n",
      "Name: phone_brand, dtype: int64\n",
      "----------- F43+ -----------\n",
      "Samsung         4330\n",
      "Xiaomi          2813\n",
      "Huawei          1258\n",
      "OPPO            1109\n",
      "vivo             540\n",
      "Meizu            427\n",
      "Coolpad          366\n",
      "Lenovo           171\n",
      "Hisense          151\n",
      "China Mobile     120\n",
      "Name: phone_brand, dtype: int64\n",
      "----------- F33-42 -----------\n",
      "Xiaomi     6104\n",
      "Samsung    4617\n",
      "Huawei     2983\n",
      "Meizu      1770\n",
      "vivo       1557\n",
      "OPPO       1440\n",
      "Coolpad     598\n",
      "Letters     465\n",
      "TCL         357\n",
      "HTC         253\n",
      "Name: phone_brand, dtype: int64\n",
      "----------- M22- -----------\n",
      "Xiaomi     7810\n",
      "Huawei     3739\n",
      "vivo       3737\n",
      "OPPO       3015\n",
      "Samsung    2499\n",
      "Coolpad    1605\n",
      "Meizu      1541\n",
      "LeEco       452\n",
      "Lenovo      376\n",
      "Nubia       270\n",
      "Name: phone_brand, dtype: int64\n",
      "----------- F23- -----------\n",
      "Xiaomi        4159\n",
      "Samsung       2810\n",
      "OPPO          1554\n",
      "Huawei        1535\n",
      "vivo          1065\n",
      "Coolpad       1001\n",
      "Meizu          521\n",
      "Cubei Cube     396\n",
      "HTC            299\n",
      "Duowei         213\n",
      "Name: phone_brand, dtype: int64\n",
      "----------- F24-26 -----------\n",
      "Xiaomi     3460\n",
      "Samsung    2085\n",
      "Huawei     1953\n",
      "vivo       1547\n",
      "OPPO       1005\n",
      "Meizu       654\n",
      "Coolpad     450\n",
      "LG          258\n",
      "Hisense      73\n",
      " Focus       41\n",
      "Name: phone_brand, dtype: int64\n"
     ]
    }
   ],
   "source": [
    "for i in merge_all['group'].unique():\n",
    "    print ('-----------',i,'-----------')\n",
    "    print (merge_all[merge_all['group']==i]['phone_brand'].value_counts().head(10))"
   ]
  },
  {
   "cell_type": "code",
   "execution_count": 131,
   "metadata": {},
   "outputs": [],
   "source": [
    "# merge_all_age = merge_all.groupby(['group', 'phone_brand'])['phone_brand'].count() #point 5\n",
    "# merge_all_age"
   ]
  },
  {
   "cell_type": "code",
   "execution_count": 132,
   "metadata": {},
   "outputs": [
    {
     "name": "stdout",
     "output_type": "stream",
     "text": [
      "----------- AndhraPradesh -----------\n",
      "Xiaomi     62643\n",
      "Samsung    44317\n",
      "Huawei     37416\n",
      "OPPO       23310\n",
      "vivo       21078\n",
      "Meizu      15513\n",
      "Coolpad    11007\n",
      "HTC         3607\n",
      "Lenovo      2166\n",
      "Hisense     1296\n",
      "Name: phone_brand, dtype: int64\n",
      "----------- Meghalaya -----------\n",
      "Xiaomi          440\n",
      "Samsung         375\n",
      "Lenovo          293\n",
      "vivo            186\n",
      "Coolpad          50\n",
      "Huawei           21\n",
      "ZUK              12\n",
      "China Mobile      7\n",
      "Hammer            7\n",
      "Meizu             5\n",
      "Name: phone_brand, dtype: int64\n",
      "----------- Mizoram -----------\n",
      "Huawei     524\n",
      "Samsung    231\n",
      "Xiaomi     123\n",
      "vivo       104\n",
      "LeEco       93\n",
      "Coolpad     56\n",
      "HTC         36\n",
      "Meizu       30\n",
      "OPPO        11\n",
      "LG           8\n",
      "Name: phone_brand, dtype: int64\n",
      "----------- Pondicherry -----------\n",
      "Xiaomi     486\n",
      "Huawei     313\n",
      "vivo       151\n",
      "OPPO       121\n",
      "Samsung    114\n",
      "Coolpad     92\n",
      "Meizu       71\n",
      "Hammer       9\n",
      "LG           2\n",
      "Mengmi       1\n",
      "Name: phone_brand, dtype: int64\n",
      "----------- AndamanandNicobarIslands -----------\n",
      "Xiaomi      506\n",
      "Huawei      290\n",
      "Samsung     206\n",
      "vivo        161\n",
      "OPPO         59\n",
      "Nubia        57\n",
      "Meizu        11\n",
      "HTC           6\n",
      " Coolby       5\n",
      "Youmi         1\n",
      "Name: phone_brand, dtype: int64\n",
      "----------- HimachalPradesh -----------\n",
      "Xiaomi     510\n",
      "Huawei      90\n",
      "HTC         85\n",
      "Samsung     74\n",
      "vivo        35\n",
      "Lenovo      34\n",
      "Meizu       13\n",
      "LeEco       12\n",
      "Letters      1\n",
      "Name: phone_brand, dtype: int64\n"
     ]
    }
   ],
   "source": [
    "for i in merge_all['state'].unique():\n",
    "    print ('-----------',i,'-----------')\n",
    "    print (merge_all[merge_all['state']==i]['phone_brand'].value_counts().head(10))"
   ]
  },
  {
   "cell_type": "code",
   "execution_count": 153,
   "metadata": {},
   "outputs": [
    {
     "data": {
      "text/plain": [
       "AndhraPradesh               233429\n",
       "Meghalaya                     1400\n",
       "Pondicherry                   1360\n",
       "AndamanandNicobarIslands      1302\n",
       "Mizoram                       1216\n",
       "HimachalPradesh                854\n",
       "Name: state, dtype: int64"
      ]
     },
     "execution_count": 153,
     "metadata": {},
     "output_type": "execute_result"
    }
   ],
   "source": [
    "merge_all[\"state\"].value_counts()"
   ]
  },
  {
   "cell_type": "code",
   "execution_count": 154,
   "metadata": {},
   "outputs": [
    {
     "data": {
      "text/html": [
       "<div>\n",
       "<style scoped>\n",
       "    .dataframe tbody tr th:only-of-type {\n",
       "        vertical-align: middle;\n",
       "    }\n",
       "\n",
       "    .dataframe tbody tr th {\n",
       "        vertical-align: top;\n",
       "    }\n",
       "\n",
       "    .dataframe thead th {\n",
       "        text-align: right;\n",
       "    }\n",
       "</style>\n",
       "<table border=\"1\" class=\"dataframe\">\n",
       "  <thead>\n",
       "    <tr style=\"text-align: right;\">\n",
       "      <th></th>\n",
       "      <th>device_id</th>\n",
       "      <th>gender</th>\n",
       "      <th>age</th>\n",
       "      <th>group</th>\n",
       "      <th>phone_brand</th>\n",
       "      <th>device_model</th>\n",
       "      <th>event_id</th>\n",
       "      <th>timestamp</th>\n",
       "      <th>city</th>\n",
       "      <th>state</th>\n",
       "      <th>longitude</th>\n",
       "      <th>latitude</th>\n",
       "    </tr>\n",
       "  </thead>\n",
       "  <tbody>\n",
       "    <tr>\n",
       "      <th>1</th>\n",
       "      <td>-1.039701e+18</td>\n",
       "      <td>M</td>\n",
       "      <td>38</td>\n",
       "      <td>M32-38</td>\n",
       "      <td>Xiaomi</td>\n",
       "      <td>MI 4</td>\n",
       "      <td>66535.0</td>\n",
       "      <td>2016-05-06 02:53:29</td>\n",
       "      <td>Visakhapatnam</td>\n",
       "      <td>AndhraPradesh</td>\n",
       "      <td>83.364566</td>\n",
       "      <td>17.788503</td>\n",
       "    </tr>\n",
       "    <tr>\n",
       "      <th>2</th>\n",
       "      <td>-1.039701e+18</td>\n",
       "      <td>M</td>\n",
       "      <td>38</td>\n",
       "      <td>M32-38</td>\n",
       "      <td>Xiaomi</td>\n",
       "      <td>MI 4</td>\n",
       "      <td>142256.0</td>\n",
       "      <td>2016-05-06 10:42:02</td>\n",
       "      <td>Visakhapatnam</td>\n",
       "      <td>AndhraPradesh</td>\n",
       "      <td>83.364566</td>\n",
       "      <td>17.788503</td>\n",
       "    </tr>\n",
       "    <tr>\n",
       "      <th>3</th>\n",
       "      <td>-1.039701e+18</td>\n",
       "      <td>M</td>\n",
       "      <td>38</td>\n",
       "      <td>M32-38</td>\n",
       "      <td>Xiaomi</td>\n",
       "      <td>MI 4</td>\n",
       "      <td>162135.0</td>\n",
       "      <td>2016-05-07 01:48:44</td>\n",
       "      <td>Visakhapatnam</td>\n",
       "      <td>AndhraPradesh</td>\n",
       "      <td>83.364566</td>\n",
       "      <td>17.788503</td>\n",
       "    </tr>\n",
       "    <tr>\n",
       "      <th>4</th>\n",
       "      <td>-1.039701e+18</td>\n",
       "      <td>M</td>\n",
       "      <td>38</td>\n",
       "      <td>M32-38</td>\n",
       "      <td>Xiaomi</td>\n",
       "      <td>MI 4</td>\n",
       "      <td>172479.0</td>\n",
       "      <td>2016-05-03 10:46:20</td>\n",
       "      <td>Visakhapatnam</td>\n",
       "      <td>AndhraPradesh</td>\n",
       "      <td>83.364566</td>\n",
       "      <td>17.788503</td>\n",
       "    </tr>\n",
       "    <tr>\n",
       "      <th>5</th>\n",
       "      <td>-1.039701e+18</td>\n",
       "      <td>M</td>\n",
       "      <td>38</td>\n",
       "      <td>M32-38</td>\n",
       "      <td>Xiaomi</td>\n",
       "      <td>MI 4</td>\n",
       "      <td>177903.0</td>\n",
       "      <td>2016-05-05 14:39:56</td>\n",
       "      <td>Visakhapatnam</td>\n",
       "      <td>AndhraPradesh</td>\n",
       "      <td>83.364566</td>\n",
       "      <td>17.788503</td>\n",
       "    </tr>\n",
       "    <tr>\n",
       "      <th>6</th>\n",
       "      <td>-1.039701e+18</td>\n",
       "      <td>M</td>\n",
       "      <td>38</td>\n",
       "      <td>M32-38</td>\n",
       "      <td>Xiaomi</td>\n",
       "      <td>MI 4</td>\n",
       "      <td>268237.0</td>\n",
       "      <td>2016-05-07 01:53:07</td>\n",
       "      <td>Visakhapatnam</td>\n",
       "      <td>AndhraPradesh</td>\n",
       "      <td>83.364566</td>\n",
       "      <td>17.788503</td>\n",
       "    </tr>\n",
       "    <tr>\n",
       "      <th>7</th>\n",
       "      <td>-1.039701e+18</td>\n",
       "      <td>M</td>\n",
       "      <td>38</td>\n",
       "      <td>M32-38</td>\n",
       "      <td>Xiaomi</td>\n",
       "      <td>MI 4</td>\n",
       "      <td>276261.0</td>\n",
       "      <td>2016-05-07 10:46:39</td>\n",
       "      <td>Visakhapatnam</td>\n",
       "      <td>AndhraPradesh</td>\n",
       "      <td>83.364566</td>\n",
       "      <td>17.788503</td>\n",
       "    </tr>\n",
       "    <tr>\n",
       "      <th>8</th>\n",
       "      <td>-1.039701e+18</td>\n",
       "      <td>M</td>\n",
       "      <td>38</td>\n",
       "      <td>M32-38</td>\n",
       "      <td>Xiaomi</td>\n",
       "      <td>MI 4</td>\n",
       "      <td>287243.0</td>\n",
       "      <td>2016-05-02 20:08:19</td>\n",
       "      <td>Visakhapatnam</td>\n",
       "      <td>AndhraPradesh</td>\n",
       "      <td>83.364566</td>\n",
       "      <td>17.788503</td>\n",
       "    </tr>\n",
       "    <tr>\n",
       "      <th>9</th>\n",
       "      <td>-1.039701e+18</td>\n",
       "      <td>M</td>\n",
       "      <td>38</td>\n",
       "      <td>M32-38</td>\n",
       "      <td>Xiaomi</td>\n",
       "      <td>MI 4</td>\n",
       "      <td>319831.0</td>\n",
       "      <td>2016-05-07 20:30:07</td>\n",
       "      <td>Visakhapatnam</td>\n",
       "      <td>AndhraPradesh</td>\n",
       "      <td>83.364566</td>\n",
       "      <td>17.788503</td>\n",
       "    </tr>\n",
       "    <tr>\n",
       "      <th>10</th>\n",
       "      <td>-1.039701e+18</td>\n",
       "      <td>M</td>\n",
       "      <td>38</td>\n",
       "      <td>M32-38</td>\n",
       "      <td>Xiaomi</td>\n",
       "      <td>MI 4</td>\n",
       "      <td>336679.0</td>\n",
       "      <td>2016-05-06 10:45:37</td>\n",
       "      <td>Visakhapatnam</td>\n",
       "      <td>AndhraPradesh</td>\n",
       "      <td>83.364566</td>\n",
       "      <td>17.788503</td>\n",
       "    </tr>\n",
       "    <tr>\n",
       "      <th>11</th>\n",
       "      <td>-1.039701e+18</td>\n",
       "      <td>M</td>\n",
       "      <td>38</td>\n",
       "      <td>M32-38</td>\n",
       "      <td>Xiaomi</td>\n",
       "      <td>MI 4</td>\n",
       "      <td>349318.0</td>\n",
       "      <td>2016-05-07 10:56:42</td>\n",
       "      <td>Visakhapatnam</td>\n",
       "      <td>AndhraPradesh</td>\n",
       "      <td>83.364566</td>\n",
       "      <td>17.788503</td>\n",
       "    </tr>\n",
       "    <tr>\n",
       "      <th>12</th>\n",
       "      <td>-1.039701e+18</td>\n",
       "      <td>M</td>\n",
       "      <td>38</td>\n",
       "      <td>M32-38</td>\n",
       "      <td>Xiaomi</td>\n",
       "      <td>MI 4</td>\n",
       "      <td>417158.0</td>\n",
       "      <td>2016-05-05 14:42:44</td>\n",
       "      <td>Visakhapatnam</td>\n",
       "      <td>AndhraPradesh</td>\n",
       "      <td>83.364566</td>\n",
       "      <td>17.788503</td>\n",
       "    </tr>\n",
       "    <tr>\n",
       "      <th>13</th>\n",
       "      <td>-1.039701e+18</td>\n",
       "      <td>M</td>\n",
       "      <td>38</td>\n",
       "      <td>M32-38</td>\n",
       "      <td>Xiaomi</td>\n",
       "      <td>MI 4</td>\n",
       "      <td>426826.0</td>\n",
       "      <td>2016-05-06 17:45:08</td>\n",
       "      <td>Visakhapatnam</td>\n",
       "      <td>AndhraPradesh</td>\n",
       "      <td>83.364566</td>\n",
       "      <td>17.788503</td>\n",
       "    </tr>\n",
       "    <tr>\n",
       "      <th>14</th>\n",
       "      <td>-1.039701e+18</td>\n",
       "      <td>M</td>\n",
       "      <td>38</td>\n",
       "      <td>M32-38</td>\n",
       "      <td>Xiaomi</td>\n",
       "      <td>MI 4</td>\n",
       "      <td>508346.0</td>\n",
       "      <td>2016-05-07 10:56:12</td>\n",
       "      <td>Visakhapatnam</td>\n",
       "      <td>AndhraPradesh</td>\n",
       "      <td>83.364566</td>\n",
       "      <td>17.788503</td>\n",
       "    </tr>\n",
       "    <tr>\n",
       "      <th>15</th>\n",
       "      <td>-1.039701e+18</td>\n",
       "      <td>M</td>\n",
       "      <td>38</td>\n",
       "      <td>M32-38</td>\n",
       "      <td>Xiaomi</td>\n",
       "      <td>MI 4</td>\n",
       "      <td>539983.0</td>\n",
       "      <td>2016-05-05 00:15:43</td>\n",
       "      <td>Visakhapatnam</td>\n",
       "      <td>AndhraPradesh</td>\n",
       "      <td>83.364566</td>\n",
       "      <td>17.788503</td>\n",
       "    </tr>\n",
       "    <tr>\n",
       "      <th>16</th>\n",
       "      <td>-1.039701e+18</td>\n",
       "      <td>M</td>\n",
       "      <td>38</td>\n",
       "      <td>M32-38</td>\n",
       "      <td>Xiaomi</td>\n",
       "      <td>MI 4</td>\n",
       "      <td>562603.0</td>\n",
       "      <td>2016-05-02 22:12:04</td>\n",
       "      <td>Visakhapatnam</td>\n",
       "      <td>AndhraPradesh</td>\n",
       "      <td>83.364566</td>\n",
       "      <td>17.788503</td>\n",
       "    </tr>\n",
       "    <tr>\n",
       "      <th>17</th>\n",
       "      <td>-1.039701e+18</td>\n",
       "      <td>M</td>\n",
       "      <td>38</td>\n",
       "      <td>M32-38</td>\n",
       "      <td>Xiaomi</td>\n",
       "      <td>MI 4</td>\n",
       "      <td>614324.0</td>\n",
       "      <td>2016-05-03 21:05:37</td>\n",
       "      <td>Visakhapatnam</td>\n",
       "      <td>AndhraPradesh</td>\n",
       "      <td>83.364566</td>\n",
       "      <td>17.788503</td>\n",
       "    </tr>\n",
       "    <tr>\n",
       "      <th>18</th>\n",
       "      <td>-1.039701e+18</td>\n",
       "      <td>M</td>\n",
       "      <td>38</td>\n",
       "      <td>M32-38</td>\n",
       "      <td>Xiaomi</td>\n",
       "      <td>MI 4</td>\n",
       "      <td>673736.0</td>\n",
       "      <td>2016-05-06 10:47:37</td>\n",
       "      <td>Visakhapatnam</td>\n",
       "      <td>AndhraPradesh</td>\n",
       "      <td>83.364566</td>\n",
       "      <td>17.788503</td>\n",
       "    </tr>\n",
       "    <tr>\n",
       "      <th>19</th>\n",
       "      <td>-1.039701e+18</td>\n",
       "      <td>M</td>\n",
       "      <td>38</td>\n",
       "      <td>M32-38</td>\n",
       "      <td>Xiaomi</td>\n",
       "      <td>MI 4</td>\n",
       "      <td>759143.0</td>\n",
       "      <td>2016-05-06 02:57:44</td>\n",
       "      <td>Visakhapatnam</td>\n",
       "      <td>AndhraPradesh</td>\n",
       "      <td>83.364566</td>\n",
       "      <td>17.788503</td>\n",
       "    </tr>\n",
       "    <tr>\n",
       "      <th>20</th>\n",
       "      <td>-1.039701e+18</td>\n",
       "      <td>M</td>\n",
       "      <td>38</td>\n",
       "      <td>M32-38</td>\n",
       "      <td>Xiaomi</td>\n",
       "      <td>MI 4</td>\n",
       "      <td>780712.0</td>\n",
       "      <td>2016-05-04 23:50:23</td>\n",
       "      <td>Visakhapatnam</td>\n",
       "      <td>AndhraPradesh</td>\n",
       "      <td>83.364566</td>\n",
       "      <td>17.788503</td>\n",
       "    </tr>\n",
       "    <tr>\n",
       "      <th>21</th>\n",
       "      <td>-1.039701e+18</td>\n",
       "      <td>M</td>\n",
       "      <td>38</td>\n",
       "      <td>M32-38</td>\n",
       "      <td>Xiaomi</td>\n",
       "      <td>MI 4</td>\n",
       "      <td>811978.0</td>\n",
       "      <td>2016-05-03 09:45:22</td>\n",
       "      <td>Visakhapatnam</td>\n",
       "      <td>AndhraPradesh</td>\n",
       "      <td>83.364566</td>\n",
       "      <td>17.788503</td>\n",
       "    </tr>\n",
       "    <tr>\n",
       "      <th>22</th>\n",
       "      <td>-1.039701e+18</td>\n",
       "      <td>M</td>\n",
       "      <td>38</td>\n",
       "      <td>M32-38</td>\n",
       "      <td>Xiaomi</td>\n",
       "      <td>MI 4</td>\n",
       "      <td>818949.0</td>\n",
       "      <td>2016-05-05 14:42:27</td>\n",
       "      <td>Visakhapatnam</td>\n",
       "      <td>AndhraPradesh</td>\n",
       "      <td>83.364566</td>\n",
       "      <td>17.788503</td>\n",
       "    </tr>\n",
       "    <tr>\n",
       "      <th>23</th>\n",
       "      <td>-1.039701e+18</td>\n",
       "      <td>M</td>\n",
       "      <td>38</td>\n",
       "      <td>M32-38</td>\n",
       "      <td>Xiaomi</td>\n",
       "      <td>MI 4</td>\n",
       "      <td>840274.0</td>\n",
       "      <td>2016-05-05 09:35:31</td>\n",
       "      <td>Visakhapatnam</td>\n",
       "      <td>AndhraPradesh</td>\n",
       "      <td>83.364566</td>\n",
       "      <td>17.788503</td>\n",
       "    </tr>\n",
       "    <tr>\n",
       "      <th>24</th>\n",
       "      <td>-1.039701e+18</td>\n",
       "      <td>M</td>\n",
       "      <td>38</td>\n",
       "      <td>M32-38</td>\n",
       "      <td>Xiaomi</td>\n",
       "      <td>MI 4</td>\n",
       "      <td>963118.0</td>\n",
       "      <td>2016-05-06 16:51:40</td>\n",
       "      <td>Visakhapatnam</td>\n",
       "      <td>AndhraPradesh</td>\n",
       "      <td>83.364566</td>\n",
       "      <td>17.788503</td>\n",
       "    </tr>\n",
       "    <tr>\n",
       "      <th>25</th>\n",
       "      <td>-1.039701e+18</td>\n",
       "      <td>M</td>\n",
       "      <td>38</td>\n",
       "      <td>M32-38</td>\n",
       "      <td>Xiaomi</td>\n",
       "      <td>MI 4</td>\n",
       "      <td>988066.0</td>\n",
       "      <td>2016-05-02 13:29:42</td>\n",
       "      <td>Visakhapatnam</td>\n",
       "      <td>AndhraPradesh</td>\n",
       "      <td>83.364566</td>\n",
       "      <td>17.788503</td>\n",
       "    </tr>\n",
       "    <tr>\n",
       "      <th>26</th>\n",
       "      <td>-1.039701e+18</td>\n",
       "      <td>M</td>\n",
       "      <td>38</td>\n",
       "      <td>M32-38</td>\n",
       "      <td>Xiaomi</td>\n",
       "      <td>MI 4</td>\n",
       "      <td>1086418.0</td>\n",
       "      <td>2016-05-06 10:45:08</td>\n",
       "      <td>Visakhapatnam</td>\n",
       "      <td>AndhraPradesh</td>\n",
       "      <td>83.364566</td>\n",
       "      <td>17.788503</td>\n",
       "    </tr>\n",
       "    <tr>\n",
       "      <th>27</th>\n",
       "      <td>-1.039701e+18</td>\n",
       "      <td>M</td>\n",
       "      <td>38</td>\n",
       "      <td>M32-38</td>\n",
       "      <td>Xiaomi</td>\n",
       "      <td>MI 4</td>\n",
       "      <td>1143559.0</td>\n",
       "      <td>2016-05-07 10:52:58</td>\n",
       "      <td>Visakhapatnam</td>\n",
       "      <td>AndhraPradesh</td>\n",
       "      <td>83.364566</td>\n",
       "      <td>17.788503</td>\n",
       "    </tr>\n",
       "    <tr>\n",
       "      <th>28</th>\n",
       "      <td>-1.039701e+18</td>\n",
       "      <td>M</td>\n",
       "      <td>38</td>\n",
       "      <td>M32-38</td>\n",
       "      <td>Xiaomi</td>\n",
       "      <td>MI 4</td>\n",
       "      <td>1199775.0</td>\n",
       "      <td>2016-05-06 10:50:12</td>\n",
       "      <td>Visakhapatnam</td>\n",
       "      <td>AndhraPradesh</td>\n",
       "      <td>83.364566</td>\n",
       "      <td>17.788503</td>\n",
       "    </tr>\n",
       "    <tr>\n",
       "      <th>29</th>\n",
       "      <td>-1.039701e+18</td>\n",
       "      <td>M</td>\n",
       "      <td>38</td>\n",
       "      <td>M32-38</td>\n",
       "      <td>Xiaomi</td>\n",
       "      <td>MI 4</td>\n",
       "      <td>1200125.0</td>\n",
       "      <td>2016-05-07 10:53:31</td>\n",
       "      <td>Visakhapatnam</td>\n",
       "      <td>AndhraPradesh</td>\n",
       "      <td>83.364566</td>\n",
       "      <td>17.788503</td>\n",
       "    </tr>\n",
       "    <tr>\n",
       "      <th>30</th>\n",
       "      <td>-1.039701e+18</td>\n",
       "      <td>M</td>\n",
       "      <td>38</td>\n",
       "      <td>M32-38</td>\n",
       "      <td>Xiaomi</td>\n",
       "      <td>MI 4</td>\n",
       "      <td>1265355.0</td>\n",
       "      <td>2016-05-02 21:57:40</td>\n",
       "      <td>Visakhapatnam</td>\n",
       "      <td>AndhraPradesh</td>\n",
       "      <td>83.364566</td>\n",
       "      <td>17.788503</td>\n",
       "    </tr>\n",
       "    <tr>\n",
       "      <th>...</th>\n",
       "      <td>...</td>\n",
       "      <td>...</td>\n",
       "      <td>...</td>\n",
       "      <td>...</td>\n",
       "      <td>...</td>\n",
       "      <td>...</td>\n",
       "      <td>...</td>\n",
       "      <td>...</td>\n",
       "      <td>...</td>\n",
       "      <td>...</td>\n",
       "      <td>...</td>\n",
       "      <td>...</td>\n",
       "    </tr>\n",
       "    <tr>\n",
       "      <th>239530</th>\n",
       "      <td>6.710249e+18</td>\n",
       "      <td>F</td>\n",
       "      <td>20</td>\n",
       "      <td>F23-</td>\n",
       "      <td>Coolpad</td>\n",
       "      <td>F2</td>\n",
       "      <td>2205099.0</td>\n",
       "      <td>2016-05-05 08:00:56</td>\n",
       "      <td>Visakhapatnam</td>\n",
       "      <td>AndhraPradesh</td>\n",
       "      <td>83.372853</td>\n",
       "      <td>17.765826</td>\n",
       "    </tr>\n",
       "    <tr>\n",
       "      <th>239531</th>\n",
       "      <td>6.710249e+18</td>\n",
       "      <td>F</td>\n",
       "      <td>20</td>\n",
       "      <td>F23-</td>\n",
       "      <td>Coolpad</td>\n",
       "      <td>F2</td>\n",
       "      <td>2205100.0</td>\n",
       "      <td>2016-05-05 08:01:26</td>\n",
       "      <td>Visakhapatnam</td>\n",
       "      <td>AndhraPradesh</td>\n",
       "      <td>83.372853</td>\n",
       "      <td>17.765826</td>\n",
       "    </tr>\n",
       "    <tr>\n",
       "      <th>239532</th>\n",
       "      <td>6.710249e+18</td>\n",
       "      <td>F</td>\n",
       "      <td>20</td>\n",
       "      <td>F23-</td>\n",
       "      <td>Coolpad</td>\n",
       "      <td>F2</td>\n",
       "      <td>2207635.0</td>\n",
       "      <td>2016-05-05 10:00:01</td>\n",
       "      <td>Visakhapatnam</td>\n",
       "      <td>AndhraPradesh</td>\n",
       "      <td>83.372853</td>\n",
       "      <td>17.765826</td>\n",
       "    </tr>\n",
       "    <tr>\n",
       "      <th>239533</th>\n",
       "      <td>6.710249e+18</td>\n",
       "      <td>F</td>\n",
       "      <td>20</td>\n",
       "      <td>F23-</td>\n",
       "      <td>Coolpad</td>\n",
       "      <td>F2</td>\n",
       "      <td>2231645.0</td>\n",
       "      <td>2016-05-04 09:15:41</td>\n",
       "      <td>Visakhapatnam</td>\n",
       "      <td>AndhraPradesh</td>\n",
       "      <td>83.372853</td>\n",
       "      <td>17.765826</td>\n",
       "    </tr>\n",
       "    <tr>\n",
       "      <th>239534</th>\n",
       "      <td>6.710249e+18</td>\n",
       "      <td>F</td>\n",
       "      <td>20</td>\n",
       "      <td>F23-</td>\n",
       "      <td>Coolpad</td>\n",
       "      <td>F2</td>\n",
       "      <td>2261752.0</td>\n",
       "      <td>2016-05-04 10:07:39</td>\n",
       "      <td>Visakhapatnam</td>\n",
       "      <td>AndhraPradesh</td>\n",
       "      <td>83.372853</td>\n",
       "      <td>17.765826</td>\n",
       "    </tr>\n",
       "    <tr>\n",
       "      <th>239535</th>\n",
       "      <td>6.710249e+18</td>\n",
       "      <td>F</td>\n",
       "      <td>20</td>\n",
       "      <td>F23-</td>\n",
       "      <td>Coolpad</td>\n",
       "      <td>F2</td>\n",
       "      <td>2285673.0</td>\n",
       "      <td>2016-05-05 10:00:30</td>\n",
       "      <td>Visakhapatnam</td>\n",
       "      <td>AndhraPradesh</td>\n",
       "      <td>83.372853</td>\n",
       "      <td>17.765826</td>\n",
       "    </tr>\n",
       "    <tr>\n",
       "      <th>239536</th>\n",
       "      <td>6.710249e+18</td>\n",
       "      <td>F</td>\n",
       "      <td>20</td>\n",
       "      <td>F23-</td>\n",
       "      <td>Coolpad</td>\n",
       "      <td>F2</td>\n",
       "      <td>2325296.0</td>\n",
       "      <td>2016-05-06 06:26:24</td>\n",
       "      <td>Visakhapatnam</td>\n",
       "      <td>AndhraPradesh</td>\n",
       "      <td>83.372853</td>\n",
       "      <td>17.765826</td>\n",
       "    </tr>\n",
       "    <tr>\n",
       "      <th>239537</th>\n",
       "      <td>6.710249e+18</td>\n",
       "      <td>F</td>\n",
       "      <td>20</td>\n",
       "      <td>F23-</td>\n",
       "      <td>Coolpad</td>\n",
       "      <td>F2</td>\n",
       "      <td>2430430.0</td>\n",
       "      <td>2016-05-02 15:20:26</td>\n",
       "      <td>Visakhapatnam</td>\n",
       "      <td>AndhraPradesh</td>\n",
       "      <td>83.372853</td>\n",
       "      <td>17.765826</td>\n",
       "    </tr>\n",
       "    <tr>\n",
       "      <th>239538</th>\n",
       "      <td>6.710249e+18</td>\n",
       "      <td>F</td>\n",
       "      <td>20</td>\n",
       "      <td>F23-</td>\n",
       "      <td>Coolpad</td>\n",
       "      <td>F2</td>\n",
       "      <td>2454165.0</td>\n",
       "      <td>2016-05-04 14:00:30</td>\n",
       "      <td>Visakhapatnam</td>\n",
       "      <td>AndhraPradesh</td>\n",
       "      <td>83.372853</td>\n",
       "      <td>17.765826</td>\n",
       "    </tr>\n",
       "    <tr>\n",
       "      <th>239539</th>\n",
       "      <td>6.710249e+18</td>\n",
       "      <td>F</td>\n",
       "      <td>20</td>\n",
       "      <td>F23-</td>\n",
       "      <td>Coolpad</td>\n",
       "      <td>F2</td>\n",
       "      <td>2470901.0</td>\n",
       "      <td>2016-05-06 06:27:35</td>\n",
       "      <td>Visakhapatnam</td>\n",
       "      <td>AndhraPradesh</td>\n",
       "      <td>83.372853</td>\n",
       "      <td>17.765826</td>\n",
       "    </tr>\n",
       "    <tr>\n",
       "      <th>239540</th>\n",
       "      <td>6.710249e+18</td>\n",
       "      <td>F</td>\n",
       "      <td>20</td>\n",
       "      <td>F23-</td>\n",
       "      <td>Coolpad</td>\n",
       "      <td>F2</td>\n",
       "      <td>2485900.0</td>\n",
       "      <td>2016-05-01 19:26:36</td>\n",
       "      <td>Visakhapatnam</td>\n",
       "      <td>AndhraPradesh</td>\n",
       "      <td>83.372853</td>\n",
       "      <td>17.765826</td>\n",
       "    </tr>\n",
       "    <tr>\n",
       "      <th>239541</th>\n",
       "      <td>6.710249e+18</td>\n",
       "      <td>F</td>\n",
       "      <td>20</td>\n",
       "      <td>F23-</td>\n",
       "      <td>Coolpad</td>\n",
       "      <td>F2</td>\n",
       "      <td>2495413.0</td>\n",
       "      <td>2016-05-03 05:36:21</td>\n",
       "      <td>Visakhapatnam</td>\n",
       "      <td>AndhraPradesh</td>\n",
       "      <td>83.372853</td>\n",
       "      <td>17.765826</td>\n",
       "    </tr>\n",
       "    <tr>\n",
       "      <th>239542</th>\n",
       "      <td>6.710249e+18</td>\n",
       "      <td>F</td>\n",
       "      <td>20</td>\n",
       "      <td>F23-</td>\n",
       "      <td>Coolpad</td>\n",
       "      <td>F2</td>\n",
       "      <td>2511914.0</td>\n",
       "      <td>2016-05-06 10:16:08</td>\n",
       "      <td>Visakhapatnam</td>\n",
       "      <td>AndhraPradesh</td>\n",
       "      <td>83.372853</td>\n",
       "      <td>17.765826</td>\n",
       "    </tr>\n",
       "    <tr>\n",
       "      <th>239543</th>\n",
       "      <td>6.710249e+18</td>\n",
       "      <td>F</td>\n",
       "      <td>20</td>\n",
       "      <td>F23-</td>\n",
       "      <td>Coolpad</td>\n",
       "      <td>F2</td>\n",
       "      <td>2531891.0</td>\n",
       "      <td>2016-05-06 20:24:18</td>\n",
       "      <td>Visakhapatnam</td>\n",
       "      <td>AndhraPradesh</td>\n",
       "      <td>83.372853</td>\n",
       "      <td>17.765826</td>\n",
       "    </tr>\n",
       "    <tr>\n",
       "      <th>239544</th>\n",
       "      <td>6.710249e+18</td>\n",
       "      <td>F</td>\n",
       "      <td>20</td>\n",
       "      <td>F23-</td>\n",
       "      <td>Coolpad</td>\n",
       "      <td>F2</td>\n",
       "      <td>2615651.0</td>\n",
       "      <td>2016-05-06 13:22:17</td>\n",
       "      <td>Visakhapatnam</td>\n",
       "      <td>AndhraPradesh</td>\n",
       "      <td>83.372853</td>\n",
       "      <td>17.765826</td>\n",
       "    </tr>\n",
       "    <tr>\n",
       "      <th>239545</th>\n",
       "      <td>6.710249e+18</td>\n",
       "      <td>F</td>\n",
       "      <td>20</td>\n",
       "      <td>F23-</td>\n",
       "      <td>Coolpad</td>\n",
       "      <td>F2</td>\n",
       "      <td>2644262.0</td>\n",
       "      <td>2016-05-05 08:06:44</td>\n",
       "      <td>Visakhapatnam</td>\n",
       "      <td>AndhraPradesh</td>\n",
       "      <td>83.372853</td>\n",
       "      <td>17.765826</td>\n",
       "    </tr>\n",
       "    <tr>\n",
       "      <th>239546</th>\n",
       "      <td>6.710249e+18</td>\n",
       "      <td>F</td>\n",
       "      <td>20</td>\n",
       "      <td>F23-</td>\n",
       "      <td>Coolpad</td>\n",
       "      <td>F2</td>\n",
       "      <td>2697094.0</td>\n",
       "      <td>2016-05-04 10:07:12</td>\n",
       "      <td>Visakhapatnam</td>\n",
       "      <td>AndhraPradesh</td>\n",
       "      <td>83.372853</td>\n",
       "      <td>17.765826</td>\n",
       "    </tr>\n",
       "    <tr>\n",
       "      <th>239547</th>\n",
       "      <td>6.710249e+18</td>\n",
       "      <td>F</td>\n",
       "      <td>20</td>\n",
       "      <td>F23-</td>\n",
       "      <td>Coolpad</td>\n",
       "      <td>F2</td>\n",
       "      <td>2737992.0</td>\n",
       "      <td>2016-05-04 09:16:51</td>\n",
       "      <td>Visakhapatnam</td>\n",
       "      <td>AndhraPradesh</td>\n",
       "      <td>83.372853</td>\n",
       "      <td>17.765826</td>\n",
       "    </tr>\n",
       "    <tr>\n",
       "      <th>239548</th>\n",
       "      <td>6.710249e+18</td>\n",
       "      <td>F</td>\n",
       "      <td>20</td>\n",
       "      <td>F23-</td>\n",
       "      <td>Coolpad</td>\n",
       "      <td>F2</td>\n",
       "      <td>2771755.0</td>\n",
       "      <td>2016-05-07 07:06:07</td>\n",
       "      <td>Visakhapatnam</td>\n",
       "      <td>AndhraPradesh</td>\n",
       "      <td>83.372853</td>\n",
       "      <td>17.765826</td>\n",
       "    </tr>\n",
       "    <tr>\n",
       "      <th>239549</th>\n",
       "      <td>6.710249e+18</td>\n",
       "      <td>F</td>\n",
       "      <td>20</td>\n",
       "      <td>F23-</td>\n",
       "      <td>Coolpad</td>\n",
       "      <td>F2</td>\n",
       "      <td>2798597.0</td>\n",
       "      <td>2016-05-05 08:09:45</td>\n",
       "      <td>Visakhapatnam</td>\n",
       "      <td>AndhraPradesh</td>\n",
       "      <td>83.372853</td>\n",
       "      <td>17.765826</td>\n",
       "    </tr>\n",
       "    <tr>\n",
       "      <th>239550</th>\n",
       "      <td>6.710249e+18</td>\n",
       "      <td>F</td>\n",
       "      <td>20</td>\n",
       "      <td>F23-</td>\n",
       "      <td>Coolpad</td>\n",
       "      <td>F2</td>\n",
       "      <td>2873364.0</td>\n",
       "      <td>2016-05-02 08:37:19</td>\n",
       "      <td>Visakhapatnam</td>\n",
       "      <td>AndhraPradesh</td>\n",
       "      <td>83.372853</td>\n",
       "      <td>17.765826</td>\n",
       "    </tr>\n",
       "    <tr>\n",
       "      <th>239551</th>\n",
       "      <td>6.710249e+18</td>\n",
       "      <td>F</td>\n",
       "      <td>20</td>\n",
       "      <td>F23-</td>\n",
       "      <td>Coolpad</td>\n",
       "      <td>F2</td>\n",
       "      <td>2920023.0</td>\n",
       "      <td>2016-05-04 19:33:16</td>\n",
       "      <td>Visakhapatnam</td>\n",
       "      <td>AndhraPradesh</td>\n",
       "      <td>83.372853</td>\n",
       "      <td>17.765826</td>\n",
       "    </tr>\n",
       "    <tr>\n",
       "      <th>239552</th>\n",
       "      <td>6.710249e+18</td>\n",
       "      <td>F</td>\n",
       "      <td>20</td>\n",
       "      <td>F23-</td>\n",
       "      <td>Coolpad</td>\n",
       "      <td>F2</td>\n",
       "      <td>2941096.0</td>\n",
       "      <td>2016-05-06 11:43:33</td>\n",
       "      <td>Visakhapatnam</td>\n",
       "      <td>AndhraPradesh</td>\n",
       "      <td>83.372853</td>\n",
       "      <td>17.765826</td>\n",
       "    </tr>\n",
       "    <tr>\n",
       "      <th>239553</th>\n",
       "      <td>6.710249e+18</td>\n",
       "      <td>F</td>\n",
       "      <td>20</td>\n",
       "      <td>F23-</td>\n",
       "      <td>Coolpad</td>\n",
       "      <td>F2</td>\n",
       "      <td>2948743.0</td>\n",
       "      <td>2016-05-03 16:48:57</td>\n",
       "      <td>Visakhapatnam</td>\n",
       "      <td>AndhraPradesh</td>\n",
       "      <td>83.372853</td>\n",
       "      <td>17.765826</td>\n",
       "    </tr>\n",
       "    <tr>\n",
       "      <th>239554</th>\n",
       "      <td>6.710249e+18</td>\n",
       "      <td>F</td>\n",
       "      <td>20</td>\n",
       "      <td>F23-</td>\n",
       "      <td>Coolpad</td>\n",
       "      <td>F2</td>\n",
       "      <td>3046917.0</td>\n",
       "      <td>2016-05-06 07:28:58</td>\n",
       "      <td>Visakhapatnam</td>\n",
       "      <td>AndhraPradesh</td>\n",
       "      <td>83.372853</td>\n",
       "      <td>17.765826</td>\n",
       "    </tr>\n",
       "    <tr>\n",
       "      <th>239555</th>\n",
       "      <td>6.710249e+18</td>\n",
       "      <td>F</td>\n",
       "      <td>20</td>\n",
       "      <td>F23-</td>\n",
       "      <td>Coolpad</td>\n",
       "      <td>F2</td>\n",
       "      <td>3063136.0</td>\n",
       "      <td>2016-05-05 06:08:36</td>\n",
       "      <td>Visakhapatnam</td>\n",
       "      <td>AndhraPradesh</td>\n",
       "      <td>83.372853</td>\n",
       "      <td>17.765826</td>\n",
       "    </tr>\n",
       "    <tr>\n",
       "      <th>239556</th>\n",
       "      <td>6.710249e+18</td>\n",
       "      <td>F</td>\n",
       "      <td>20</td>\n",
       "      <td>F23-</td>\n",
       "      <td>Coolpad</td>\n",
       "      <td>F2</td>\n",
       "      <td>3107229.0</td>\n",
       "      <td>2016-05-02 07:18:18</td>\n",
       "      <td>Visakhapatnam</td>\n",
       "      <td>AndhraPradesh</td>\n",
       "      <td>83.372853</td>\n",
       "      <td>17.765826</td>\n",
       "    </tr>\n",
       "    <tr>\n",
       "      <th>239557</th>\n",
       "      <td>6.710249e+18</td>\n",
       "      <td>F</td>\n",
       "      <td>20</td>\n",
       "      <td>F23-</td>\n",
       "      <td>Coolpad</td>\n",
       "      <td>F2</td>\n",
       "      <td>3131978.0</td>\n",
       "      <td>2016-05-06 06:26:41</td>\n",
       "      <td>Visakhapatnam</td>\n",
       "      <td>AndhraPradesh</td>\n",
       "      <td>83.372853</td>\n",
       "      <td>17.765826</td>\n",
       "    </tr>\n",
       "    <tr>\n",
       "      <th>239558</th>\n",
       "      <td>6.710249e+18</td>\n",
       "      <td>F</td>\n",
       "      <td>20</td>\n",
       "      <td>F23-</td>\n",
       "      <td>Coolpad</td>\n",
       "      <td>F2</td>\n",
       "      <td>3131979.0</td>\n",
       "      <td>2016-05-06 06:27:00</td>\n",
       "      <td>Visakhapatnam</td>\n",
       "      <td>AndhraPradesh</td>\n",
       "      <td>83.372853</td>\n",
       "      <td>17.765826</td>\n",
       "    </tr>\n",
       "    <tr>\n",
       "      <th>239559</th>\n",
       "      <td>6.710249e+18</td>\n",
       "      <td>F</td>\n",
       "      <td>20</td>\n",
       "      <td>F23-</td>\n",
       "      <td>Coolpad</td>\n",
       "      <td>F2</td>\n",
       "      <td>3175058.0</td>\n",
       "      <td>2016-05-04 17:04:39</td>\n",
       "      <td>Visakhapatnam</td>\n",
       "      <td>AndhraPradesh</td>\n",
       "      <td>83.372853</td>\n",
       "      <td>17.765826</td>\n",
       "    </tr>\n",
       "  </tbody>\n",
       "</table>\n",
       "<p>235695 rows × 12 columns</p>\n",
       "</div>"
      ],
      "text/plain": [
       "           device_id gender  age   group phone_brand device_model   event_id  \\\n",
       "1      -1.039701e+18      M   38  M32-38      Xiaomi         MI 4    66535.0   \n",
       "2      -1.039701e+18      M   38  M32-38      Xiaomi         MI 4   142256.0   \n",
       "3      -1.039701e+18      M   38  M32-38      Xiaomi         MI 4   162135.0   \n",
       "4      -1.039701e+18      M   38  M32-38      Xiaomi         MI 4   172479.0   \n",
       "5      -1.039701e+18      M   38  M32-38      Xiaomi         MI 4   177903.0   \n",
       "6      -1.039701e+18      M   38  M32-38      Xiaomi         MI 4   268237.0   \n",
       "7      -1.039701e+18      M   38  M32-38      Xiaomi         MI 4   276261.0   \n",
       "8      -1.039701e+18      M   38  M32-38      Xiaomi         MI 4   287243.0   \n",
       "9      -1.039701e+18      M   38  M32-38      Xiaomi         MI 4   319831.0   \n",
       "10     -1.039701e+18      M   38  M32-38      Xiaomi         MI 4   336679.0   \n",
       "11     -1.039701e+18      M   38  M32-38      Xiaomi         MI 4   349318.0   \n",
       "12     -1.039701e+18      M   38  M32-38      Xiaomi         MI 4   417158.0   \n",
       "13     -1.039701e+18      M   38  M32-38      Xiaomi         MI 4   426826.0   \n",
       "14     -1.039701e+18      M   38  M32-38      Xiaomi         MI 4   508346.0   \n",
       "15     -1.039701e+18      M   38  M32-38      Xiaomi         MI 4   539983.0   \n",
       "16     -1.039701e+18      M   38  M32-38      Xiaomi         MI 4   562603.0   \n",
       "17     -1.039701e+18      M   38  M32-38      Xiaomi         MI 4   614324.0   \n",
       "18     -1.039701e+18      M   38  M32-38      Xiaomi         MI 4   673736.0   \n",
       "19     -1.039701e+18      M   38  M32-38      Xiaomi         MI 4   759143.0   \n",
       "20     -1.039701e+18      M   38  M32-38      Xiaomi         MI 4   780712.0   \n",
       "21     -1.039701e+18      M   38  M32-38      Xiaomi         MI 4   811978.0   \n",
       "22     -1.039701e+18      M   38  M32-38      Xiaomi         MI 4   818949.0   \n",
       "23     -1.039701e+18      M   38  M32-38      Xiaomi         MI 4   840274.0   \n",
       "24     -1.039701e+18      M   38  M32-38      Xiaomi         MI 4   963118.0   \n",
       "25     -1.039701e+18      M   38  M32-38      Xiaomi         MI 4   988066.0   \n",
       "26     -1.039701e+18      M   38  M32-38      Xiaomi         MI 4  1086418.0   \n",
       "27     -1.039701e+18      M   38  M32-38      Xiaomi         MI 4  1143559.0   \n",
       "28     -1.039701e+18      M   38  M32-38      Xiaomi         MI 4  1199775.0   \n",
       "29     -1.039701e+18      M   38  M32-38      Xiaomi         MI 4  1200125.0   \n",
       "30     -1.039701e+18      M   38  M32-38      Xiaomi         MI 4  1265355.0   \n",
       "...              ...    ...  ...     ...         ...          ...        ...   \n",
       "239530  6.710249e+18      F   20    F23-     Coolpad           F2  2205099.0   \n",
       "239531  6.710249e+18      F   20    F23-     Coolpad           F2  2205100.0   \n",
       "239532  6.710249e+18      F   20    F23-     Coolpad           F2  2207635.0   \n",
       "239533  6.710249e+18      F   20    F23-     Coolpad           F2  2231645.0   \n",
       "239534  6.710249e+18      F   20    F23-     Coolpad           F2  2261752.0   \n",
       "239535  6.710249e+18      F   20    F23-     Coolpad           F2  2285673.0   \n",
       "239536  6.710249e+18      F   20    F23-     Coolpad           F2  2325296.0   \n",
       "239537  6.710249e+18      F   20    F23-     Coolpad           F2  2430430.0   \n",
       "239538  6.710249e+18      F   20    F23-     Coolpad           F2  2454165.0   \n",
       "239539  6.710249e+18      F   20    F23-     Coolpad           F2  2470901.0   \n",
       "239540  6.710249e+18      F   20    F23-     Coolpad           F2  2485900.0   \n",
       "239541  6.710249e+18      F   20    F23-     Coolpad           F2  2495413.0   \n",
       "239542  6.710249e+18      F   20    F23-     Coolpad           F2  2511914.0   \n",
       "239543  6.710249e+18      F   20    F23-     Coolpad           F2  2531891.0   \n",
       "239544  6.710249e+18      F   20    F23-     Coolpad           F2  2615651.0   \n",
       "239545  6.710249e+18      F   20    F23-     Coolpad           F2  2644262.0   \n",
       "239546  6.710249e+18      F   20    F23-     Coolpad           F2  2697094.0   \n",
       "239547  6.710249e+18      F   20    F23-     Coolpad           F2  2737992.0   \n",
       "239548  6.710249e+18      F   20    F23-     Coolpad           F2  2771755.0   \n",
       "239549  6.710249e+18      F   20    F23-     Coolpad           F2  2798597.0   \n",
       "239550  6.710249e+18      F   20    F23-     Coolpad           F2  2873364.0   \n",
       "239551  6.710249e+18      F   20    F23-     Coolpad           F2  2920023.0   \n",
       "239552  6.710249e+18      F   20    F23-     Coolpad           F2  2941096.0   \n",
       "239553  6.710249e+18      F   20    F23-     Coolpad           F2  2948743.0   \n",
       "239554  6.710249e+18      F   20    F23-     Coolpad           F2  3046917.0   \n",
       "239555  6.710249e+18      F   20    F23-     Coolpad           F2  3063136.0   \n",
       "239556  6.710249e+18      F   20    F23-     Coolpad           F2  3107229.0   \n",
       "239557  6.710249e+18      F   20    F23-     Coolpad           F2  3131978.0   \n",
       "239558  6.710249e+18      F   20    F23-     Coolpad           F2  3131979.0   \n",
       "239559  6.710249e+18      F   20    F23-     Coolpad           F2  3175058.0   \n",
       "\n",
       "                  timestamp           city          state  longitude  \\\n",
       "1       2016-05-06 02:53:29  Visakhapatnam  AndhraPradesh  83.364566   \n",
       "2       2016-05-06 10:42:02  Visakhapatnam  AndhraPradesh  83.364566   \n",
       "3       2016-05-07 01:48:44  Visakhapatnam  AndhraPradesh  83.364566   \n",
       "4       2016-05-03 10:46:20  Visakhapatnam  AndhraPradesh  83.364566   \n",
       "5       2016-05-05 14:39:56  Visakhapatnam  AndhraPradesh  83.364566   \n",
       "6       2016-05-07 01:53:07  Visakhapatnam  AndhraPradesh  83.364566   \n",
       "7       2016-05-07 10:46:39  Visakhapatnam  AndhraPradesh  83.364566   \n",
       "8       2016-05-02 20:08:19  Visakhapatnam  AndhraPradesh  83.364566   \n",
       "9       2016-05-07 20:30:07  Visakhapatnam  AndhraPradesh  83.364566   \n",
       "10      2016-05-06 10:45:37  Visakhapatnam  AndhraPradesh  83.364566   \n",
       "11      2016-05-07 10:56:42  Visakhapatnam  AndhraPradesh  83.364566   \n",
       "12      2016-05-05 14:42:44  Visakhapatnam  AndhraPradesh  83.364566   \n",
       "13      2016-05-06 17:45:08  Visakhapatnam  AndhraPradesh  83.364566   \n",
       "14      2016-05-07 10:56:12  Visakhapatnam  AndhraPradesh  83.364566   \n",
       "15      2016-05-05 00:15:43  Visakhapatnam  AndhraPradesh  83.364566   \n",
       "16      2016-05-02 22:12:04  Visakhapatnam  AndhraPradesh  83.364566   \n",
       "17      2016-05-03 21:05:37  Visakhapatnam  AndhraPradesh  83.364566   \n",
       "18      2016-05-06 10:47:37  Visakhapatnam  AndhraPradesh  83.364566   \n",
       "19      2016-05-06 02:57:44  Visakhapatnam  AndhraPradesh  83.364566   \n",
       "20      2016-05-04 23:50:23  Visakhapatnam  AndhraPradesh  83.364566   \n",
       "21      2016-05-03 09:45:22  Visakhapatnam  AndhraPradesh  83.364566   \n",
       "22      2016-05-05 14:42:27  Visakhapatnam  AndhraPradesh  83.364566   \n",
       "23      2016-05-05 09:35:31  Visakhapatnam  AndhraPradesh  83.364566   \n",
       "24      2016-05-06 16:51:40  Visakhapatnam  AndhraPradesh  83.364566   \n",
       "25      2016-05-02 13:29:42  Visakhapatnam  AndhraPradesh  83.364566   \n",
       "26      2016-05-06 10:45:08  Visakhapatnam  AndhraPradesh  83.364566   \n",
       "27      2016-05-07 10:52:58  Visakhapatnam  AndhraPradesh  83.364566   \n",
       "28      2016-05-06 10:50:12  Visakhapatnam  AndhraPradesh  83.364566   \n",
       "29      2016-05-07 10:53:31  Visakhapatnam  AndhraPradesh  83.364566   \n",
       "30      2016-05-02 21:57:40  Visakhapatnam  AndhraPradesh  83.364566   \n",
       "...                     ...            ...            ...        ...   \n",
       "239530  2016-05-05 08:00:56  Visakhapatnam  AndhraPradesh  83.372853   \n",
       "239531  2016-05-05 08:01:26  Visakhapatnam  AndhraPradesh  83.372853   \n",
       "239532  2016-05-05 10:00:01  Visakhapatnam  AndhraPradesh  83.372853   \n",
       "239533  2016-05-04 09:15:41  Visakhapatnam  AndhraPradesh  83.372853   \n",
       "239534  2016-05-04 10:07:39  Visakhapatnam  AndhraPradesh  83.372853   \n",
       "239535  2016-05-05 10:00:30  Visakhapatnam  AndhraPradesh  83.372853   \n",
       "239536  2016-05-06 06:26:24  Visakhapatnam  AndhraPradesh  83.372853   \n",
       "239537  2016-05-02 15:20:26  Visakhapatnam  AndhraPradesh  83.372853   \n",
       "239538  2016-05-04 14:00:30  Visakhapatnam  AndhraPradesh  83.372853   \n",
       "239539  2016-05-06 06:27:35  Visakhapatnam  AndhraPradesh  83.372853   \n",
       "239540  2016-05-01 19:26:36  Visakhapatnam  AndhraPradesh  83.372853   \n",
       "239541  2016-05-03 05:36:21  Visakhapatnam  AndhraPradesh  83.372853   \n",
       "239542  2016-05-06 10:16:08  Visakhapatnam  AndhraPradesh  83.372853   \n",
       "239543  2016-05-06 20:24:18  Visakhapatnam  AndhraPradesh  83.372853   \n",
       "239544  2016-05-06 13:22:17  Visakhapatnam  AndhraPradesh  83.372853   \n",
       "239545  2016-05-05 08:06:44  Visakhapatnam  AndhraPradesh  83.372853   \n",
       "239546  2016-05-04 10:07:12  Visakhapatnam  AndhraPradesh  83.372853   \n",
       "239547  2016-05-04 09:16:51  Visakhapatnam  AndhraPradesh  83.372853   \n",
       "239548  2016-05-07 07:06:07  Visakhapatnam  AndhraPradesh  83.372853   \n",
       "239549  2016-05-05 08:09:45  Visakhapatnam  AndhraPradesh  83.372853   \n",
       "239550  2016-05-02 08:37:19  Visakhapatnam  AndhraPradesh  83.372853   \n",
       "239551  2016-05-04 19:33:16  Visakhapatnam  AndhraPradesh  83.372853   \n",
       "239552  2016-05-06 11:43:33  Visakhapatnam  AndhraPradesh  83.372853   \n",
       "239553  2016-05-03 16:48:57  Visakhapatnam  AndhraPradesh  83.372853   \n",
       "239554  2016-05-06 07:28:58  Visakhapatnam  AndhraPradesh  83.372853   \n",
       "239555  2016-05-05 06:08:36  Visakhapatnam  AndhraPradesh  83.372853   \n",
       "239556  2016-05-02 07:18:18  Visakhapatnam  AndhraPradesh  83.372853   \n",
       "239557  2016-05-06 06:26:41  Visakhapatnam  AndhraPradesh  83.372853   \n",
       "239558  2016-05-06 06:27:00  Visakhapatnam  AndhraPradesh  83.372853   \n",
       "239559  2016-05-04 17:04:39  Visakhapatnam  AndhraPradesh  83.372853   \n",
       "\n",
       "         latitude  \n",
       "1       17.788503  \n",
       "2       17.788503  \n",
       "3       17.788503  \n",
       "4       17.788503  \n",
       "5       17.788503  \n",
       "6       17.788503  \n",
       "7       17.788503  \n",
       "8       17.788503  \n",
       "9       17.788503  \n",
       "10      17.788503  \n",
       "11      17.788503  \n",
       "12      17.788503  \n",
       "13      17.788503  \n",
       "14      17.788503  \n",
       "15      17.788503  \n",
       "16      17.788503  \n",
       "17      17.788503  \n",
       "18      17.788503  \n",
       "19      17.788503  \n",
       "20      17.788503  \n",
       "21      17.788503  \n",
       "22      17.788503  \n",
       "23      17.788503  \n",
       "24      17.788503  \n",
       "25      17.788503  \n",
       "26      17.788503  \n",
       "27      17.788503  \n",
       "28      17.788503  \n",
       "29      17.788503  \n",
       "30      17.788503  \n",
       "...           ...  \n",
       "239530  17.765826  \n",
       "239531  17.765826  \n",
       "239532  17.765826  \n",
       "239533  17.765826  \n",
       "239534  17.765826  \n",
       "239535  17.765826  \n",
       "239536  17.765826  \n",
       "239537  17.765826  \n",
       "239538  17.765826  \n",
       "239539  17.765826  \n",
       "239540  17.765826  \n",
       "239541  17.765826  \n",
       "239542  17.765826  \n",
       "239543  17.765826  \n",
       "239544  17.765826  \n",
       "239545  17.765826  \n",
       "239546  17.765826  \n",
       "239547  17.765826  \n",
       "239548  17.765826  \n",
       "239549  17.765826  \n",
       "239550  17.765826  \n",
       "239551  17.765826  \n",
       "239552  17.765826  \n",
       "239553  17.765826  \n",
       "239554  17.765826  \n",
       "239555  17.765826  \n",
       "239556  17.765826  \n",
       "239557  17.765826  \n",
       "239558  17.765826  \n",
       "239559  17.765826  \n",
       "\n",
       "[235695 rows x 12 columns]"
      ]
     },
     "execution_count": 154,
     "metadata": {},
     "output_type": "execute_result"
    }
   ],
   "source": [
    "merge_all[merge_all.duplicated(subset = [\"device_id\"])]"
   ]
  },
  {
   "cell_type": "code",
   "execution_count": 133,
   "metadata": {},
   "outputs": [],
   "source": [
    "# merge_all_age = merge_all.groupby(['state'])['phone_brand'].value_counts() #point 5 \n",
    "# merge_all_age"
   ]
  },
  {
   "cell_type": "code",
   "execution_count": 134,
   "metadata": {},
   "outputs": [
    {
     "name": "stdout",
     "output_type": "stream",
     "text": [
      "----------- M -----------\n",
      "Xiaomi     41597\n",
      "Huawei     27131\n",
      "Samsung    26470\n",
      "OPPO       16349\n",
      "vivo       14431\n",
      "Meizu      10064\n",
      "Coolpad     8155\n",
      "HTC         3074\n",
      "Lenovo      1829\n",
      "Hisense     1066\n",
      "Name: phone_brand, dtype: int64\n",
      "----------- F -----------\n",
      "Xiaomi     23111\n",
      "Samsung    18847\n",
      "Huawei     11523\n",
      "vivo        7284\n",
      "OPPO        7153\n",
      "Meizu       5579\n",
      "Coolpad     3050\n",
      "Lenovo       664\n",
      "HTC          663\n",
      "Letters      469\n",
      "Name: phone_brand, dtype: int64\n"
     ]
    }
   ],
   "source": [
    "for i in merge_all['gender'].unique():\n",
    "    print ('-----------',i,'-----------')\n",
    "    print (merge_all[merge_all['gender']==i]['phone_brand'].value_counts().head(10))"
   ]
  },
  {
   "cell_type": "code",
   "execution_count": 135,
   "metadata": {},
   "outputs": [],
   "source": [
    "# merge_all_age = merge_all.groupby(['gender'])['phone_brand'].value_counts() #point 5 week3\n",
    "# merge_all_age"
   ]
  },
  {
   "cell_type": "code",
   "execution_count": 151,
   "metadata": {},
   "outputs": [
    {
     "data": {
      "text/plain": [
       "Xiaomi     64708\n",
       "Samsung    45317\n",
       "Huawei     38654\n",
       "OPPO       23502\n",
       "vivo       21715\n",
       "Meizu      15643\n",
       "Coolpad    11205\n",
       "HTC         3737\n",
       "Lenovo      2493\n",
       "Hisense     1296\n",
       "Name: phone_brand, dtype: int64"
      ]
     },
     "execution_count": 151,
     "metadata": {},
     "output_type": "execute_result"
    }
   ],
   "source": [
    "merge_all['phone_brand'].value_counts().nlargest(10) #point 2 week3"
   ]
  },
  {
   "cell_type": "code",
   "execution_count": 152,
   "metadata": {},
   "outputs": [
    {
     "data": {
      "text/plain": [
       "<matplotlib.axes._subplots.AxesSubplot at 0x1e789052780>"
      ]
     },
     "execution_count": 152,
     "metadata": {},
     "output_type": "execute_result"
    },
    {
     "data": {
      "image/png": "[encoded data removed]",
      "text/plain": [
       "<Figure size 432x288 with 1 Axes>"
      ]
     },
     "metadata": {
      "needs_background": "light"
     },
     "output_type": "display_data"
    }
   ],
   "source": [
    "merge_all['phone_brand'].value_counts().nlargest(10).plot.bar() #point 2 week3"
   ]
  },
  {
   "cell_type": "code",
   "execution_count": 137,
   "metadata": {},
   "outputs": [
    {
     "data": {
      "text/plain": [
       "M    157657\n",
       "F     81904\n",
       "Name: gender, dtype: int64"
      ]
     },
     "execution_count": 137,
     "metadata": {},
     "output_type": "execute_result"
    }
   ],
   "source": [
    "merge_all['gender'].value_counts() #point 3 week3"
   ]
  },
  {
   "cell_type": "code",
   "execution_count": null,
   "metadata": {},
   "outputs": [],
   "source": []
  },
  {
   "cell_type": "code",
   "execution_count": 155,
   "metadata": {},
   "outputs": [
    {
     "name": "stdout",
     "output_type": "stream",
     "text": [
      "----------- AndhraPradesh -----------\n",
      "M    153823\n",
      "F     79606\n",
      "Name: gender, dtype: int64\n",
      "----------- Meghalaya -----------\n",
      "M    872\n",
      "F    528\n",
      "Name: gender, dtype: int64\n",
      "----------- Mizoram -----------\n",
      "M    618\n",
      "F    598\n",
      "Name: gender, dtype: int64\n",
      "----------- Pondicherry -----------\n",
      "M    841\n",
      "F    519\n",
      "Name: gender, dtype: int64\n",
      "----------- AndamanandNicobarIslands -----------\n",
      "M    1188\n",
      "F     114\n",
      "Name: gender, dtype: int64\n",
      "----------- HimachalPradesh -----------\n",
      "F    539\n",
      "M    315\n",
      "Name: gender, dtype: int64\n"
     ]
    }
   ],
   "source": [
    "for i in merge_all['state'].unique():\n",
    "    print ('-----------',i,'-----------')\n",
    "    print (merge_all[merge_all['state']==i]['gender'].value_counts().head(10))"
   ]
  },
  {
   "cell_type": "code",
   "execution_count": 139,
   "metadata": {},
   "outputs": [
    {
     "name": "stdout",
     "output_type": "stream",
     "text": [
      "----------- M -----------\n",
      "Xiaomi     41597\n",
      "Huawei     27131\n",
      "Samsung    26470\n",
      "OPPO       16349\n",
      "vivo       14431\n",
      "Meizu      10064\n",
      "Coolpad     8155\n",
      "HTC         3074\n",
      "Lenovo      1829\n",
      "Hisense     1066\n",
      "Name: phone_brand, dtype: int64\n",
      "----------- F -----------\n",
      "Xiaomi     23111\n",
      "Samsung    18847\n",
      "Huawei     11523\n",
      "vivo        7284\n",
      "OPPO        7153\n",
      "Meizu       5579\n",
      "Coolpad     3050\n",
      "Lenovo       664\n",
      "HTC          663\n",
      "Letters      469\n",
      "Name: phone_brand, dtype: int64\n"
     ]
    }
   ],
   "source": [
    "for i in merge_all['gender'].unique():\n",
    "    print ('-----------',i,'-----------')\n",
    "    print (merge_all[merge_all['gender']==i]['phone_brand'].value_counts().head(10))"
   ]
  },
  {
   "cell_type": "code",
   "execution_count": 140,
   "metadata": {},
   "outputs": [
    {
     "name": "stdout",
     "output_type": "stream",
     "text": [
      "----------- M32-38 -----------\n",
      "Samsung         6200\n",
      "Xiaomi          6012\n",
      "Huawei          5389\n",
      "OPPO            3464\n",
      "vivo            1495\n",
      "Meizu           1458\n",
      "Hisense          945\n",
      "Coolpad          887\n",
      "China Mobile     386\n",
      "LeEco            339\n",
      "Name: phone_brand, dtype: int64\n",
      "----------- M29-31 -----------\n",
      "Huawei     5488\n",
      "Xiaomi     5424\n",
      "Samsung    3972\n",
      "Coolpad    2151\n",
      "Meizu      1499\n",
      "vivo       1388\n",
      "HTC        1369\n",
      "OPPO       1249\n",
      "Lenovo      215\n",
      "ZUK         140\n",
      "Name: phone_brand, dtype: int64\n",
      "----------- M39+ -----------\n",
      "Xiaomi     7274\n",
      "Samsung    5254\n",
      "Huawei     5123\n",
      "OPPO       1973\n",
      "Meizu      1972\n",
      "vivo       1368\n",
      "Coolpad    1166\n",
      "Lenovo      752\n",
      "HTC         626\n",
      "Duowei      428\n",
      "Name: phone_brand, dtype: int64\n",
      "----------- M27-28 -----------\n",
      "Samsung         4004\n",
      "Huawei          3445\n",
      "Xiaomi          2680\n",
      "OPPO            2226\n",
      "Meizu            946\n",
      "vivo             897\n",
      "Coolpad          666\n",
      "HTC              397\n",
      "China Mobile     188\n",
      "Qiku             174\n",
      "Name: phone_brand, dtype: int64\n",
      "----------- M23-26 -----------\n",
      "Xiaomi     12397\n",
      "vivo        5546\n",
      "Samsung     4541\n",
      "OPPO        4422\n",
      "Huawei      3947\n",
      "Meizu       2648\n",
      "Coolpad     1680\n",
      "Aipair       566\n",
      "HTC          531\n",
      "Lenovo       230\n",
      "Name: phone_brand, dtype: int64\n",
      "----------- F29-32 -----------\n",
      "Xiaomi     4421\n",
      "Huawei     3243\n",
      "Samsung    3112\n",
      "Meizu      1320\n",
      "vivo       1315\n",
      "OPPO        411\n",
      "Hammer      219\n",
      "Coolpad     195\n",
      "LeEco       154\n",
      "Lenovo       43\n",
      "Name: phone_brand, dtype: int64\n",
      "----------- F27-28 -----------\n",
      "Xiaomi     2154\n",
      "Samsung    1893\n",
      "OPPO       1634\n",
      "vivo       1260\n",
      "Meizu       887\n",
      "Huawei      551\n",
      "Coolpad     440\n",
      "Nubia       206\n",
      "Hammer      147\n",
      "Lenovo      137\n",
      "Name: phone_brand, dtype: int64\n",
      "----------- F43+ -----------\n",
      "Samsung         4330\n",
      "Xiaomi          2813\n",
      "Huawei          1258\n",
      "OPPO            1109\n",
      "vivo             540\n",
      "Meizu            427\n",
      "Coolpad          366\n",
      "Lenovo           171\n",
      "Hisense          151\n",
      "China Mobile     120\n",
      "Name: phone_brand, dtype: int64\n",
      "----------- F33-42 -----------\n",
      "Xiaomi     6104\n",
      "Samsung    4617\n",
      "Huawei     2983\n",
      "Meizu      1770\n",
      "vivo       1557\n",
      "OPPO       1440\n",
      "Coolpad     598\n",
      "Letters     465\n",
      "TCL         357\n",
      "HTC         253\n",
      "Name: phone_brand, dtype: int64\n",
      "----------- M22- -----------\n",
      "Xiaomi     7810\n",
      "Huawei     3739\n",
      "vivo       3737\n",
      "OPPO       3015\n",
      "Samsung    2499\n",
      "Coolpad    1605\n",
      "Meizu      1541\n",
      "LeEco       452\n",
      "Lenovo      376\n",
      "Nubia       270\n",
      "Name: phone_brand, dtype: int64\n",
      "----------- F23- -----------\n",
      "Xiaomi        4159\n",
      "Samsung       2810\n",
      "OPPO          1554\n",
      "Huawei        1535\n",
      "vivo          1065\n",
      "Coolpad       1001\n",
      "Meizu          521\n",
      "Cubei Cube     396\n",
      "HTC            299\n",
      "Duowei         213\n",
      "Name: phone_brand, dtype: int64\n",
      "----------- F24-26 -----------\n",
      "Xiaomi     3460\n",
      "Samsung    2085\n",
      "Huawei     1953\n",
      "vivo       1547\n",
      "OPPO       1005\n",
      "Meizu       654\n",
      "Coolpad     450\n",
      "LG          258\n",
      "Hisense      73\n",
      " Focus       41\n",
      "Name: phone_brand, dtype: int64\n"
     ]
    }
   ],
   "source": [
    "for i in merge_all['group'].unique():\n",
    "    print ('-----------',i,'-----------')\n",
    "    print (merge_all[merge_all['group']==i]['phone_brand'].value_counts().head(10))"
   ]
  },
  {
   "cell_type": "code",
   "execution_count": 141,
   "metadata": {},
   "outputs": [
    {
     "name": "stdout",
     "output_type": "stream",
     "text": [
      "(array([     0,  11230, 117022,  71013,  26851,   8827,   3187,   1398,\n",
      "           33,      0], dtype=int64), array([  0,  10,  20,  30,  40,  50,  60,  70,  80,  90, 100]))\n"
     ]
    }
   ],
   "source": [
    "bins = np.histogram(merge_all[\"age\"], bins=[0, 10, 20, 30, 40, 50, 60, 70, 80, 90, 100])\n",
    "print(bins)"
   ]
  }
 ],
 "metadata": {
  "kernelspec": {
   "display_name": "Python 3",
   "language": "python",
   "name": "python3"
  },
  "language_info": {
   "codemirror_mode": {
    "name": "ipython",
    "version": 3
   },
   "file_extension": ".py",
   "mimetype": "text/x-python",
   "name": "python",
   "nbconvert_exporter": "python",
   "pygments_lexer": "ipython3",
   "version": "3.7.3"
  }
 },
 "nbformat": 4,
 "nbformat_minor": 2
}
